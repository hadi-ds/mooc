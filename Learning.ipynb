{
 "cells": [
  {
   "cell_type": "code",
   "execution_count": 1,
   "metadata": {
    "collapsed": false
   },
   "outputs": [
    {
     "name": "stdout",
     "output_type": "stream",
     "text": [
      "Populating the interactive namespace from numpy and matplotlib\n"
     ]
    }
   ],
   "source": [
    "import pandas as pd\n",
    "import numpy as np\n",
    "import seaborn as sns\n",
    "%pylab inline"
   ]
  },
  {
   "cell_type": "markdown",
   "metadata": {},
   "source": [
    "### Load the data, remove inactive students and impute missing values. \n",
    "I impute missing values manually, replacing with 'means' for symmetric cases [age] and 'median' for long-tailed ones [# videos and chapters].   "
   ]
  },
  {
   "cell_type": "code",
   "execution_count": 53,
   "metadata": {
    "collapsed": false
   },
   "outputs": [
    {
     "data": {
      "text/plain": [
       "<matplotlib.text.Text at 0x7f6ba0f9eed0>"
      ]
     },
     "execution_count": 53,
     "metadata": {},
     "output_type": "execute_result"
    },
    {
     "data": {
      "image/png": "[encoded data removed]",
      "text/plain": [
       "<matplotlib.figure.Figure at 0x7f6ba795df50>"
      ]
     },
     "metadata": {},
     "output_type": "display_data"
    }
   ],
   "source": [
    "df = pd.read_csv('learn.csv')\n",
    "sns.set_style('darkgrid')\n",
    "\n",
    "temp = filter(lambda x: pd.notnull(x), df.nchapters)\n",
    "plt.subplot(221, title = '# chapters accessed')\n",
    "plt.hist(temp, 20);\n",
    "\n",
    "temp = filter(lambda x: pd.notnull(x), df.nplay_video)\n",
    "plt.subplot(222, title = '# videos watched')\n",
    "plt.xlim(0, 500)\n",
    "plt.hist(temp, 5000);\n",
    "\n",
    "temp = filter(lambda x: pd.notnull(x), df.YoB)\n",
    "course_yr = 2012.5\n",
    "temp = map(lambda x: course_yr - x, temp)\n",
    "plt.subplot(223)\n",
    "plt.hist(temp, 20);\n",
    "plt.xlabel('age')"
   ]
  },
  {
   "cell_type": "markdown",
   "metadata": {},
   "source": [
    "##Churn = 1 for those who didn't complete the course."
   ]
  },
  {
   "cell_type": "code",
   "execution_count": 54,
   "metadata": {
    "collapsed": false
   },
   "outputs": [],
   "source": [
    "# remove inactive students: those with 'nevents' being 'NaN'.\n",
    "df = df[pd.notnull(df.nevents)]\n",
    "df.index = range(df.shape[0])\n",
    "\n",
    "temp = []\n",
    "# Convert cathegoricals to numerics and impute missing values: \n",
    "for i in xrange(df.shape[0]): \n",
    "    if df['LoE_DI'][i] == 'Less than Secondary':\n",
    "        temp.append(1)\n",
    "    elif df['LoE_DI'][i] == 'Secondary':\n",
    "        temp.append(2)\n",
    "    elif df['LoE_DI'][i] == 'Bachelor\\'s':\n",
    "        temp.append(3)\n",
    "    elif df['LoE_DI'][i] == 'Master\\'s':\n",
    "        temp.append(4)\n",
    "    elif df['LoE_DI'][i] == 'Doctorate':\n",
    "        temp.append(5)\n",
    "    else:\n",
    "        temp.append(0)\n",
    "        \n",
    "df['LoE_DI'] = temp\n",
    "temp = []        \n",
    "for i in xrange(df.shape[0]):\n",
    "    if df['gender'][i] == 'm': #male\n",
    "        temp.append(1)\n",
    "    elif df['gender'][i] == 'f':\n",
    "        temp.append(2)\n",
    "    else:\n",
    "        temp.append(0)\n",
    "        \n",
    "df['gender'] = temp\n",
    "del temp\n",
    "\n",
    "#Replace 'NaN' with mean or median\n",
    "temp = filter(lambda x: pd.notnull(x), df.nchapters)\n",
    "df['nchapters'].fillna(median(temp), inplace=True)\n",
    "\n",
    "temp = filter(lambda x: pd.notnull(x), df.nplay_video)\n",
    "df['nplay_video'].fillna(median(temp), inplace=True)\n",
    "\n",
    "temp = filter(lambda x: pd.notnull(x), df.YoB)\n",
    "df['YoB'].fillna(mean(temp), inplace=True)\n",
    "\n",
    "#convert YoB to age:\n",
    "course_yr = 2012.5\n",
    "df['Age'] = df['YoB'].map(lambda x: course_yr - x)\n",
    "\n",
    "#Convert 'certified' to 'Churn'\n",
    "Churn = df['certified'].map(lambda x: 1 - x)\n",
    "    \n",
    "del df['YoB'], df['certified'], df['grade'], df['course_id']"
   ]
  },
  {
   "cell_type": "code",
   "execution_count": 55,
   "metadata": {
    "collapsed": false
   },
   "outputs": [
    {
     "data": {
      "text/html": [
       "<div style=\"max-height:1000px;max-width:1500px;overflow:auto;\">\n",
       "<table border=\"1\" class=\"dataframe\">\n",
       "  <thead>\n",
       "    <tr style=\"text-align: right;\">\n",
       "      <th></th>\n",
       "      <th>viewed</th>\n",
       "      <th>explored</th>\n",
       "      <th>LoE_DI</th>\n",
       "      <th>gender</th>\n",
       "      <th>nevents</th>\n",
       "      <th>ndays_act</th>\n",
       "      <th>nplay_video</th>\n",
       "      <th>nchapters</th>\n",
       "      <th>nforum_posts</th>\n",
       "      <th>subject</th>\n",
       "      <th>instructor</th>\n",
       "      <th>no_courses</th>\n",
       "      <th>student_regis_to_launch</th>\n",
       "      <th>course_duration</th>\n",
       "      <th>last_event_to_launch</th>\n",
       "      <th>regis_open_to_launch</th>\n",
       "      <th>Age</th>\n",
       "    </tr>\n",
       "  </thead>\n",
       "  <tbody>\n",
       "    <tr>\n",
       "      <th>0</th>\n",
       "      <td>1</td>\n",
       "      <td>1</td>\n",
       "      <td>0</td>\n",
       "      <td>0</td>\n",
       "      <td>502</td>\n",
       "      <td>16</td>\n",
       "      <td>50</td>\n",
       "      <td>12</td>\n",
       "      <td>0</td>\n",
       "      <td>10000000</td>\n",
       "      <td>366000</td>\n",
       "      <td>15</td>\n",
       "      <td>-4.000000</td>\n",
       "      <td>15.714286</td>\n",
       "      <td>31.857143</td>\n",
       "      <td>-11.571429</td>\n",
       "      <td>27.011261</td>\n",
       "    </tr>\n",
       "    <tr>\n",
       "      <th>1</th>\n",
       "      <td>1</td>\n",
       "      <td>0</td>\n",
       "      <td>0</td>\n",
       "      <td>0</td>\n",
       "      <td>42</td>\n",
       "      <td>6</td>\n",
       "      <td>18</td>\n",
       "      <td>3</td>\n",
       "      <td>0</td>\n",
       "      <td>1900000</td>\n",
       "      <td>600000</td>\n",
       "      <td>4</td>\n",
       "      <td>-10.285714</td>\n",
       "      <td>23.285714</td>\n",
       "      <td>8.714286</td>\n",
       "      <td>-12.714286</td>\n",
       "      <td>27.011261</td>\n",
       "    </tr>\n",
       "    <tr>\n",
       "      <th>2</th>\n",
       "      <td>1</td>\n",
       "      <td>0</td>\n",
       "      <td>0</td>\n",
       "      <td>0</td>\n",
       "      <td>70</td>\n",
       "      <td>3</td>\n",
       "      <td>18</td>\n",
       "      <td>3</td>\n",
       "      <td>0</td>\n",
       "      <td>1900000</td>\n",
       "      <td>600000</td>\n",
       "      <td>7</td>\n",
       "      <td>-3.571429</td>\n",
       "      <td>23.285714</td>\n",
       "      <td>0.571429</td>\n",
       "      <td>-12.714286</td>\n",
       "      <td>27.011261</td>\n",
       "    </tr>\n",
       "    <tr>\n",
       "      <th>3</th>\n",
       "      <td>1</td>\n",
       "      <td>0</td>\n",
       "      <td>0</td>\n",
       "      <td>0</td>\n",
       "      <td>17</td>\n",
       "      <td>2</td>\n",
       "      <td>18</td>\n",
       "      <td>2</td>\n",
       "      <td>0</td>\n",
       "      <td>500000000</td>\n",
       "      <td>500000</td>\n",
       "      <td>7</td>\n",
       "      <td>-1.285714</td>\n",
       "      <td>20.571429</td>\n",
       "      <td>14.571429</td>\n",
       "      <td>-11.142857</td>\n",
       "      <td>27.011261</td>\n",
       "    </tr>\n",
       "    <tr>\n",
       "      <th>4</th>\n",
       "      <td>1</td>\n",
       "      <td>0</td>\n",
       "      <td>0</td>\n",
       "      <td>0</td>\n",
       "      <td>32</td>\n",
       "      <td>1</td>\n",
       "      <td>18</td>\n",
       "      <td>3</td>\n",
       "      <td>0</td>\n",
       "      <td>500000000</td>\n",
       "      <td>500000</td>\n",
       "      <td>2</td>\n",
       "      <td>15.000000</td>\n",
       "      <td>20.571429</td>\n",
       "      <td>15.000000</td>\n",
       "      <td>-11.142857</td>\n",
       "      <td>27.011261</td>\n",
       "    </tr>\n",
       "  </tbody>\n",
       "</table>\n",
       "</div>"
      ],
      "text/plain": [
       "   viewed  explored  LoE_DI  gender  nevents  ndays_act  nplay_video  \\\n",
       "0       1         1       0       0      502         16           50   \n",
       "1       1         0       0       0       42          6           18   \n",
       "2       1         0       0       0       70          3           18   \n",
       "3       1         0       0       0       17          2           18   \n",
       "4       1         0       0       0       32          1           18   \n",
       "\n",
       "   nchapters  nforum_posts    subject  instructor  no_courses  \\\n",
       "0         12             0   10000000      366000          15   \n",
       "1          3             0    1900000      600000           4   \n",
       "2          3             0    1900000      600000           7   \n",
       "3          2             0  500000000      500000           7   \n",
       "4          3             0  500000000      500000           2   \n",
       "\n",
       "   student_regis_to_launch  course_duration  last_event_to_launch  \\\n",
       "0                -4.000000        15.714286             31.857143   \n",
       "1               -10.285714        23.285714              8.714286   \n",
       "2                -3.571429        23.285714              0.571429   \n",
       "3                -1.285714        20.571429             14.571429   \n",
       "4                15.000000        20.571429             15.000000   \n",
       "\n",
       "   regis_open_to_launch        Age  \n",
       "0            -11.571429  27.011261  \n",
       "1            -12.714286  27.011261  \n",
       "2            -12.714286  27.011261  \n",
       "3            -11.142857  27.011261  \n",
       "4            -11.142857  27.011261  "
      ]
     },
     "execution_count": 55,
     "metadata": {},
     "output_type": "execute_result"
    }
   ],
   "source": [
    "df.head()"
   ]
  },
  {
   "cell_type": "markdown",
   "metadata": {},
   "source": [
    "## Setting necessary learning, validation and plotting functions"
   ]
  },
  {
   "cell_type": "code",
   "execution_count": 6,
   "metadata": {
    "collapsed": false
   },
   "outputs": [],
   "source": [
    "def normalize(d_f): # normalize the features\n",
    "    from sklearn import preprocessing\n",
    "    X = d_f.as_matrix().astype(np.float)\n",
    "    return preprocessing.scale(X)\n",
    "\n",
    "def accuracy(y_true,y_pred): \n",
    "    return np.mean(y_true == y_pred)"
   ]
  },
  {
   "cell_type": "code",
   "execution_count": 11,
   "metadata": {
    "collapsed": false
   },
   "outputs": [],
   "source": [
    "def run_cv(X,features,y,clf_class,**kwargs): # makes cross-validated learning and predictions\n",
    "    \n",
    "    from sklearn.ensemble import RandomForestClassifier as RF\n",
    "    from sklearn.cross_validation import KFold\n",
    "    n_features = len(features)\n",
    "    n_folds = 2\n",
    "    \n",
    "    kf = KFold(len(y),n_folds=n_folds,shuffle=True)\n",
    "    y_pred = y.copy()\n",
    "    feature_imprt = [0 for i in xrange(n_features)]\n",
    "    \n",
    "    #Iterate through folds\n",
    "    for train_index, test_index in kf:\n",
    "        X_train, X_test = X[train_index], X[test_index]\n",
    "        y_train = y[train_index]\n",
    "        # Initialize a classifier \n",
    "        clf = clf_class(**kwargs)\n",
    "        clf.fit(X_train,y_train)\n",
    "        y_pred[test_index] = clf.predict(X_test)\n",
    "        \n",
    "        if clf_class == RF:\n",
    "            for i in xrange(n_features):\n",
    "                feature_imprt[i] += clf.feature_importances_[i]/n_folds\n",
    "            \n",
    "        #print type(clf.feature_importances_)\n",
    "    \n",
    "    #print clf.get_params() \n",
    "    #for i in xrange(len(features)):\n",
    "     #   print \"%s: %.4f\" % (features[i], ftr_impr[i]/n_folds) \n",
    "    \n",
    "    imprt = {} # 'feature importances' in case of using random forrest classifier\n",
    "    if clf_class == RF:\n",
    "        for i in xrange(n_features):\n",
    "            imprt[features[i]] = feature_imprt[i]\n",
    "            #print \"%s: %.3f\" % (features[i], ftr_impr[i])        \n",
    "    return y_pred, imprt    \n"
   ]
  },
  {
   "cell_type": "markdown",
   "metadata": {},
   "source": [
    "### The churn (% of non-certified students) is high:"
   ]
  },
  {
   "cell_type": "code",
   "execution_count": 8,
   "metadata": {
    "collapsed": false
   },
   "outputs": [
    {
     "name": "stdout",
     "output_type": "stream",
     "text": [
      "Churn rate is 96%.\n"
     ]
    }
   ],
   "source": [
    "z = [Churn[i] for i in xrange(df.shape[0]) if Churn[i] == 1]\n",
    "print \"Churn rate is %d%%.\" % (100*len(z)/df.shape[0])"
   ]
  },
  {
   "cell_type": "markdown",
   "metadata": {},
   "source": [
    "###We can run a classifier on the data to predict student churn, however the problem is that data is highly unbalanced: \n",
    "96% of users do not get ceritifed at the end. A classifier that is trained on such unbalanced data can then be biased. In order to get around this, these are a list of actions that can be taken:\n",
    "- **Using part of positive data**:\n",
    "\n",
    "  One can make a balanced data set for training by choosing all minority records plus a random sample of the same size from majority class. The probelm is that most of the data (of positive class) is left out of training. \n",
    "  \n",
    "\n",
    "- **Oversampling**:\n",
    "\n",
    "  This involves oversampling the minority class to create a balanced data for training, by bootstrapping the minority class and adding small Gaussian noise to the features to prevent duplicates.  \n",
    "  \n",
    "  \n",
    "  \n",
    "  - **Using different penalty parameters**:\n",
    "  \n",
    "  One can use 'C-support vector classifier' and set the penalty parameter *C* inversely proportional to class frequencies. By doing so the classifier punishes misclassifying records belonging to the minority class more strongly. In scikit-learn this is implemented by setting *'class_weight = 'auto'*.  This is what I do here.  \n"
   ]
  },
  {
   "cell_type": "code",
   "execution_count": 16,
   "metadata": {
    "collapsed": false
   },
   "outputs": [
    {
     "name": "stdout",
     "output_type": "stream",
     "text": [
      "Support vector machine accuracy: 0.957\n"
     ]
    }
   ],
   "source": [
    "from sklearn.svm import LinearSVC\n",
    "\n",
    "X = normalize(df)\n",
    "res = run_cv(X, df.columns, Churn, LinearSVC, class_weight='auto')\n",
    "churn_pred = res[0]\n",
    "print \"Support vector machine accuracy: %.3f\" % accuracy(Churn, churn_pred)"
   ]
  },
  {
   "cell_type": "code",
   "execution_count": null,
   "metadata": {
    "collapsed": true
   },
   "outputs": [],
   "source": []
  },
  {
   "cell_type": "markdown",
   "metadata": {},
   "source": [
    "## How good is the classifier?"
   ]
  },
  {
   "cell_type": "markdown",
   "metadata": {},
   "source": [
    "## Confusion matrix"
   ]
  },
  {
   "cell_type": "code",
   "execution_count": 17,
   "metadata": {
    "collapsed": false
   },
   "outputs": [],
   "source": [
    "from sklearn.metrics import confusion_matrix\n",
    "\n",
    "confusion_matrices = [\n",
    "    ( \"LinearSVC\", confusion_matrix(Churn,run_cv(X,df.columns, Churn, LinearSVC)[0])),\n",
    "    ]"
   ]
  },
  {
   "cell_type": "code",
   "execution_count": 44,
   "metadata": {
    "collapsed": false
   },
   "outputs": [],
   "source": [
    "def plot_confusion_matrix(confusion_matrices):\n",
    "    import matplotlib.pyplot as plt\n",
    "    import numpy as np\n",
    "    \n",
    "    conf_arr = confusion_matrices\n",
    "    norm_conf = []\n",
    "    for i in conf_arr:\n",
    "        a = 0\n",
    "        tmp_arr = []\n",
    "        a = sum(i, 0)\n",
    "        for j in i:\n",
    "            tmp_arr.append(float(j)/float(a))\n",
    "        norm_conf.append(tmp_arr)\n",
    "            \n",
    "    fig = plt.figure()  \n",
    "    plt.clf()\n",
    "    ax = fig.add_subplot(111)\n",
    "    ax.set_aspect(1)\n",
    "    res = ax.imshow(np.array(norm_conf), cmap=plt.cm.jet, interpolation='nearest') \n",
    "    \n",
    "    width = len(conf_arr)\n",
    "    height = len(conf_arr[0])\n",
    "    for x in xrange(width):\n",
    "        for y in xrange(height):\n",
    "            ax.annotate(str(conf_arr[x][y]), xy=(y, x), horizontalalignment='center', verticalalignment='center',\n",
    "                        fontsize = 'xx-large')\n",
    "            alphabet = ['retention','churn']\n",
    "            plt.ylabel('True class', fontsize = 'xx-large')\n",
    "            plt.xlabel('Pred. class', fontsize = 'xx-large')\n",
    "            plt.yticks(range(height), alphabet[:height], fontsize = 'xx-large')\n",
    "            plt.savefig('confusion_matrix.png', format='png')"
   ]
  },
  {
   "cell_type": "markdown",
   "metadata": {},
   "source": [
    "## Recall and precision"
   ]
  },
  {
   "cell_type": "code",
   "execution_count": 45,
   "metadata": {
    "collapsed": false
   },
   "outputs": [
    {
     "name": "stdout",
     "output_type": "stream",
     "text": [
      "\n",
      "\n",
      "Recall and precesion for SVC:  \"recall=0.993, precision=0.986\"\n",
      "\n"
     ]
    },
    {
     "data": {
      "image/png": "[encoded data removed]",
      "text/plain": [
       "<matplotlib.figure.Figure at 0x7f6ba795d950>"
      ]
     },
     "metadata": {},
     "output_type": "display_data"
    }
   ],
   "source": [
    "sns.set_style('white')\n",
    "plot_confusion_matrix(confusion_matrices[0][1])\n",
    "print \"\\n\"\n",
    "\n",
    "rf_conf = confusion_matrices[0][1]\n",
    "print \"Recall and precesion for SVC:  \\\"recall=%.3f, precision=%.3f\\\"\\n\" % (float(rf_conf[1][1])/\n",
    "                                                  (rf_conf[1][1]+rf_conf[1][0]), \n",
    "                                                  float(rf_conf[1][1])/(rf_conf[1][1]+rf_conf[0][1]))"
   ]
  },
  {
   "cell_type": "markdown",
   "metadata": {},
   "source": [
    "###I use random forrest classifier to get feature importances:"
   ]
  },
  {
   "cell_type": "code",
   "execution_count": 64,
   "metadata": {
    "collapsed": false
   },
   "outputs": [
    {
     "name": "stdout",
     "output_type": "stream",
     "text": [
      "Random forest accuracy: 0.987\n"
     ]
    },
    {
     "data": {
      "image/png": "[encoded data removed]",
      "text/plain": [
       "<matplotlib.figure.Figure at 0x7f6b9d3beb90>"
      ]
     },
     "metadata": {},
     "output_type": "display_data"
    }
   ],
   "source": [
    "from sklearn.ensemble import RandomForestClassifier as RF\n",
    "\n",
    "X = normalize(df)\n",
    "res = run_cv(X,df.columns, Churn, RF)\n",
    "churn_pred = res[0]\n",
    "feat_impr = res[1]\n",
    "print \"Random forest accuracy: %.3f\" % accuracy(Churn, churn_pred)\n",
    "\n",
    "import operator\n",
    "feat = []\n",
    "impr = []\n",
    "fi = sorted(feat_impr.items(), key=operator.itemgetter(1))\n",
    "for i in xrange(len(feat_impr)):\n",
    "    feat.append(fi[i][0])\n",
    "    impr.append(fi[i][1])\n",
    "\n",
    "N = X.shape[1]\n",
    "ind = np.arange(N)    #x locations for the groups\n",
    "width = 0.75       #width of the bars\n",
    "\n",
    "import seaborn as sns\n",
    "sns.set_style('darkgrid')\n",
    "\n",
    "p1 = plt.barh(ind, impr, width, color='greenyellow')\n",
    "\n",
    "plt.xlabel('Feature importance', fontsize = 'xx-large')\n",
    "plt.yticks(ind+width/2., feat, rotation=0, fontsize = 'xx-large')\n",
    "plt.savefig('feat_impr_certify.eps', format='eps')\n",
    "\n",
    "plt.show()"
   ]
  },
  {
   "cell_type": "markdown",
   "metadata": {
    "collapsed": true
   },
   "source": [
    "### The certification rate is quite low, whereas view rate is high (~70%). Viewing the course content is also when ones starts to learn from the coruse. So, I classify students based on '*course view*'. "
   ]
  },
  {
   "cell_type": "code",
   "execution_count": 61,
   "metadata": {
    "collapsed": false
   },
   "outputs": [],
   "source": [
    "df_view = df.copy()\n",
    "viewed = df['viewed']\n",
    "del df_view['viewed'], df_view['explored'], df_view['nevents'], df_view['ndays_act'], df_view['nplay_video'] \n",
    "del df_view['nchapters']#, df_view['nforum_posts']"
   ]
  },
  {
   "cell_type": "code",
   "execution_count": 62,
   "metadata": {
    "collapsed": false
   },
   "outputs": [
    {
     "data": {
      "text/html": [
       "<div style=\"max-height:1000px;max-width:1500px;overflow:auto;\">\n",
       "<table border=\"1\" class=\"dataframe\">\n",
       "  <thead>\n",
       "    <tr style=\"text-align: right;\">\n",
       "      <th></th>\n",
       "      <th>LoE_DI</th>\n",
       "      <th>gender</th>\n",
       "      <th>nforum_posts</th>\n",
       "      <th>subject</th>\n",
       "      <th>instructor</th>\n",
       "      <th>no_courses</th>\n",
       "      <th>student_regis_to_launch</th>\n",
       "      <th>course_duration</th>\n",
       "      <th>last_event_to_launch</th>\n",
       "      <th>regis_open_to_launch</th>\n",
       "      <th>Age</th>\n",
       "    </tr>\n",
       "  </thead>\n",
       "  <tbody>\n",
       "    <tr>\n",
       "      <th>0</th>\n",
       "      <td>0</td>\n",
       "      <td>0</td>\n",
       "      <td>0</td>\n",
       "      <td>10000000</td>\n",
       "      <td>366000</td>\n",
       "      <td>15</td>\n",
       "      <td>-4.000000</td>\n",
       "      <td>15.714286</td>\n",
       "      <td>31.857143</td>\n",
       "      <td>-11.571429</td>\n",
       "      <td>27.011261</td>\n",
       "    </tr>\n",
       "    <tr>\n",
       "      <th>1</th>\n",
       "      <td>0</td>\n",
       "      <td>0</td>\n",
       "      <td>0</td>\n",
       "      <td>1900000</td>\n",
       "      <td>600000</td>\n",
       "      <td>4</td>\n",
       "      <td>-10.285714</td>\n",
       "      <td>23.285714</td>\n",
       "      <td>8.714286</td>\n",
       "      <td>-12.714286</td>\n",
       "      <td>27.011261</td>\n",
       "    </tr>\n",
       "    <tr>\n",
       "      <th>2</th>\n",
       "      <td>0</td>\n",
       "      <td>0</td>\n",
       "      <td>0</td>\n",
       "      <td>1900000</td>\n",
       "      <td>600000</td>\n",
       "      <td>7</td>\n",
       "      <td>-3.571429</td>\n",
       "      <td>23.285714</td>\n",
       "      <td>0.571429</td>\n",
       "      <td>-12.714286</td>\n",
       "      <td>27.011261</td>\n",
       "    </tr>\n",
       "    <tr>\n",
       "      <th>3</th>\n",
       "      <td>0</td>\n",
       "      <td>0</td>\n",
       "      <td>0</td>\n",
       "      <td>500000000</td>\n",
       "      <td>500000</td>\n",
       "      <td>7</td>\n",
       "      <td>-1.285714</td>\n",
       "      <td>20.571429</td>\n",
       "      <td>14.571429</td>\n",
       "      <td>-11.142857</td>\n",
       "      <td>27.011261</td>\n",
       "    </tr>\n",
       "    <tr>\n",
       "      <th>4</th>\n",
       "      <td>0</td>\n",
       "      <td>0</td>\n",
       "      <td>0</td>\n",
       "      <td>500000000</td>\n",
       "      <td>500000</td>\n",
       "      <td>2</td>\n",
       "      <td>15.000000</td>\n",
       "      <td>20.571429</td>\n",
       "      <td>15.000000</td>\n",
       "      <td>-11.142857</td>\n",
       "      <td>27.011261</td>\n",
       "    </tr>\n",
       "  </tbody>\n",
       "</table>\n",
       "</div>"
      ],
      "text/plain": [
       "   LoE_DI  gender  nforum_posts    subject  instructor  no_courses  \\\n",
       "0       0       0             0   10000000      366000          15   \n",
       "1       0       0             0    1900000      600000           4   \n",
       "2       0       0             0    1900000      600000           7   \n",
       "3       0       0             0  500000000      500000           7   \n",
       "4       0       0             0  500000000      500000           2   \n",
       "\n",
       "   student_regis_to_launch  course_duration  last_event_to_launch  \\\n",
       "0                -4.000000        15.714286             31.857143   \n",
       "1               -10.285714        23.285714              8.714286   \n",
       "2                -3.571429        23.285714              0.571429   \n",
       "3                -1.285714        20.571429             14.571429   \n",
       "4                15.000000        20.571429             15.000000   \n",
       "\n",
       "   regis_open_to_launch        Age  \n",
       "0            -11.571429  27.011261  \n",
       "1            -12.714286  27.011261  \n",
       "2            -12.714286  27.011261  \n",
       "3            -11.142857  27.011261  \n",
       "4            -11.142857  27.011261  "
      ]
     },
     "execution_count": 62,
     "metadata": {},
     "output_type": "execute_result"
    }
   ],
   "source": [
    "df_view.head()"
   ]
  },
  {
   "cell_type": "markdown",
   "metadata": {},
   "source": [
    "## Start with Random Forrest to get a sense of what features are important."
   ]
  },
  {
   "cell_type": "code",
   "execution_count": 86,
   "metadata": {
    "collapsed": false,
    "scrolled": true
   },
   "outputs": [
    {
     "name": "stdout",
     "output_type": "stream",
     "text": [
      "Random forest accuracy: 0.839\n"
     ]
    },
    {
     "data": {
      "image/png": "[encoded data removed]",
      "text/plain": [
       "<matplotlib.figure.Figure at 0x7f6ba0bfd690>"
      ]
     },
     "metadata": {},
     "output_type": "display_data"
    }
   ],
   "source": [
    "from sklearn.ensemble import RandomForestClassifier as RF\n",
    "\n",
    "X = normalize(df_view)\n",
    "res = run_cv(X, df_view.columns, viewed,RF)\n",
    "view_pred = res[0]\n",
    "feat_impr = res[1]\n",
    "print \"Random forest accuracy: %.3f\" % accuracy(viewed, view_pred)\n",
    "\n",
    "import operator\n",
    "feat = []\n",
    "impr = []\n",
    "fi = sorted(feat_impr.items(), key=operator.itemgetter(1))\n",
    "for i in xrange(len(feat_impr)):\n",
    "    feat.append(fi[i][0])\n",
    "    impr.append(fi[i][1])\n",
    "\n",
    "N = len(feat)\n",
    "ind = np.arange(N)   \n",
    "width = 0.75      \n",
    "import seaborn as sns\n",
    "sns.set_style('darkgrid')\n",
    "\n",
    "plt.barh(ind, impr, width, color='yellowgreen')\n",
    "\n",
    "plt.xlabel('Feature importance', fontsize = 'x-large')\n",
    "plt.yticks(ind+width/2., feat,rotation=0, fontsize = 'x-large')\n",
    "#plt.savefig('feat_impr_view.eps', format='eps')\n",
    "\n",
    "plt.show()"
   ]
  },
  {
   "cell_type": "markdown",
   "metadata": {},
   "source": [
    "## Precision and recall"
   ]
  },
  {
   "cell_type": "code",
   "execution_count": 67,
   "metadata": {
    "collapsed": false
   },
   "outputs": [
    {
     "name": "stdout",
     "output_type": "stream",
     "text": [
      "Accuracy, recal and precision of RF in predicting 'course view':\n",
      "\n",
      "  \"accuracy=0.838, recall=0.909, precision=0.875\"\n",
      "\n"
     ]
    }
   ],
   "source": [
    "from sklearn.metrics import confusion_matrix\n",
    "confusion_matrices = [\n",
    "        ( \"Random Forest\", confusion_matrix(viewed, view_pred)),\n",
    "    ]\n",
    "\n",
    "rf_conf = confusion_matrices[0][1]\n",
    "print \"Accuracy, recal and precision of RF in predicting 'course view':\\n\\n  \\\"accuracy=%.3f, recall=%.3f, precision=%.3f\\\"\\n\" % (float(rf_conf[0][0]+rf_conf[1][1])/sum(rf_conf), float(rf_conf[1][1])/\n",
    "                                                  (rf_conf[1][1]+rf_conf[1][0]), \n",
    "                                                  float(rf_conf[1][1])/(rf_conf[1][1]+rf_conf[0][1]))"
   ]
  },
  {
   "cell_type": "code",
   "execution_count": 68,
   "metadata": {
    "collapsed": false
   },
   "outputs": [
    {
     "name": "stdout",
     "output_type": "stream",
     "text": [
      "\n",
      "\n",
      "Recall and precesion of random forrest classifier:  \"recall=0.909, precision=0.875\"\n",
      "\n"
     ]
    },
    {
     "data": {
      "image/png": "[encoded data removed]",
      "text/plain": [
       "<matplotlib.figure.Figure at 0x7f6b9d06ed90>"
      ]
     },
     "metadata": {},
     "output_type": "display_data"
    }
   ],
   "source": [
    "sns.set_style('white')\n",
    "plot_confusion_matrix(rf_conf)\n",
    "print \"\\n\"\n",
    "\n",
    "rf_conf = confusion_matrices[0][1]\n",
    "print \"Recall and precesion of random forrest classifier:  \\\"recall=%.3f, precision=%.3f\\\"\\n\" % (float(rf_conf[1][1])/\n",
    "                                                  (rf_conf[1][1]+rf_conf[1][0]), \n",
    "                                                  float(rf_conf[1][1])/(rf_conf[1][1]+rf_conf[0][1]))\n",
    "#print \"SVC: \\\"recall=%.5f, precision=%.5f\\\"\\n\" % (float(svc_conf[1][1])/(svc_conf[1][1]+svc_conf[1][0]), float(svc_conf[1][1])/(svc_conf[1][1]+svc_conf[0][1]))"
   ]
  },
  {
   "cell_type": "markdown",
   "metadata": {
    "collapsed": true
   },
   "source": [
    "## Compare RF with a distance based algorithm, kNN."
   ]
  },
  {
   "cell_type": "markdown",
   "metadata": {},
   "source": [
    "## ROC curves"
   ]
  },
  {
   "cell_type": "code",
   "execution_count": 70,
   "metadata": {
    "collapsed": false
   },
   "outputs": [],
   "source": [
    "def plot_roc(X, y):\n",
    "    \n",
    "    import matplotlib.pyplot as plt\n",
    "    import seaborn as sns\n",
    "    sns.set_style('white')\n",
    "\n",
    "    from sklearn.ensemble import RandomForestClassifier as RF\n",
    "    from sklearn.neighbors import KNeighborsClassifier as KNN\n",
    "\n",
    "    from sklearn.metrics import roc_curve, auc\n",
    "    from sklearn.cross_validation import train_test_split\n",
    "    \n",
    "    n_classes = 2\n",
    "    n_samples, n_features = X.shape\n",
    "    # shuffle and split training and test sets\n",
    "    X_train, X_test, y_train, y_test = train_test_split(X, y, test_size=.3,\n",
    "                                                    random_state=0)\n",
    "\n",
    "    # Learn to predict each class against the other\n",
    "    classifier = RF(n_estimators=20)\n",
    "    y_score = classifier.fit(X_train, y_train).predict_proba(X_test)\n",
    "\n",
    "    fpr, tpr, _ = roc_curve(y_test, y_score[:,1])    \n",
    "    roc_auc = auc(fpr, tpr)\n",
    "    \n",
    "    #KNN\n",
    "    classifier = KNN(n_neighbors=20)\n",
    "    y_score = classifier.fit(X_train, y_train).predict_proba(X_test)\n",
    "\n",
    "    fpr2, tpr2, _ = roc_curve(y_test, y_score[:,1])    \n",
    "    roc_auc2 = auc(fpr2, tpr2)\n",
    "\n",
    "\n",
    "    #Plot of a ROC curve for a specific class\n",
    "    plt.figure()\n",
    "    plt.plot(fpr, tpr, label='RF (area = %0.4f)' % roc_auc)\n",
    "    plt.plot(fpr2, tpr2, label='kNN (area = %0.4f)' % roc_auc2)\n",
    "\n",
    "    plt.plot([0, 1], [0, 1], 'k--')\n",
    "    plt.xlim([0.0, 1.0])\n",
    "    plt.ylim([0.0, 1.05])\n",
    "    plt.xlabel('False Positive Rate', fontsize = 'x-large')\n",
    "    plt.ylabel('True Positive Rate', fontsize = 'x-large')\n",
    "    #plt.title('ROC curve')\n",
    "    plt.legend(loc=\"lower right\", fontsize = 'x-large')\n",
    "    #plt.savefig('roc_view.eps', format='eps')\n",
    "    plt.show()\n"
   ]
  },
  {
   "cell_type": "code",
   "execution_count": 71,
   "metadata": {
    "collapsed": false
   },
   "outputs": [
    {
     "data": {
      "image/png": "[encoded data removed]",
      "text/plain": [
       "<matplotlib.figure.Figure at 0x7f6ba0beae10>"
      ]
     },
     "metadata": {},
     "output_type": "display_data"
    }
   ],
   "source": [
    "plot_roc(normalize(df_view), viewed)"
   ]
  },
  {
   "cell_type": "markdown",
   "metadata": {},
   "source": [
    "### Therefore, the model has a good performance in terms of predicting whether or not student view the course content at all. What about predicting probabilities, which are more insightfull and actionable."
   ]
  },
  {
   "cell_type": "code",
   "execution_count": 72,
   "metadata": {
    "collapsed": true
   },
   "outputs": [],
   "source": [
    "def prob_cv(X, y, clf_class, **kwargs):\n",
    "    from sklearn.cross_validation import KFold\n",
    "\n",
    "    kf = KFold(len(y), n_folds=2, shuffle=True)\n",
    "    y_prob = np.zeros((len(y),2))\n",
    "    for train_index, test_index in kf:\n",
    "        X_train, X_test = X[train_index], X[test_index]\n",
    "        y_train = y[train_index]\n",
    "        clf = clf_class(**kwargs)\n",
    "        clf.fit(X_train,y_train)\n",
    "        # Predict probabilities, not classes\n",
    "        y_prob[test_index] = clf.predict_proba(X_test)\n",
    "    return y_prob"
   ]
  },
  {
   "cell_type": "code",
   "execution_count": 75,
   "metadata": {
    "collapsed": false
   },
   "outputs": [],
   "source": [
    "from sklearn.neighbors import KNeighborsClassifier as KNN\n",
    "pred_prob = prob_cv(normalize(df_view), viewed, KNN, n_neighbors=100)\n",
    "\n",
    "pred_churn = pred_prob[:,0]\n",
    "is_churn = viewed == 0\n",
    "\n",
    "# Number of times a predicted probability is assigned to an observation\n",
    "counts = pd.value_counts(pred_churn)\n",
    "\n",
    "# calculate true probabilities\n",
    "true_prob = {}\n",
    "for prob in counts.index:\n",
    "    if sum(pred_churn == prob) > 100: # keep large groups only to reduce sampling errors. \n",
    "        true_prob[prob] = np.mean(is_churn[pred_churn == prob])"
   ]
  },
  {
   "cell_type": "code",
   "execution_count": 94,
   "metadata": {
    "collapsed": false
   },
   "outputs": [
    {
     "name": "stdout",
     "output_type": "stream",
     "text": [
      "\n",
      "Predicted probabilities are close to the actual ones.\n"
     ]
    },
    {
     "data": {
      "image/png": "[encoded data removed]",
      "text/plain": [
       "<matplotlib.figure.Figure at 0x7f6b9fcae5d0>"
      ]
     },
     "metadata": {},
     "output_type": "display_data"
    }
   ],
   "source": [
    "import collections\n",
    "prob = collections.OrderedDict(sorted(true_prob.items()))\n",
    "\n",
    "import seaborn as sns\n",
    "sns.set_style('darkgrid')\n",
    "\n",
    "#plt.plot(od.keys(), od.values(), color='b', markersize=12)\n",
    "plt.xlim([-.05,1.05])\n",
    "plt.ylim([-.05,1.05])\n",
    "plt.plot(prob.keys(), prob.values(), '.', c='r')\n",
    "plt.plot([0, 1], [0, 1], 'k--', c='g');\n",
    "plt.xlabel('Predicted churn (for course view) probability', fontsize = 'xx-large')\n",
    "plt.ylabel('Freq. of outcome', fontsize = 'xx-large')\n",
    "#plt.savefig('prob.eps', format='eps')\n",
    "print \"\\nPredicted probabilities are close to the actual ones.\"\n"
   ]
  },
  {
   "cell_type": "markdown",
   "metadata": {},
   "source": [
    "## Repeat certification churn prediction this with part of the data with similar number of negative and and positive records. "
   ]
  },
  {
   "cell_type": "code",
   "execution_count": 64,
   "metadata": {
    "collapsed": false
   },
   "outputs": [
    {
     "data": {
      "image/png": "[encoded data removed]",
      "text/plain": [
       "<matplotlib.figure.Figure at 0x7f45ed30fd50>"
      ]
     },
     "metadata": {},
     "output_type": "display_data"
    }
   ],
   "source": [
    "pos_to_neg = 1.5\n",
    "\n",
    "df_pos = df[Churn == 1]\n",
    "df_neg = df[Churn == 0]\n",
    "df_pos.index = range(df_pos.shape[0])\n",
    "# random sampling from df_pos\n",
    "import random\n",
    "rows = random.sample(df_pos.index, int(pos_to_neg*df_neg.shape[0]))\n",
    "df_pos_samp = df_pos.ix[rows]\n",
    "del df_pos\n",
    "\n",
    "df_balanced = pd.concat([df_neg, df_pos_samp], ignore_index=True)\n",
    "\n",
    "y = [0 for i in xrange(df_neg.shape[0])] + [1 for i in xrange(df_pos_samp.shape[0])]\n",
    "y = np.array(y)\n",
    "\n",
    "\n",
    "plot_roc(normalize(df_balanced), y)"
   ]
  }
 ],
 "metadata": {
  "kernelspec": {
   "display_name": "Python 2",
   "language": "python",
   "name": "python2"
  },
  "language_info": {
   "codemirror_mode": {
    "name": "ipython",
    "version": 2
   },
   "file_extension": ".py",
   "mimetype": "text/x-python",
   "name": "python",
   "nbconvert_exporter": "python",
   "pygments_lexer": "ipython2",
   "version": "2.7.6"
  }
 },
 "nbformat": 4,
 "nbformat_minor": 0
}

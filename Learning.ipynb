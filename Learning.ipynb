{
 "cells": [
  {
   "cell_type": "code",
   "execution_count": 1,
   "metadata": {
    "collapsed": false
   },
   "outputs": [
    {
     "name": "stdout",
     "output_type": "stream",
     "text": [
      "Populating the interactive namespace from numpy and matplotlib\n"
     ]
    }
   ],
   "source": [
    "import pandas as pd\n",
    "import numpy as np\n",
    "from sklearn.preprocessing import Imputer\n",
    "\n",
    "%pylab inline"
   ]
  },
  {
   "cell_type": "code",
   "execution_count": 2,
   "metadata": {
    "collapsed": false
   },
   "outputs": [],
   "source": [
    "df = pd.read_csv('learn.csv')\n",
    "\n",
    "# replace empty values with NaN:\n",
    "#df = df.applymap(lambda x: np.nan if isinstance(x, basestring) and x.isspace() else x)\n",
    "\n",
    "\n",
    "# remove any non-interacting student - those with 'nevents' or 'last_event' being 'NaN'.\n",
    "# remove any record with either of these being NaN:\n",
    "#df = df[pd.notnull(df.last_event_DI)]\n",
    "df = df[pd.notnull(df.nevents)]\n",
    "\n",
    "del df['final_cc_cname_DI'] # will use it later\n",
    "df.index = range(df.shape[0])\n",
    "\n",
    "temp = []\n",
    "# Convert cathegoricals and impute missing values: \n",
    "for i in xrange(df.shape[0]): # df.shape[0]\n",
    "    if df['LoE_DI'][i] == 'Less than Secondary':\n",
    "        temp.append(1)\n",
    "    elif df['LoE_DI'][i] == 'Secondary':\n",
    "        temp.append(2)\n",
    "    elif df['LoE_DI'][i] == 'Bachelor\\'s':\n",
    "        temp.append(3)\n",
    "    elif df['LoE_DI'][i] == 'Master\\'s':\n",
    "        temp.append(4)\n",
    "    elif df['LoE_DI'][i] == 'Doctorate':\n",
    "        temp.append(5)\n",
    "    else:\n",
    "        temp.append(0)\n",
    "        \n",
    "df['LoE_DI'] = temp\n",
    "temp = []\n",
    "        \n",
    "for i in xrange(df.shape[0]):\n",
    "    if df['gender'][i] == 'm':\n",
    "        temp.append(1)\n",
    "    elif df['gender'][i] == 'f':\n",
    "        temp.append(2)\n",
    "    else:\n",
    "        temp.append(0)\n",
    "        \n",
    "df['gender'] = temp\n",
    "del temp\n",
    "\n",
    "imp1=Imputer(missing_values='NaN',strategy='mean',axis=1)\n",
    "#df['grade']=imp1.fit_transform(df['grade']).transpose()\n",
    "df['nchapters']=imp1.fit_transform(df['nchapters']).transpose()\n",
    "\n",
    "#imp2=Imputer(missing_values='NaN',strategy='median',axis=1) #didn't work-get back to this later\n",
    "df['nplay_video']=imp1.fit_transform(df['nplay_video']).transpose()\n",
    "df['YoB']=imp1.fit_transform(df['YoB']).transpose()\n",
    "\n",
    "#convert YoB to age:\n",
    "course_yr = 2012.5\n",
    "df['Age'] = df['YoB'].map(lambda x: course_yr - x)\n",
    "\n",
    "#Convert 'certified' to Churn\n",
    "Churn = df['certified'].map(lambda x: 1-x)\n",
    "    \n",
    "del df['YoB'], df['certified'], df['grade']"
   ]
  },
  {
   "cell_type": "code",
   "execution_count": 3,
   "metadata": {
    "collapsed": false
   },
   "outputs": [
    {
     "data": {
      "text/html": [
       "<div style=\"max-height:1000px;max-width:1500px;overflow:auto;\">\n",
       "<table border=\"1\" class=\"dataframe\">\n",
       "  <thead>\n",
       "    <tr style=\"text-align: right;\">\n",
       "      <th></th>\n",
       "      <th>viewed</th>\n",
       "      <th>explored</th>\n",
       "      <th>LoE_DI</th>\n",
       "      <th>gender</th>\n",
       "      <th>nevents</th>\n",
       "      <th>ndays_act</th>\n",
       "      <th>nplay_video</th>\n",
       "      <th>nchapters</th>\n",
       "      <th>nforum_posts</th>\n",
       "      <th>subject</th>\n",
       "      <th>instructor</th>\n",
       "      <th>no_courses</th>\n",
       "      <th>weeks_in_course</th>\n",
       "      <th>regis_to_start</th>\n",
       "      <th>course_duration</th>\n",
       "      <th>weeks/duration</th>\n",
       "      <th>Age</th>\n",
       "    </tr>\n",
       "  </thead>\n",
       "  <tbody>\n",
       "    <tr>\n",
       "      <th>0</th>\n",
       "      <td>1</td>\n",
       "      <td>1</td>\n",
       "      <td>0</td>\n",
       "      <td>0</td>\n",
       "      <td>502</td>\n",
       "      <td>16</td>\n",
       "      <td>50.000000</td>\n",
       "      <td>12</td>\n",
       "      <td>0</td>\n",
       "      <td>10000000</td>\n",
       "      <td>366000</td>\n",
       "      <td>15</td>\n",
       "      <td>35.857143</td>\n",
       "      <td>-4.000000</td>\n",
       "      <td>15.714286</td>\n",
       "      <td>2.281818</td>\n",
       "      <td>27.013075</td>\n",
       "    </tr>\n",
       "    <tr>\n",
       "      <th>1</th>\n",
       "      <td>1</td>\n",
       "      <td>0</td>\n",
       "      <td>0</td>\n",
       "      <td>0</td>\n",
       "      <td>42</td>\n",
       "      <td>6</td>\n",
       "      <td>116.021782</td>\n",
       "      <td>3</td>\n",
       "      <td>0</td>\n",
       "      <td>1900000</td>\n",
       "      <td>600000</td>\n",
       "      <td>4</td>\n",
       "      <td>19.000000</td>\n",
       "      <td>-10.285714</td>\n",
       "      <td>23.285714</td>\n",
       "      <td>0.815951</td>\n",
       "      <td>27.013075</td>\n",
       "    </tr>\n",
       "    <tr>\n",
       "      <th>2</th>\n",
       "      <td>1</td>\n",
       "      <td>0</td>\n",
       "      <td>0</td>\n",
       "      <td>0</td>\n",
       "      <td>70</td>\n",
       "      <td>3</td>\n",
       "      <td>116.021782</td>\n",
       "      <td>3</td>\n",
       "      <td>0</td>\n",
       "      <td>1900000</td>\n",
       "      <td>600000</td>\n",
       "      <td>7</td>\n",
       "      <td>4.142857</td>\n",
       "      <td>-3.571429</td>\n",
       "      <td>23.285714</td>\n",
       "      <td>0.177914</td>\n",
       "      <td>27.013075</td>\n",
       "    </tr>\n",
       "    <tr>\n",
       "      <th>3</th>\n",
       "      <td>1</td>\n",
       "      <td>0</td>\n",
       "      <td>0</td>\n",
       "      <td>0</td>\n",
       "      <td>17</td>\n",
       "      <td>2</td>\n",
       "      <td>116.021782</td>\n",
       "      <td>2</td>\n",
       "      <td>0</td>\n",
       "      <td>500000000</td>\n",
       "      <td>500000</td>\n",
       "      <td>7</td>\n",
       "      <td>15.857143</td>\n",
       "      <td>-1.285714</td>\n",
       "      <td>20.571429</td>\n",
       "      <td>0.770833</td>\n",
       "      <td>27.013075</td>\n",
       "    </tr>\n",
       "    <tr>\n",
       "      <th>4</th>\n",
       "      <td>1</td>\n",
       "      <td>0</td>\n",
       "      <td>0</td>\n",
       "      <td>0</td>\n",
       "      <td>32</td>\n",
       "      <td>1</td>\n",
       "      <td>116.021782</td>\n",
       "      <td>3</td>\n",
       "      <td>0</td>\n",
       "      <td>500000000</td>\n",
       "      <td>500000</td>\n",
       "      <td>2</td>\n",
       "      <td>0.000000</td>\n",
       "      <td>15.000000</td>\n",
       "      <td>20.571429</td>\n",
       "      <td>0.000000</td>\n",
       "      <td>27.013075</td>\n",
       "    </tr>\n",
       "  </tbody>\n",
       "</table>\n",
       "</div>"
      ],
      "text/plain": [
       "   viewed  explored  LoE_DI  gender  nevents  ndays_act  nplay_video  \\\n",
       "0       1         1       0       0      502         16    50.000000   \n",
       "1       1         0       0       0       42          6   116.021782   \n",
       "2       1         0       0       0       70          3   116.021782   \n",
       "3       1         0       0       0       17          2   116.021782   \n",
       "4       1         0       0       0       32          1   116.021782   \n",
       "\n",
       "   nchapters  nforum_posts    subject  instructor  no_courses  \\\n",
       "0         12             0   10000000      366000          15   \n",
       "1          3             0    1900000      600000           4   \n",
       "2          3             0    1900000      600000           7   \n",
       "3          2             0  500000000      500000           7   \n",
       "4          3             0  500000000      500000           2   \n",
       "\n",
       "   weeks_in_course  regis_to_start  course_duration  weeks/duration        Age  \n",
       "0        35.857143       -4.000000        15.714286        2.281818  27.013075  \n",
       "1        19.000000      -10.285714        23.285714        0.815951  27.013075  \n",
       "2         4.142857       -3.571429        23.285714        0.177914  27.013075  \n",
       "3        15.857143       -1.285714        20.571429        0.770833  27.013075  \n",
       "4         0.000000       15.000000        20.571429        0.000000  27.013075  "
      ]
     },
     "execution_count": 3,
     "metadata": {},
     "output_type": "execute_result"
    }
   ],
   "source": [
    "df.head()"
   ]
  },
  {
   "cell_type": "code",
   "execution_count": 4,
   "metadata": {
    "collapsed": false
   },
   "outputs": [
    {
     "data": {
      "text/plain": [
       "(440647, 17)"
      ]
     },
     "execution_count": 4,
     "metadata": {},
     "output_type": "execute_result"
    }
   ],
   "source": [
    "df.shape"
   ]
  },
  {
   "cell_type": "markdown",
   "metadata": {},
   "source": [
    "# Checking data: nulls and such"
   ]
  },
  {
   "cell_type": "code",
   "execution_count": 7,
   "metadata": {
    "collapsed": false
   },
   "outputs": [
    {
     "data": {
      "text/plain": [
       "1.0"
      ]
     },
     "execution_count": 7,
     "metadata": {},
     "output_type": "execute_result"
    }
   ],
   "source": [
    "z = [df['ndays_act'][i] for i in xrange(df.shape[0]) if not pd.isnull(df['ndays_act'][i])]\n",
    "len(z)/float(df.shape[0])"
   ]
  },
  {
   "cell_type": "code",
   "execution_count": 8,
   "metadata": {
    "collapsed": false
   },
   "outputs": [
    {
     "data": {
      "text/plain": [
       "0.9598930663320072"
      ]
     },
     "execution_count": 8,
     "metadata": {},
     "output_type": "execute_result"
    }
   ],
   "source": [
    "z = [Churn[i] for i in xrange(df.shape[0]) if Churn[i] == 1]\n",
    "len(z)/float(df.shape[0])"
   ]
  },
  {
   "cell_type": "markdown",
   "metadata": {},
   "source": [
    "# Set modules"
   ]
  },
  {
   "cell_type": "code",
   "execution_count": 3,
   "metadata": {
    "collapsed": false
   },
   "outputs": [],
   "source": [
    "def normalize(dat_frm):\n",
    "    from sklearn import preprocessing\n",
    "    #scaler = StandardScaler()\n",
    "    X = dat_frm.as_matrix().astype(np.float)\n",
    "    #return scaler.fit_transform(X)\n",
    "    return preprocessing.scale(X)\n",
    "\n",
    "#print \"Feature space holds %d observations and %d features.\" % X.shape\n",
    "#print \"Unique target labels:\", np.unique(success)"
   ]
  },
  {
   "cell_type": "code",
   "execution_count": 4,
   "metadata": {
    "collapsed": false
   },
   "outputs": [],
   "source": [
    "def run_cv(X,features,y,clf_class,**kwargs):\n",
    "    \n",
    "    #from sklearn.ensemble import RandomForestClassifier as RF0\n",
    "    from sklearn.cross_validation import KFold\n",
    "    no_features = X.shape[1]\n",
    "    n_folds = 3\n",
    "    \n",
    "    kf = KFold(len(y),n_folds=n_folds,shuffle=True)\n",
    "    y_pred = y.copy()\n",
    "    ftr_impr = [0 for i in xrange(no_features)]\n",
    "    #print type(ftr_impr)#.shape\n",
    "    \n",
    "    #Iterate through folds\n",
    "    for train_index, test_index in kf:\n",
    "        X_train, X_test = X[train_index], X[test_index]\n",
    "        y_train = y[train_index]\n",
    "        # Initialize a classifier \n",
    "        clf = clf_class(**kwargs)\n",
    "        clf.fit(X_train,y_train)\n",
    "        y_pred[test_index] = clf.predict(X_test)\n",
    "        \n",
    "        if clf_class == RF:\n",
    "            for i in xrange(no_features):\n",
    "                ftr_impr[i] += clf.feature_importances_[i]/n_folds\n",
    "            \n",
    "        #print type(clf.feature_importances_)\n",
    "    \n",
    "    #print clf.get_params() \n",
    "    #for i in xrange(len(features)):\n",
    "     #   print \"%s: %.4f\" % (features[i], ftr_impr[i]/n_folds) \n",
    "    \n",
    "    imprt = {}\n",
    "    if clf_class == RF:\n",
    "        for i in xrange(no_features):\n",
    "            imprt[features[i]] = ftr_impr[i]\n",
    "            #print \"%s: %.3f\" % (features[i], ftr_impr[i])\n",
    "        \n",
    "    return y_pred, imprt    \n",
    "\n",
    "\n",
    "def accuracy(y_true,y_pred):\n",
    "    return np.mean(y_true == y_pred)"
   ]
  },
  {
   "cell_type": "markdown",
   "metadata": {},
   "source": [
    "#Prediction"
   ]
  },
  {
   "cell_type": "code",
   "execution_count": 6,
   "metadata": {
    "collapsed": false
   },
   "outputs": [
    {
     "name": "stdout",
     "output_type": "stream",
     "text": [
      "Random forest accuracy: 0.987\n"
     ]
    },
    {
     "data": {
      "image/png": "[encoded data removed]",
      "text/plain": [
       "<matplotlib.figure.Figure at 0x7f8e6d3bff90>"
      ]
     },
     "metadata": {},
     "output_type": "display_data"
    }
   ],
   "source": [
    "\n",
    "from sklearn.ensemble import RandomForestClassifier as RF\n",
    "#from sklearn.linear_model import LogisticRegression as LR\n",
    "\n",
    "#from sklearn.neighbors import KNeighborsClassifier as KNN\n",
    "\n",
    "X = normalize(df)\n",
    "res = run_cv(X,df.columns, Churn,RF)\n",
    "churn_pred = res[0]\n",
    "feat_impr = res[1]\n",
    "#print \"Support vector machine: %.5f\\n\" % accuracy(success, run_cv(X,success,SVC))\n",
    "print \"Random forest accuracy: %.3f\" % accuracy(Churn, churn_pred)\n",
    "\n",
    "import operator\n",
    "feat = []\n",
    "impr = []\n",
    "fi = sorted(feat_impr.items(), key=operator.itemgetter(1))\n",
    "for i in xrange(len(feat_impr)):\n",
    "    feat.append(fi[i][0])\n",
    "    impr.append(fi[i][1])\n",
    "\n",
    "N = X.shape[1]\n",
    "ind = np.arange(N)    # the x locations for the groups\n",
    "width = 0.75       # the width of the bars: can also be len(x) sequence\n",
    "\n",
    "import seaborn as sns\n",
    "sns.set_style('darkgrid')\n",
    "\n",
    "p1 = plt.barh(ind, impr, width, color='greenyellow')\n",
    "\n",
    "plt.xlabel('Feature importance', fontsize = 'x-large')\n",
    "plt.yticks(ind+width/2., feat,rotation=0, fontsize = 'x-large')\n",
    "plt.savefig('feat_impr_certify.eps', format='eps')\n",
    "\n",
    "plt.show()\n",
    "\n",
    "#print \"K-nearest-neighbors:\"\n",
    "#print \"%.3f\" % accuracy(success, run_cv(X,success,KNN))"
   ]
  },
  {
   "cell_type": "code",
   "execution_count": null,
   "metadata": {
    "collapsed": true
   },
   "outputs": [],
   "source": []
  },
  {
   "cell_type": "markdown",
   "metadata": {},
   "source": [
    "# Test the classifier"
   ]
  },
  {
   "cell_type": "markdown",
   "metadata": {},
   "source": [
    "## Confusion matrix"
   ]
  },
  {
   "cell_type": "code",
   "execution_count": 7,
   "metadata": {
    "collapsed": false
   },
   "outputs": [
    {
     "ename": "NameError",
     "evalue": "name 'X' is not defined",
     "output_type": "error",
     "traceback": [
      "\u001b[1;31m---------------------------------------------------------------------------\u001b[0m",
      "\u001b[1;31mNameError\u001b[0m                                 Traceback (most recent call last)",
      "\u001b[1;32m<ipython-input-7-ab51c3bb8165>\u001b[0m in \u001b[0;36m<module>\u001b[1;34m()\u001b[0m\n\u001b[0;32m      2\u001b[0m \u001b[1;33m\u001b[0m\u001b[0m\n\u001b[0;32m      3\u001b[0m confusion_matrices = [\n\u001b[1;32m----> 4\u001b[1;33m     \u001b[1;33m(\u001b[0m \u001b[1;34m\"Random Forest\"\u001b[0m\u001b[1;33m,\u001b[0m \u001b[0mconfusion_matrix\u001b[0m\u001b[1;33m(\u001b[0m\u001b[0mChurn\u001b[0m\u001b[1;33m,\u001b[0m\u001b[0mrun_cv\u001b[0m\u001b[1;33m(\u001b[0m\u001b[0mX\u001b[0m\u001b[1;33m,\u001b[0m\u001b[0mdf\u001b[0m\u001b[1;33m.\u001b[0m\u001b[0mcolumns\u001b[0m\u001b[1;33m,\u001b[0m \u001b[0mChurn\u001b[0m\u001b[1;33m,\u001b[0m\u001b[0mRF\u001b[0m\u001b[1;33m)\u001b[0m\u001b[1;33m[\u001b[0m\u001b[1;36m0\u001b[0m\u001b[1;33m]\u001b[0m\u001b[1;33m)\u001b[0m\u001b[1;33m)\u001b[0m\u001b[1;33m,\u001b[0m\u001b[1;33m\u001b[0m\u001b[0m\n\u001b[0m\u001b[0;32m      5\u001b[0m     ]\n",
      "\u001b[1;31mNameError\u001b[0m: name 'X' is not defined"
     ]
    }
   ],
   "source": [
    "from sklearn.metrics import confusion_matrix\n",
    "\n",
    "confusion_matrices = [\n",
    "    ( \"Random Forest\", confusion_matrix(Churn,run_cv(X,df.columns, Churn,RF)[0])),\n",
    "    ]"
   ]
  },
  {
   "cell_type": "code",
   "execution_count": 5,
   "metadata": {
    "collapsed": false
   },
   "outputs": [],
   "source": [
    "def plot_confusion_matrix(confusion_matrices):\n",
    "\n",
    "\timport matplotlib.pyplot as plt\n",
    "\timport numpy as np\n",
    "\n",
    "\tconf_arr = confusion_matrices\n",
    "\t\n",
    "\tnorm_conf = []\n",
    "\tfor i in conf_arr: \n",
    "\t    a = 0\n",
    "\t    tmp_arr = []\n",
    "\t    a = sum(i, 0)\n",
    "\t    for j in i:\n",
    "\t\ttmp_arr.append(float(j)/float(a))\n",
    "\t    norm_conf.append(tmp_arr)\n",
    "\t\n",
    "\tfig = plt.figure()\n",
    "\tplt.clf()\n",
    "\tax = fig.add_subplot(111)\n",
    "\tax.set_aspect(1)\n",
    "\tres = ax.imshow(np.array(norm_conf), cmap=plt.cm.jet, \n",
    "\t\t\tinterpolation='nearest') \n",
    "\t\n",
    "\twidth = len(conf_arr)\n",
    "\theight = len(conf_arr[0])\n",
    "\t\n",
    "\tfor x in xrange(width):\n",
    "\t    for y in xrange(height):\n",
    "\t\tax.annotate(str(conf_arr[x][y]), xy=(y, x), \n",
    "\t\t\t    horizontalalignment='center',\n",
    "\t\t\t    verticalalignment='center')\n",
    "\t\t       \n",
    "\t#cb = fig.colorbar(res)\n",
    "\talphabet = ['retention','churn']\n",
    "\tplt.ylabel('True class')\n",
    "\tplt.xlabel('Pred. class')\n",
    "\tplt.xticks(range(width), alphabet[:width])\n",
    "\tplt.yticks(range(height), alphabet[:height])\n",
    "\tplt.savefig('confusion_matrix.png', format='png')"
   ]
  },
  {
   "cell_type": "markdown",
   "metadata": {},
   "source": [
    "## Recall and precision"
   ]
  },
  {
   "cell_type": "code",
   "execution_count": 6,
   "metadata": {
    "collapsed": false
   },
   "outputs": [
    {
     "ename": "NameError",
     "evalue": "name 'confusion_matrices' is not defined",
     "output_type": "error",
     "traceback": [
      "\u001b[1;31m---------------------------------------------------------------------------\u001b[0m",
      "\u001b[1;31mNameError\u001b[0m                                 Traceback (most recent call last)",
      "\u001b[1;32m<ipython-input-6-cc00dc83ac8a>\u001b[0m in \u001b[0;36m<module>\u001b[1;34m()\u001b[0m\n\u001b[1;32m----> 1\u001b[1;33m \u001b[0mrf_conf\u001b[0m \u001b[1;33m=\u001b[0m \u001b[0mconfusion_matrices\u001b[0m\u001b[1;33m[\u001b[0m\u001b[1;36m0\u001b[0m\u001b[1;33m]\u001b[0m\u001b[1;33m[\u001b[0m\u001b[1;36m1\u001b[0m\u001b[1;33m]\u001b[0m\u001b[1;33m\u001b[0m\u001b[0m\n\u001b[0m\u001b[0;32m      2\u001b[0m print \"RF:  \\\"recall=%.5f, precision=%.5f\\\"\\n\" % (float(rf_conf[1][1])/\n\u001b[0;32m      3\u001b[0m                                                   \u001b[1;33m(\u001b[0m\u001b[0mrf_conf\u001b[0m\u001b[1;33m[\u001b[0m\u001b[1;36m1\u001b[0m\u001b[1;33m]\u001b[0m\u001b[1;33m[\u001b[0m\u001b[1;36m1\u001b[0m\u001b[1;33m]\u001b[0m\u001b[1;33m+\u001b[0m\u001b[0mrf_conf\u001b[0m\u001b[1;33m[\u001b[0m\u001b[1;36m1\u001b[0m\u001b[1;33m]\u001b[0m\u001b[1;33m[\u001b[0m\u001b[1;36m0\u001b[0m\u001b[1;33m]\u001b[0m\u001b[1;33m)\u001b[0m\u001b[1;33m,\u001b[0m\u001b[1;33m\u001b[0m\u001b[0m\n\u001b[0;32m      4\u001b[0m                                                   float(rf_conf[1][1])/(rf_conf[1][1]+rf_conf[0][1]))\n\u001b[0;32m      5\u001b[0m \u001b[1;33m\u001b[0m\u001b[0m\n",
      "\u001b[1;31mNameError\u001b[0m: name 'confusion_matrices' is not defined"
     ]
    }
   ],
   "source": [
    "rf_conf = confusion_matrices[0][1]\n",
    "print \"RF:  \\\"recall=%.5f, precision=%.5f\\\"\\n\" % (float(rf_conf[1][1])/\n",
    "                                                  (rf_conf[1][1]+rf_conf[1][0]), \n",
    "                                                  float(rf_conf[1][1])/(rf_conf[1][1]+rf_conf[0][1]))\n",
    "\n",
    "#print \"SVC: \\\"recall=%.5f, precision=%.5f\\\"\\n\" % (float(svc_conf[1][1])/(svc_conf[1][1]+svc_conf[1][0]), float(svc_conf[1][1])/(svc_conf[1][1]+svc_conf[0][1]))"
   ]
  },
  {
   "cell_type": "code",
   "execution_count": null,
   "metadata": {
    "collapsed": true
   },
   "outputs": [],
   "source": []
  },
  {
   "cell_type": "code",
   "execution_count": null,
   "metadata": {
    "collapsed": true
   },
   "outputs": [],
   "source": []
  },
  {
   "cell_type": "code",
   "execution_count": null,
   "metadata": {
    "collapsed": true
   },
   "outputs": [],
   "source": []
  },
  {
   "cell_type": "markdown",
   "metadata": {
    "collapsed": true
   },
   "source": [
    "# Classification based on 'explored'"
   ]
  },
  {
   "cell_type": "code",
   "execution_count": 139,
   "metadata": {
    "collapsed": false
   },
   "outputs": [
    {
     "data": {
      "text/html": [
       "<div style=\"max-height:1000px;max-width:1500px;overflow:auto;\">\n",
       "<table border=\"1\" class=\"dataframe\">\n",
       "  <thead>\n",
       "    <tr style=\"text-align: right;\">\n",
       "      <th></th>\n",
       "      <th>viewed</th>\n",
       "      <th>LoE_DI</th>\n",
       "      <th>gender</th>\n",
       "      <th>nevents</th>\n",
       "      <th>ndays_act</th>\n",
       "      <th>nplay_video</th>\n",
       "      <th>nchapters</th>\n",
       "      <th>nforum_posts</th>\n",
       "      <th>no_courses</th>\n",
       "      <th>weeks_in_course</th>\n",
       "      <th>regis_to_start</th>\n",
       "      <th>course_duration</th>\n",
       "      <th>weeks/duration</th>\n",
       "      <th>activity</th>\n",
       "      <th>Age</th>\n",
       "    </tr>\n",
       "  </thead>\n",
       "  <tbody>\n",
       "    <tr>\n",
       "      <th>0</th>\n",
       "      <td>1</td>\n",
       "      <td>0</td>\n",
       "      <td>0</td>\n",
       "      <td>502</td>\n",
       "      <td>16</td>\n",
       "      <td>50.000000</td>\n",
       "      <td>12</td>\n",
       "      <td>0</td>\n",
       "      <td>15</td>\n",
       "      <td>35.857143</td>\n",
       "      <td>-4.000000</td>\n",
       "      <td>15.714286</td>\n",
       "      <td>2.281818</td>\n",
       "      <td>0.145455</td>\n",
       "      <td>27.013075</td>\n",
       "    </tr>\n",
       "    <tr>\n",
       "      <th>1</th>\n",
       "      <td>1</td>\n",
       "      <td>0</td>\n",
       "      <td>0</td>\n",
       "      <td>42</td>\n",
       "      <td>6</td>\n",
       "      <td>116.021782</td>\n",
       "      <td>3</td>\n",
       "      <td>0</td>\n",
       "      <td>4</td>\n",
       "      <td>19.000000</td>\n",
       "      <td>-10.285714</td>\n",
       "      <td>23.285714</td>\n",
       "      <td>0.815951</td>\n",
       "      <td>0.036810</td>\n",
       "      <td>27.013075</td>\n",
       "    </tr>\n",
       "    <tr>\n",
       "      <th>2</th>\n",
       "      <td>1</td>\n",
       "      <td>0</td>\n",
       "      <td>0</td>\n",
       "      <td>70</td>\n",
       "      <td>3</td>\n",
       "      <td>116.021782</td>\n",
       "      <td>3</td>\n",
       "      <td>0</td>\n",
       "      <td>7</td>\n",
       "      <td>4.142857</td>\n",
       "      <td>-3.571429</td>\n",
       "      <td>23.285714</td>\n",
       "      <td>0.177914</td>\n",
       "      <td>0.018405</td>\n",
       "      <td>27.013075</td>\n",
       "    </tr>\n",
       "    <tr>\n",
       "      <th>3</th>\n",
       "      <td>1</td>\n",
       "      <td>0</td>\n",
       "      <td>0</td>\n",
       "      <td>17</td>\n",
       "      <td>2</td>\n",
       "      <td>116.021782</td>\n",
       "      <td>2</td>\n",
       "      <td>0</td>\n",
       "      <td>7</td>\n",
       "      <td>15.857143</td>\n",
       "      <td>-1.285714</td>\n",
       "      <td>20.571429</td>\n",
       "      <td>0.770833</td>\n",
       "      <td>0.013889</td>\n",
       "      <td>27.013075</td>\n",
       "    </tr>\n",
       "    <tr>\n",
       "      <th>4</th>\n",
       "      <td>1</td>\n",
       "      <td>0</td>\n",
       "      <td>0</td>\n",
       "      <td>32</td>\n",
       "      <td>1</td>\n",
       "      <td>116.021782</td>\n",
       "      <td>3</td>\n",
       "      <td>0</td>\n",
       "      <td>2</td>\n",
       "      <td>0.000000</td>\n",
       "      <td>15.000000</td>\n",
       "      <td>20.571429</td>\n",
       "      <td>0.000000</td>\n",
       "      <td>0.006944</td>\n",
       "      <td>27.013075</td>\n",
       "    </tr>\n",
       "  </tbody>\n",
       "</table>\n",
       "</div>"
      ],
      "text/plain": [
       "   viewed  LoE_DI  gender  nevents  ndays_act  nplay_video  nchapters  \\\n",
       "0       1       0       0      502         16    50.000000         12   \n",
       "1       1       0       0       42          6   116.021782          3   \n",
       "2       1       0       0       70          3   116.021782          3   \n",
       "3       1       0       0       17          2   116.021782          2   \n",
       "4       1       0       0       32          1   116.021782          3   \n",
       "\n",
       "   nforum_posts  no_courses  weeks_in_course  regis_to_start  course_duration  \\\n",
       "0             0          15        35.857143       -4.000000        15.714286   \n",
       "1             0           4        19.000000      -10.285714        23.285714   \n",
       "2             0           7         4.142857       -3.571429        23.285714   \n",
       "3             0           7        15.857143       -1.285714        20.571429   \n",
       "4             0           2         0.000000       15.000000        20.571429   \n",
       "\n",
       "   weeks/duration  activity        Age  \n",
       "0        2.281818  0.145455  27.013075  \n",
       "1        0.815951  0.036810  27.013075  \n",
       "2        0.177914  0.018405  27.013075  \n",
       "3        0.770833  0.013889  27.013075  \n",
       "4        0.000000  0.006944  27.013075  "
      ]
     },
     "execution_count": 139,
     "metadata": {},
     "output_type": "execute_result"
    }
   ],
   "source": [
    "churn_expl = df['explored'].map(lambda x: 1. - x)\n",
    "df_expl = df.copy()\n",
    "del df_expl['explored']\n",
    "df_expl.head()"
   ]
  },
  {
   "cell_type": "code",
   "execution_count": 143,
   "metadata": {
    "collapsed": false
   },
   "outputs": [
    {
     "name": "stdout",
     "output_type": "stream",
     "text": [
      "Random forest accuracy: 0.996\n"
     ]
    },
    {
     "data": {
      "image/png": "[encoded data removed]",
      "text/plain": [
       "<matplotlib.figure.Figure at 0x7fe48ecea1d0>"
      ]
     },
     "metadata": {},
     "output_type": "display_data"
    }
   ],
   "source": [
    "#from sklearn.svm import SVC\n",
    "from sklearn.ensemble import RandomForestClassifier as RF\n",
    "\n",
    "X = normalize(df_expl)\n",
    "res = run_cv(X,churn_expl,RF)\n",
    "churn_pred = res[0]\n",
    "feat_impr = res[1]\n",
    "print \"Random forest accuracy: %.3f\" % accuracy(churn_expl, churn_pred)\n",
    "\n",
    "import operator\n",
    "feat = []\n",
    "impr = []\n",
    "fi = sorted(feat_impr.items(), key=operator.itemgetter(1))\n",
    "for i in xrange(len(fi)):\n",
    "    feat.append(fi[i][0])\n",
    "    impr.append(fi[i][1])\n",
    "\n",
    "N = len(fi)\n",
    "ind = np.arange(N)    # the x locations for the groups\n",
    "width = 0.55       # the width of the bars: can also be len(x) sequence\n",
    "\n",
    "plt.barh(ind, impr, width, color='b')\n",
    "\n",
    "plt.xlabel('Feature importance')\n",
    "plt.yticks(ind+width/2., feat,rotation=0)\n",
    "\n",
    "plt.show()"
   ]
  },
  {
   "cell_type": "code",
   "execution_count": 144,
   "metadata": {
    "collapsed": true
   },
   "outputs": [],
   "source": [
    "from sklearn.metrics import confusion_matrix\n",
    "confusion_matrices = [\n",
    "    ( \"Random Forest\", confusion_matrix(churn_expl,run_cv(X,churn_expl,RF)[0])),\n",
    "    ]"
   ]
  },
  {
   "cell_type": "code",
   "execution_count": 145,
   "metadata": {
    "collapsed": false
   },
   "outputs": [
    {
     "name": "stdout",
     "output_type": "stream",
     "text": [
      "RF:  \"recall=0.99674, precision=0.99824\"\n",
      "\n"
     ]
    }
   ],
   "source": [
    "rf_conf = confusion_matrices[0][1]\n",
    "print \"RF:  \\\"accuracy=%.5f, recall=%.5f, precision=%.5f\\\"\\n\" % (float(rf_conf[0][0]+rf_conf[1][1])/sum(rf_conf), float(rf_conf[1][1])/\n",
    "                                                  (rf_conf[1][1]+rf_conf[1][0]), \n",
    "                                                  float(rf_conf[1][1])/(rf_conf[1][1]+rf_conf[0][1]))\n",
    "\n",
    "#print \"SVC: \\\"recall=%.5f, precision=%.5f\\\"\\n\" % (float(svc_conf[1][1])/(svc_conf[1][1]+svc_conf[1][0]), float(svc_conf[1][1])/(svc_conf[1][1]+svc_conf[0][1]))"
   ]
  },
  {
   "cell_type": "markdown",
   "metadata": {
    "collapsed": true
   },
   "source": [
    "# Classification based on viewed"
   ]
  },
  {
   "cell_type": "code",
   "execution_count": 5,
   "metadata": {
    "collapsed": false
   },
   "outputs": [],
   "source": [
    "df_view = df.copy()\n",
    "view = df['viewed']\n",
    "del df_view['viewed'], df_view['explored'], df_view['nevents'], df_view['ndays_act'], df_view['nplay_video'] \n",
    "del df_view['nchapters'], df_view['nforum_posts']#, df_view['weeks/duration']"
   ]
  },
  {
   "cell_type": "code",
   "execution_count": 6,
   "metadata": {
    "collapsed": false
   },
   "outputs": [
    {
     "data": {
      "text/html": [
       "<div style=\"max-height:1000px;max-width:1500px;overflow:auto;\">\n",
       "<table border=\"1\" class=\"dataframe\">\n",
       "  <thead>\n",
       "    <tr style=\"text-align: right;\">\n",
       "      <th></th>\n",
       "      <th>LoE_DI</th>\n",
       "      <th>gender</th>\n",
       "      <th>subject</th>\n",
       "      <th>instructor</th>\n",
       "      <th>no_courses</th>\n",
       "      <th>weeks_in_course</th>\n",
       "      <th>regis_to_start</th>\n",
       "      <th>course_duration</th>\n",
       "      <th>last_event_to_launch</th>\n",
       "      <th>weeks/duration</th>\n",
       "      <th>Age</th>\n",
       "    </tr>\n",
       "  </thead>\n",
       "  <tbody>\n",
       "    <tr>\n",
       "      <th>0</th>\n",
       "      <td>0</td>\n",
       "      <td>0</td>\n",
       "      <td>10000000</td>\n",
       "      <td>366000</td>\n",
       "      <td>15</td>\n",
       "      <td>35.857143</td>\n",
       "      <td>-4.000000</td>\n",
       "      <td>15.714286</td>\n",
       "      <td>31.857143</td>\n",
       "      <td>2.281818</td>\n",
       "      <td>27.013075</td>\n",
       "    </tr>\n",
       "    <tr>\n",
       "      <th>1</th>\n",
       "      <td>0</td>\n",
       "      <td>0</td>\n",
       "      <td>1900000</td>\n",
       "      <td>600000</td>\n",
       "      <td>4</td>\n",
       "      <td>19.000000</td>\n",
       "      <td>-10.285714</td>\n",
       "      <td>23.285714</td>\n",
       "      <td>8.714286</td>\n",
       "      <td>0.815951</td>\n",
       "      <td>27.013075</td>\n",
       "    </tr>\n",
       "    <tr>\n",
       "      <th>2</th>\n",
       "      <td>0</td>\n",
       "      <td>0</td>\n",
       "      <td>1900000</td>\n",
       "      <td>600000</td>\n",
       "      <td>7</td>\n",
       "      <td>4.142857</td>\n",
       "      <td>-3.571429</td>\n",
       "      <td>23.285714</td>\n",
       "      <td>0.571429</td>\n",
       "      <td>0.177914</td>\n",
       "      <td>27.013075</td>\n",
       "    </tr>\n",
       "    <tr>\n",
       "      <th>3</th>\n",
       "      <td>0</td>\n",
       "      <td>0</td>\n",
       "      <td>500000000</td>\n",
       "      <td>500000</td>\n",
       "      <td>7</td>\n",
       "      <td>15.857143</td>\n",
       "      <td>-1.285714</td>\n",
       "      <td>20.571429</td>\n",
       "      <td>14.571429</td>\n",
       "      <td>0.770833</td>\n",
       "      <td>27.013075</td>\n",
       "    </tr>\n",
       "    <tr>\n",
       "      <th>4</th>\n",
       "      <td>0</td>\n",
       "      <td>0</td>\n",
       "      <td>500000000</td>\n",
       "      <td>500000</td>\n",
       "      <td>2</td>\n",
       "      <td>0.000000</td>\n",
       "      <td>15.000000</td>\n",
       "      <td>20.571429</td>\n",
       "      <td>15.000000</td>\n",
       "      <td>0.000000</td>\n",
       "      <td>27.013075</td>\n",
       "    </tr>\n",
       "  </tbody>\n",
       "</table>\n",
       "</div>"
      ],
      "text/plain": [
       "   LoE_DI  gender    subject  instructor  no_courses  weeks_in_course  \\\n",
       "0       0       0   10000000      366000          15        35.857143   \n",
       "1       0       0    1900000      600000           4        19.000000   \n",
       "2       0       0    1900000      600000           7         4.142857   \n",
       "3       0       0  500000000      500000           7        15.857143   \n",
       "4       0       0  500000000      500000           2         0.000000   \n",
       "\n",
       "   regis_to_start  course_duration  last_event_to_launch  weeks/duration  \\\n",
       "0       -4.000000        15.714286             31.857143        2.281818   \n",
       "1      -10.285714        23.285714              8.714286        0.815951   \n",
       "2       -3.571429        23.285714              0.571429        0.177914   \n",
       "3       -1.285714        20.571429             14.571429        0.770833   \n",
       "4       15.000000        20.571429             15.000000        0.000000   \n",
       "\n",
       "         Age  \n",
       "0  27.013075  \n",
       "1  27.013075  \n",
       "2  27.013075  \n",
       "3  27.013075  \n",
       "4  27.013075  "
      ]
     },
     "execution_count": 6,
     "metadata": {},
     "output_type": "execute_result"
    }
   ],
   "source": [
    "df_view.head()"
   ]
  },
  {
   "cell_type": "code",
   "execution_count": 52,
   "metadata": {
    "collapsed": false
   },
   "outputs": [
    {
     "data": {
      "text/plain": [
       "{'LoE_DI': 0.003179745988888154,\n",
       " 'explored': 0.01388599955024027,\n",
       " 'gender': 0.017643149855986508,\n",
       " 'nchapters': 0.33465097828314488,\n",
       " 'ndays_act': 0.03668255734396382,\n",
       " 'nevents': 0.019944767230091365,\n",
       " 'nforum_posts': 0.064390056263838605,\n",
       " 'nplay_video': 0.3495667425686918,\n",
       " 'subject': 0.12501124819572504,\n",
       " 'viewed': 0.035044754719429513}"
      ]
     },
     "execution_count": 52,
     "metadata": {},
     "output_type": "execute_result"
    }
   ],
   "source": [
    "feat_impr"
   ]
  },
  {
   "cell_type": "markdown",
   "metadata": {},
   "source": [
    "# Classify"
   ]
  },
  {
   "cell_type": "code",
   "execution_count": 7,
   "metadata": {
    "collapsed": false,
    "scrolled": true
   },
   "outputs": [
    {
     "name": "stdout",
     "output_type": "stream",
     "text": [
      "Random forest accuracy: 0.841\n"
     ]
    },
    {
     "data": {
      "image/png": "[encoded data removed]",
      "text/plain": [
       "<matplotlib.figure.Figure at 0x7fd188b6d5d0>"
      ]
     },
     "metadata": {},
     "output_type": "display_data"
    }
   ],
   "source": [
    "from sklearn.ensemble import RandomForestClassifier as RF\n",
    "#from sklearn.svm import SVC\n",
    "\n",
    "X = normalize(df_view)\n",
    "res = run_cv(X, df_view.columns, view,RF)\n",
    "view_pred = res[0]\n",
    "feat_impr = res[1]\n",
    "#print \"Support vector machine: %.3f\\n\" % accuracy(view, run_cv(X,df_view.columns, view,SVC)[0])\n",
    "print \"Random forest accuracy: %.3f\" % accuracy(view, view_pred)\n",
    "\n",
    "import operator\n",
    "feat = []\n",
    "impr = []\n",
    "fi = sorted(feat_impr.items(), key=operator.itemgetter(1))\n",
    "for i in xrange(len(feat_impr)):\n",
    "    feat.append(fi[i][0])\n",
    "    impr.append(fi[i][1])\n",
    "\n",
    "N = len(feat)\n",
    "ind = np.arange(N)    # the x locations for the groups\n",
    "width = 0.75       # the width of the bars: can also be len(x) sequence\n",
    "import seaborn as sns\n",
    "sns.set_style('darkgrid')\n",
    "\n",
    "p1 = plt.barh(ind, impr, width, color='yellowgreen')\n",
    "\n",
    "plt.xlabel('Feature importance', fontsize = 'x-large')\n",
    "plt.yticks(ind+width/2., feat,rotation=0, fontsize = 'x-large')\n",
    "plt.savefig('feat_impr_view.eps', format='eps')\n",
    "\n",
    "plt.show()\n",
    "\n",
    "#print \"K-nearest-neighbors:\"\n",
    "#print \"%.3f\" % accuracy(success, run_cv(X,success,KNN))"
   ]
  },
  {
   "cell_type": "code",
   "execution_count": 10,
   "metadata": {
    "collapsed": false
   },
   "outputs": [],
   "source": [
    "from sklearn.metrics import confusion_matrix\n",
    "confusion_matrices = [\n",
    "        ( \"Random Forest\", confusion_matrix(view,view_pred)),\n",
    "    ]\n",
    "         #( \"Random Forest\", confusion_matrix(view,run_cv(X,df_view.columns, view_pred,RF)[0])),\n"
   ]
  },
  {
   "cell_type": "code",
   "execution_count": 40,
   "metadata": {
    "collapsed": false
   },
   "outputs": [
    {
     "data": {
      "text/plain": [
       "0.8404391723987682"
      ]
     },
     "execution_count": 40,
     "metadata": {},
     "output_type": "execute_result"
    }
   ],
   "source": [
    "mean(view_pred == view)"
   ]
  },
  {
   "cell_type": "code",
   "execution_count": 42,
   "metadata": {
    "collapsed": false
   },
   "outputs": [
    {
     "data": {
      "text/plain": [
       "array([[ 76156,  40936],\n",
       "       [ 29374, 294181]])"
      ]
     },
     "execution_count": 42,
     "metadata": {},
     "output_type": "execute_result"
    }
   ],
   "source": [
    "confusion_matrices[0][1]"
   ]
  },
  {
   "cell_type": "code",
   "execution_count": 48,
   "metadata": {
    "collapsed": false
   },
   "outputs": [
    {
     "name": "stdout",
     "output_type": "stream",
     "text": [
      "76156\n"
     ]
    }
   ],
   "source": [
    "s = 0\n",
    "for i in xrange(len(view)):\n",
    "    if view[i] == 0 and view_pred[i] == 0:\n",
    "        s += 1\n",
    "print s    "
   ]
  },
  {
   "cell_type": "code",
   "execution_count": 14,
   "metadata": {
    "collapsed": false
   },
   "outputs": [
    {
     "data": {
      "text/plain": [
       "Index([u'LoE_DI', u'gender', u'subject', u'instructor', u'no_courses',\n",
       "       u'weeks_in_course', u'regis_to_start', u'course_duration',\n",
       "       u'last_event_to_launch', u'weeks/duration', u'Age'],\n",
       "      dtype='object')"
      ]
     },
     "execution_count": 14,
     "metadata": {},
     "output_type": "execute_result"
    }
   ],
   "source": [
    "df_view.columns"
   ]
  },
  {
   "cell_type": "code",
   "execution_count": 11,
   "metadata": {
    "collapsed": false
   },
   "outputs": [
    {
     "name": "stdout",
     "output_type": "stream",
     "text": [
      "RF:  \"accuracy=0.84243, recall=0.91090, precision=0.87892\"\n",
      "\n"
     ]
    }
   ],
   "source": [
    "rf_conf = confusion_matrices[0][1]\n",
    "print \"RF:  \\\"accuracy=%.5f, recall=%.5f, precision=%.5f\\\"\\n\" % (float(rf_conf[0][0]+rf_conf[1][1])/sum(rf_conf), float(rf_conf[1][1])/\n",
    "                                                  (rf_conf[1][1]+rf_conf[1][0]), \n",
    "                                                  float(rf_conf[1][1])/(rf_conf[1][1]+rf_conf[0][1]))\n",
    "\n",
    "#print \"SVC: \\\"recall=%.5f, precision=%.5f\\\"\\n\" % (float(svc_conf[1][1])/(svc_conf[1][1]+svc_conf[1][0]), float(svc_conf[1][1])/(svc_conf[1][1]+svc_conf[0][1]))"
   ]
  },
  {
   "cell_type": "code",
   "execution_count": 44,
   "metadata": {
    "collapsed": false
   },
   "outputs": [
    {
     "data": {
      "text/plain": [
       "0.8404391723987682"
      ]
     },
     "execution_count": 44,
     "metadata": {},
     "output_type": "execute_result"
    }
   ],
   "source": [
    "float(rf_conf[0][0] + rf_conf[1][1])/sum(rf_conf)"
   ]
  },
  {
   "cell_type": "code",
   "execution_count": 43,
   "metadata": {
    "collapsed": false
   },
   "outputs": [
    {
     "data": {
      "text/plain": [
       "(370337, 440647)"
      ]
     },
     "execution_count": 43,
     "metadata": {},
     "output_type": "execute_result"
    }
   ],
   "source": [
    "rf_conf[0][0] + rf_conf[1][1], sum(rf_conf)"
   ]
  },
  {
   "cell_type": "code",
   "execution_count": 25,
   "metadata": {
    "collapsed": false
   },
   "outputs": [
    {
     "data": {
      "text/plain": [
       "array([[ 83517,  22103],\n",
       "       [ 19528, 315499]])"
      ]
     },
     "execution_count": 25,
     "metadata": {},
     "output_type": "execute_result"
    }
   ],
   "source": [
    "rf_conf"
   ]
  },
  {
   "cell_type": "code",
   "execution_count": 26,
   "metadata": {
    "collapsed": false
   },
   "outputs": [
    {
     "data": {
      "text/plain": [
       "323555"
      ]
     },
     "execution_count": 26,
     "metadata": {},
     "output_type": "execute_result"
    }
   ],
   "source": [
    "sum(view == 1) "
   ]
  },
  {
   "cell_type": "code",
   "execution_count": null,
   "metadata": {
    "collapsed": true
   },
   "outputs": [],
   "source": []
  },
  {
   "cell_type": "markdown",
   "metadata": {},
   "source": [
    "## ROC curves"
   ]
  },
  {
   "cell_type": "code",
   "execution_count": 12,
   "metadata": {
    "collapsed": false
   },
   "outputs": [],
   "source": [
    "\n",
    "def plot_roc(X, y):\n",
    "    \n",
    "    import matplotlib.pyplot as plt\n",
    "    import seaborn as sns\n",
    "    sns.set_style('white')\n",
    "\n",
    "    from sklearn.ensemble import RandomForestClassifier as RF\n",
    "    from sklearn.neighbors import KNeighborsClassifier as KNN\n",
    "\n",
    "    from sklearn.metrics import roc_curve, auc\n",
    "    from sklearn.cross_validation import train_test_split\n",
    "    \n",
    "    n_classes = 2\n",
    "    n_samples, n_features = X.shape\n",
    "    # shuffle and split training and test sets\n",
    "    X_train, X_test, y_train, y_test = train_test_split(X, y, test_size=.3,\n",
    "                                                    random_state=0)\n",
    "\n",
    "    # Learn to predict each class against the other\n",
    "    classifier = RF(n_estimators=20)\n",
    "    y_score = classifier.fit(X_train, y_train).predict_proba(X_test)\n",
    "\n",
    "    fpr, tpr, _ = roc_curve(y_test, y_score[:,1])    \n",
    "    roc_auc = auc(fpr, tpr)\n",
    "    \n",
    "    #KNN\n",
    "    classifier = KNN(n_neighbors=20)\n",
    "    y_score = classifier.fit(X_train, y_train).predict_proba(X_test)\n",
    "\n",
    "    fpr2, tpr2, _ = roc_curve(y_test, y_score[:,1])    \n",
    "    roc_auc2 = auc(fpr2, tpr2)\n",
    "\n",
    "    # Compute micro-average ROC curve and ROC area\n",
    "    #fpr[\"micro\"], tpr[\"micro\"], _ = roc_curve(y_test.ravel(), y_score.ravel())\n",
    "    #roc_auc[\"micro\"] = auc(fpr[\"micro\"], tpr[\"micro\"])\n",
    "\n",
    "    # Plot of a ROC curve for a specific class\n",
    "    plt.figure()\n",
    "    plt.plot(fpr, tpr, label='RF (area = %0.4f)' % roc_auc)\n",
    "    plt.plot(fpr2, tpr2, label='kNN (area = %0.4f)' % roc_auc2)\n",
    "\n",
    "    plt.plot([0, 1], [0, 1], 'k--')\n",
    "    plt.xlim([0.0, 1.0])\n",
    "    plt.ylim([0.0, 1.05])\n",
    "    plt.xlabel('False Positive Rate', fontsize = 'x-large')\n",
    "    plt.ylabel('True Positive Rate', fontsize = 'x-large')\n",
    "    #plt.title('ROC curve')\n",
    "    plt.legend(loc=\"lower right\", fontsize = 'x-large')\n",
    "    plt.savefig('roc_view.eps', format='eps')\n",
    "\n",
    "    \n",
    "    plt.show()\n",
    "    #return y_score\n"
   ]
  },
  {
   "cell_type": "code",
   "execution_count": 13,
   "metadata": {
    "collapsed": false
   },
   "outputs": [
    {
     "data": {
      "image/png": "[encoded data removed]",
      "text/plain": [
       "<matplotlib.figure.Figure at 0x7f8e6979d050>"
      ]
     },
     "metadata": {},
     "output_type": "display_data"
    }
   ],
   "source": [
    "plot_roc(normalize(df_view), view)"
   ]
  },
  {
   "cell_type": "code",
   "execution_count": 32,
   "metadata": {
    "collapsed": true
   },
   "outputs": [],
   "source": [
    "pred_prob = run_prob_cv(normalize(df_view), view, RF, n_estimators=10)\n",
    "pred_churn = pred_prob[:,0]\n",
    "is_churn = view == 0\n",
    "\n",
    "# Number of times a predicted probability is assigned to an observation\n",
    "counts = pd.value_counts(pred_churn)"
   ]
  },
  {
   "cell_type": "code",
   "execution_count": 42,
   "metadata": {
    "collapsed": false
   },
   "outputs": [
    {
     "data": {
      "text/plain": [
       "(440647, 11)"
      ]
     },
     "execution_count": 42,
     "metadata": {},
     "output_type": "execute_result"
    }
   ],
   "source": [
    "df_view.shape"
   ]
  },
  {
   "cell_type": "code",
   "execution_count": 47,
   "metadata": {
    "collapsed": false
   },
   "outputs": [
    {
     "data": {
      "text/plain": [
       "440647"
      ]
     },
     "execution_count": 47,
     "metadata": {},
     "output_type": "execute_result"
    }
   ],
   "source": [
    "sum(counts.values)"
   ]
  },
  {
   "cell_type": "markdown",
   "metadata": {},
   "source": [
    "# Look at probabilities"
   ]
  },
  {
   "cell_type": "code",
   "execution_count": 183,
   "metadata": {
    "collapsed": true
   },
   "outputs": [],
   "source": [
    "def run_prob_cv(X, y, clf_class, **kwargs):\n",
    "    from sklearn.cross_validation import KFold\n",
    "\n",
    "    kf = KFold(len(y), n_folds=2, shuffle=True)\n",
    "    y_prob = np.zeros((len(y),2))\n",
    "    for train_index, test_index in kf:\n",
    "        X_train, X_test = X[train_index], X[test_index]\n",
    "        y_train = y[train_index]\n",
    "        clf = clf_class(**kwargs)\n",
    "        clf.fit(X_train,y_train)\n",
    "        # Predict probabilities, not classes\n",
    "        y_prob[test_index] = clf.predict_proba(X_test)\n",
    "    return y_prob"
   ]
  },
  {
   "cell_type": "code",
   "execution_count": 185,
   "metadata": {
    "collapsed": false
   },
   "outputs": [],
   "source": [
    "from sklearn.neighbors import KNeighborsClassifier as KNN\n",
    "\n",
    "#pred_prob = run_prob_cv(normalize(df_view), view, RF, n_estimators=10)\n",
    "pred_prob = run_prob_cv(normalize(df_view), view, KNN, n_neighbors=100)\n",
    "\n",
    "pred_churn = pred_prob[:,0]\n",
    "is_churn = view == 0\n",
    "\n",
    "# Number of times a predicted probability is assigned to an observation\n",
    "counts = pd.value_counts(pred_churn)\n",
    "\n",
    "# calculate true probabilities\n",
    "true_prob = {}\n",
    "for prob in counts.index:\n",
    "    if sum(pred_churn == prob) > 100: # keep large groups only\n",
    "        true_prob[prob] = np.mean(is_churn[pred_churn == prob])"
   ]
  },
  {
   "cell_type": "code",
   "execution_count": 166,
   "metadata": {
    "collapsed": false
   },
   "outputs": [
    {
     "data": {
      "text/plain": [
       "440647"
      ]
     },
     "execution_count": 166,
     "metadata": {},
     "output_type": "execute_result"
    }
   ],
   "source": [
    "sum(counts.values)"
   ]
  },
  {
   "cell_type": "code",
   "execution_count": 207,
   "metadata": {
    "collapsed": false
   },
   "outputs": [
    {
     "data": {
      "image/png": "[encoded data removed]",
      "text/plain": [
       "<matplotlib.figure.Figure at 0x7fb15c169950>"
      ]
     },
     "metadata": {},
     "output_type": "display_data"
    }
   ],
   "source": [
    "import collections\n",
    "prob = collections.OrderedDict(sorted(true_prob.items()))\n",
    "\n",
    "import seaborn as sns\n",
    "sns.set_style('darkgrid')\n",
    "\n",
    "#plt.plot(od.keys(), od.values(), color='b', markersize=12)\n",
    "plt.xlim([-.05,1.05])\n",
    "plt.ylim([-.05,1.05])\n",
    "#plt.scatter(prob.keys(), prob.values(), s=10, edgecolors='r')\n",
    "plt.plot(prob.keys(), prob.values(), '.', c='r')\n",
    "plt.plot([0, 1], [0, 1], 'k--', c='g');\n",
    "plt.xlabel('Predicted churn probability', fontsize = 'xx-large')\n",
    "plt.ylabel('Freq. of outcome', fontsize = 'xx-large')\n",
    "plt.savefig('prob.eps', format='eps')\n"
   ]
  },
  {
   "cell_type": "code",
   "execution_count": 142,
   "metadata": {
    "collapsed": true
   },
   "outputs": [
    {
     "ename": "AttributeError",
     "evalue": "'list' object has no attribute 'keys'",
     "output_type": "error",
     "traceback": [
      "\u001b[1;31m---------------------------------------------------------------------------\u001b[0m",
      "\u001b[1;31mAttributeError\u001b[0m                            Traceback (most recent call last)",
      "\u001b[1;32m<ipython-input-142-dd0eabab37d3>\u001b[0m in \u001b[0;36m<module>\u001b[1;34m()\u001b[0m\n\u001b[1;32m----> 1\u001b[1;33m \u001b[0mtrue_prob\u001b[0m\u001b[1;33m.\u001b[0m\u001b[0mkeys\u001b[0m\u001b[1;33m(\u001b[0m\u001b[1;33m)\u001b[0m\u001b[1;33m\u001b[0m\u001b[0m\n\u001b[0m",
      "\u001b[1;31mAttributeError\u001b[0m: 'list' object has no attribute 'keys'"
     ]
    }
   ],
   "source": [
    "true_prob.keys()"
   ]
  },
  {
   "cell_type": "code",
   "execution_count": null,
   "metadata": {
    "collapsed": true
   },
   "outputs": [],
   "source": []
  },
  {
   "cell_type": "code",
   "execution_count": null,
   "metadata": {
    "collapsed": true
   },
   "outputs": [],
   "source": []
  },
  {
   "cell_type": "markdown",
   "metadata": {},
   "source": [
    "## Repeat this with part of the data with similar number of neg. and pos."
   ]
  },
  {
   "cell_type": "code",
   "execution_count": 104,
   "metadata": {
    "collapsed": false
   },
   "outputs": [
    {
     "data": {
      "image/png": "[encoded data removed]",
      "text/plain": [
       "<matplotlib.figure.Figure at 0x7f272d9af710>"
      ]
     },
     "metadata": {},
     "output_type": "display_data"
    }
   ],
   "source": [
    "pos_to_neg = 1.5\n",
    "\n",
    "df_pos = df[Churn == 1]\n",
    "df_neg = df[Churn == 0]\n",
    "df_pos.index = range(df_pos.shape[0])\n",
    "# random sampling from df_pos\n",
    "import random\n",
    "rows = random.sample(df_pos.index, int(pos_to_neg*df_neg.shape[0]))\n",
    "df_pos_samp = df_pos.ix[rows]\n",
    "del df_pos\n",
    "\n",
    "#df_pos_samp = df_pos.ix[:int(pos_to_neg*df_neg.shape[0])]\n",
    "\n",
    "df_balanced = pd.concat([df_neg, df_pos_samp], ignore_index=True)\n",
    "\n",
    "y = [0 for i in xrange(df_neg.shape[0])] + [1 for i in xrange(df_pos_samp.shape[0])]\n",
    "y = np.array(y)\n",
    "\n",
    "\n",
    "plot_roc(normalize(df_balanced), y)\n"
   ]
  },
  {
   "cell_type": "code",
   "execution_count": 102,
   "metadata": {
    "collapsed": false
   },
   "outputs": [
    {
     "data": {
      "text/plain": [
       "(44182, 17)"
      ]
     },
     "execution_count": 102,
     "metadata": {},
     "output_type": "execute_result"
    }
   ],
   "source": [
    "df_balanced.shape"
   ]
  },
  {
   "cell_type": "code",
   "execution_count": 76,
   "metadata": {
    "collapsed": false
   },
   "outputs": [
    {
     "data": {
      "text/plain": [
       "(44182, 17)"
      ]
     },
     "execution_count": 76,
     "metadata": {},
     "output_type": "execute_result"
    }
   ],
   "source": [
    "df_balanced.shape"
   ]
  },
  {
   "cell_type": "code",
   "execution_count": null,
   "metadata": {
    "collapsed": true
   },
   "outputs": [],
   "source": []
  },
  {
   "cell_type": "code",
   "execution_count": 105,
   "metadata": {
    "collapsed": false
   },
   "outputs": [
    {
     "name": "stdout",
     "output_type": "stream",
     "text": [
      "Random forest accuracy: 0.976\n"
     ]
    },
    {
     "data": {
      "image/png": "[encoded data removed]",
      "text/plain": [
       "<matplotlib.figure.Figure at 0x7f2731507d90>"
      ]
     },
     "metadata": {},
     "output_type": "display_data"
    }
   ],
   "source": [
    "from sklearn.ensemble import RandomForestClassifier as RF\n",
    "\n",
    "\n",
    "X = normalize(df_balanced)\n",
    "res = run_cv(X, df_balanced.columns, y, RF)\n",
    "view_pred = res[0]\n",
    "feat_impr = res[1]\n",
    "#print \"Support vector machine: %.5f\\n\" % accuracy(success, run_cv(X,success,SVC))\n",
    "print \"Random forest accuracy: %.3f\" % accuracy(y, view_pred)\n",
    "\n",
    "import operator\n",
    "feat = []\n",
    "impr = []\n",
    "fi = sorted(feat_impr.items(), key=operator.itemgetter(1))\n",
    "for i in xrange(len(feat_impr)):\n",
    "    feat.append(fi[i][0])\n",
    "    impr.append(fi[i][1])\n",
    "\n",
    "N = len(feat)\n",
    "ind = np.arange(N)    # the x locations for the groups\n",
    "width = 0.55       # the width of the bars: can also be len(x) sequence\n",
    "sns.set_style('darkgrid')\n",
    "\n",
    "p1 = plt.barh(ind, impr, width, color='b')\n",
    "\n",
    "plt.xlabel('Feature importance')\n",
    "plt.yticks(ind+width/2., feat,rotation=0)\n",
    "\n",
    "plt.xlabel('Feature importance', fontsize = 'x-large')\n",
    "plt.yticks(ind+width/2., feat,rotation=0, fontsize = 'x-large')\n",
    "\n",
    "plt.show()\n",
    "\n",
    "#print \"K-nearest-neighbors:\"\n",
    "#print \"%.3f\" % accuracy(success, run_cv(X,success,KNN))"
   ]
  },
  {
   "cell_type": "code",
   "execution_count": 107,
   "metadata": {
    "collapsed": false
   },
   "outputs": [
    {
     "name": "stdout",
     "output_type": "stream",
     "text": [
      "RF:  \"accuracy=0.97567, recall=0.96899, precision=0.99025\"\n",
      "\n"
     ]
    }
   ],
   "source": [
    "from sklearn.metrics import confusion_matrix\n",
    "confusion_matrices = [\n",
    "        ( \"Random Forest\", confusion_matrix(y,view_pred)),\n",
    "    ]\n",
    "         #( \"Random Forest\", confusion_matrix(view,run_cv(X,df_view.columns, view_pred,RF)[0])),\n",
    "\n",
    "rf_conf = confusion_matrices[0][1]\n",
    "print \"RF:  \\\"accuracy=%.5f, recall=%.5f, precision=%.5f\\\"\\n\" % (float(rf_conf[0][0]+rf_conf[1][1])/sum(rf_conf), float(rf_conf[1][1])/\n",
    "                                                  (rf_conf[1][1]+rf_conf[1][0]), \n",
    "                                                  float(rf_conf[1][1])/(rf_conf[1][1]+rf_conf[0][1]))\n",
    "\n",
    "#print \"SVC: \\\"recall=%.5f, precision=%.5f\\\"\\n\" % (float(svc_conf[1][1])/(svc_conf[1][1]+svc_conf[1][0]), float(svc_conf[1][1])/(svc_conf[1][1]+svc_conf[0][1]))"
   ]
  },
  {
   "cell_type": "code",
   "execution_count": 119,
   "metadata": {
    "collapsed": false
   },
   "outputs": [
    {
     "data": {
      "text/plain": [
       "(323555, (440647, 17))"
      ]
     },
     "execution_count": 119,
     "metadata": {},
     "output_type": "execute_result"
    }
   ],
   "source": [
    "x = df[df['viewed'] == 1]\n",
    "len(x), df.shape"
   ]
  },
  {
   "cell_type": "code",
   "execution_count": 116,
   "metadata": {
    "collapsed": false
   },
   "outputs": [
    {
     "data": {
      "text/plain": [
       "0.95989306633200722"
      ]
     },
     "execution_count": 116,
     "metadata": {},
     "output_type": "execute_result"
    }
   ],
   "source": [
    "mean(Churn == 1)"
   ]
  },
  {
   "cell_type": "code",
   "execution_count": 120,
   "metadata": {
    "collapsed": false
   },
   "outputs": [
    {
     "data": {
      "text/plain": [
       "(440647, 17)"
      ]
     },
     "execution_count": 120,
     "metadata": {},
     "output_type": "execute_result"
    }
   ],
   "source": [
    "df.shape"
   ]
  },
  {
   "cell_type": "code",
   "execution_count": null,
   "metadata": {
    "collapsed": true
   },
   "outputs": [],
   "source": []
  }
 ],
 "metadata": {
  "kernelspec": {
   "display_name": "Python 2",
   "language": "python",
   "name": "python2"
  },
  "language_info": {
   "codemirror_mode": {
    "name": "ipython",
    "version": 2
   },
   "file_extension": ".py",
   "mimetype": "text/x-python",
   "name": "python",
   "nbconvert_exporter": "python",
   "pygments_lexer": "ipython2",
   "version": "2.7.6"
  }
 },
 "nbformat": 4,
 "nbformat_minor": 0
}

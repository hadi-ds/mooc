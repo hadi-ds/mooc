{
 "cells": [
  {
   "cell_type": "code",
   "execution_count": 1,
   "metadata": {
    "collapsed": false
   },
   "outputs": [
    {
     "name": "stdout",
     "output_type": "stream",
     "text": [
      "Populating the interactive namespace from numpy and matplotlib\n"
     ]
    }
   ],
   "source": [
    "import pandas as pd\n",
    "import numpy as np\n",
    "\n",
    "%pylab inline"
   ]
  },
  {
   "cell_type": "code",
   "execution_count": 2,
   "metadata": {
    "collapsed": false
   },
   "outputs": [
    {
     "data": {
      "text/plain": [
       "Index([u'course_id', u'viewed', u'explored', u'certified', u'LoE_DI', u'YoB',\n",
       "       u'gender', u'grade', u'nevents', u'ndays_act', u'nplay_video',\n",
       "       u'nchapters', u'nforum_posts', u'subject', u'instructor', u'no_courses',\n",
       "       u'student_regis_to_launch', u'course_duration', u'last_event_to_launch',\n",
       "       u'regis_open_to_launch'],\n",
       "      dtype='object')"
      ]
     },
     "execution_count": 2,
     "metadata": {},
     "output_type": "execute_result"
    }
   ],
   "source": [
    "df = pd.read_csv('learn.csv')\n",
    "df.columns"
   ]
  },
  {
   "cell_type": "markdown",
   "metadata": {},
   "source": [
    "## Load the data, remove records of inactive students and impute missing values. \n",
    "\n",
    "Churn = 1 for those who didn't complete rhe course"
   ]
  },
  {
   "cell_type": "code",
   "execution_count": 8,
   "metadata": {
    "collapsed": false
   },
   "outputs": [],
   "source": [
    "df = pd.read_csv('learn.csv')\n",
    "\n",
    "# remove inactive students: those with 'nevents' being 'NaN'.\n",
    "df = df[pd.notnull(df.nevents)]\n",
    "df.index = range(df.shape[0])\n",
    "\n",
    "temp = []\n",
    "# Convert cathegoricals and impute missing values: \n",
    "for i in xrange(df.shape[0]): # df.shape[0]\n",
    "    if df['LoE_DI'][i] == 'Less than Secondary':\n",
    "        temp.append(1)\n",
    "    elif df['LoE_DI'][i] == 'Secondary':\n",
    "        temp.append(2)\n",
    "    elif df['LoE_DI'][i] == 'Bachelor\\'s':\n",
    "        temp.append(3)\n",
    "    elif df['LoE_DI'][i] == 'Master\\'s':\n",
    "        temp.append(4)\n",
    "    elif df['LoE_DI'][i] == 'Doctorate':\n",
    "        temp.append(5)\n",
    "    else:\n",
    "        temp.append(0)\n",
    "        \n",
    "df['LoE_DI'] = temp\n",
    "temp = []\n",
    "        \n",
    "for i in xrange(df.shape[0]):\n",
    "    if df['gender'][i] == 'm': #male\n",
    "        temp.append(1)\n",
    "    elif df['gender'][i] == 'f':\n",
    "        temp.append(2)\n",
    "    else:\n",
    "        temp.append(0)\n",
    "        \n",
    "df['gender'] = temp\n",
    "del temp\n",
    "\n",
    "from sklearn.preprocessing import Imputer\n",
    "imp1=Imputer(missing_values='NaN',strategy='mean',axis=1)\n",
    "df['nchapters']=imp1.fit_transform(df['nchapters']).transpose()\n",
    "\n",
    "#imp2=Imputer(missing_values='NaN',strategy='median',axis=1) #didn't work-get back to this later\n",
    "df['nplay_video']=imp1.fit_transform(df['nplay_video']).transpose()\n",
    "df['YoB']=imp1.fit_transform(df['YoB']).transpose()\n",
    "\n",
    "#convert YoB to age:\n",
    "course_yr = 2012.5\n",
    "df['Age'] = df['YoB'].map(lambda x: course_yr - x)\n",
    "\n",
    "#Convert 'certified' to 'Churn'\n",
    "Churn = df['certified'].map(lambda x: 1-x)\n",
    "    \n",
    "del df['YoB'], df['certified'], df['grade'], df['explored'], df['course_id']"
   ]
  },
  {
   "cell_type": "code",
   "execution_count": 4,
   "metadata": {
    "collapsed": false
   },
   "outputs": [
    {
     "data": {
      "text/html": [
       "<div style=\"max-height:1000px;max-width:1500px;overflow:auto;\">\n",
       "<table border=\"1\" class=\"dataframe\">\n",
       "  <thead>\n",
       "    <tr style=\"text-align: right;\">\n",
       "      <th></th>\n",
       "      <th>course_id</th>\n",
       "      <th>viewed</th>\n",
       "      <th>LoE_DI</th>\n",
       "      <th>gender</th>\n",
       "      <th>nevents</th>\n",
       "      <th>ndays_act</th>\n",
       "      <th>nplay_video</th>\n",
       "      <th>nchapters</th>\n",
       "      <th>nforum_posts</th>\n",
       "      <th>subject</th>\n",
       "      <th>instructor</th>\n",
       "      <th>no_courses</th>\n",
       "      <th>student_regis_to_launch</th>\n",
       "      <th>course_duration</th>\n",
       "      <th>last_event_to_launch</th>\n",
       "      <th>regis_open_to_launch</th>\n",
       "      <th>Age</th>\n",
       "    </tr>\n",
       "  </thead>\n",
       "  <tbody>\n",
       "    <tr>\n",
       "      <th>0</th>\n",
       "      <td>HarvardX/PH207x/2012_Fall</td>\n",
       "      <td>1</td>\n",
       "      <td>0</td>\n",
       "      <td>0</td>\n",
       "      <td>502</td>\n",
       "      <td>16</td>\n",
       "      <td>50.000000</td>\n",
       "      <td>12</td>\n",
       "      <td>0</td>\n",
       "      <td>10000000</td>\n",
       "      <td>366000</td>\n",
       "      <td>15</td>\n",
       "      <td>-4.000000</td>\n",
       "      <td>15.714286</td>\n",
       "      <td>31.857143</td>\n",
       "      <td>-11.571429</td>\n",
       "      <td>27.011261</td>\n",
       "    </tr>\n",
       "    <tr>\n",
       "      <th>1</th>\n",
       "      <td>HarvardX/CB22x/2013_Spring</td>\n",
       "      <td>1</td>\n",
       "      <td>0</td>\n",
       "      <td>0</td>\n",
       "      <td>42</td>\n",
       "      <td>6</td>\n",
       "      <td>115.972094</td>\n",
       "      <td>3</td>\n",
       "      <td>0</td>\n",
       "      <td>1900000</td>\n",
       "      <td>600000</td>\n",
       "      <td>4</td>\n",
       "      <td>-10.285714</td>\n",
       "      <td>23.285714</td>\n",
       "      <td>8.714286</td>\n",
       "      <td>-12.714286</td>\n",
       "      <td>27.011261</td>\n",
       "    </tr>\n",
       "    <tr>\n",
       "      <th>2</th>\n",
       "      <td>HarvardX/CB22x/2013_Spring</td>\n",
       "      <td>1</td>\n",
       "      <td>0</td>\n",
       "      <td>0</td>\n",
       "      <td>70</td>\n",
       "      <td>3</td>\n",
       "      <td>115.972094</td>\n",
       "      <td>3</td>\n",
       "      <td>0</td>\n",
       "      <td>1900000</td>\n",
       "      <td>600000</td>\n",
       "      <td>7</td>\n",
       "      <td>-3.571429</td>\n",
       "      <td>23.285714</td>\n",
       "      <td>0.571429</td>\n",
       "      <td>-12.714286</td>\n",
       "      <td>27.011261</td>\n",
       "    </tr>\n",
       "    <tr>\n",
       "      <th>3</th>\n",
       "      <td>HarvardX/ER22x/2013_Spring</td>\n",
       "      <td>1</td>\n",
       "      <td>0</td>\n",
       "      <td>0</td>\n",
       "      <td>17</td>\n",
       "      <td>2</td>\n",
       "      <td>115.972094</td>\n",
       "      <td>2</td>\n",
       "      <td>0</td>\n",
       "      <td>500000000</td>\n",
       "      <td>500000</td>\n",
       "      <td>7</td>\n",
       "      <td>-1.285714</td>\n",
       "      <td>20.571429</td>\n",
       "      <td>14.571429</td>\n",
       "      <td>-11.142857</td>\n",
       "      <td>27.011261</td>\n",
       "    </tr>\n",
       "    <tr>\n",
       "      <th>4</th>\n",
       "      <td>HarvardX/ER22x/2013_Spring</td>\n",
       "      <td>1</td>\n",
       "      <td>0</td>\n",
       "      <td>0</td>\n",
       "      <td>32</td>\n",
       "      <td>1</td>\n",
       "      <td>115.972094</td>\n",
       "      <td>3</td>\n",
       "      <td>0</td>\n",
       "      <td>500000000</td>\n",
       "      <td>500000</td>\n",
       "      <td>2</td>\n",
       "      <td>15.000000</td>\n",
       "      <td>20.571429</td>\n",
       "      <td>15.000000</td>\n",
       "      <td>-11.142857</td>\n",
       "      <td>27.011261</td>\n",
       "    </tr>\n",
       "  </tbody>\n",
       "</table>\n",
       "</div>"
      ],
      "text/plain": [
       "                    course_id  viewed  LoE_DI  gender  nevents  ndays_act  \\\n",
       "0   HarvardX/PH207x/2012_Fall       1       0       0      502         16   \n",
       "1  HarvardX/CB22x/2013_Spring       1       0       0       42          6   \n",
       "2  HarvardX/CB22x/2013_Spring       1       0       0       70          3   \n",
       "3  HarvardX/ER22x/2013_Spring       1       0       0       17          2   \n",
       "4  HarvardX/ER22x/2013_Spring       1       0       0       32          1   \n",
       "\n",
       "   nplay_video  nchapters  nforum_posts    subject  instructor  no_courses  \\\n",
       "0    50.000000         12             0   10000000      366000          15   \n",
       "1   115.972094          3             0    1900000      600000           4   \n",
       "2   115.972094          3             0    1900000      600000           7   \n",
       "3   115.972094          2             0  500000000      500000           7   \n",
       "4   115.972094          3             0  500000000      500000           2   \n",
       "\n",
       "   student_regis_to_launch  course_duration  last_event_to_launch  \\\n",
       "0                -4.000000        15.714286             31.857143   \n",
       "1               -10.285714        23.285714              8.714286   \n",
       "2                -3.571429        23.285714              0.571429   \n",
       "3                -1.285714        20.571429             14.571429   \n",
       "4                15.000000        20.571429             15.000000   \n",
       "\n",
       "   regis_open_to_launch        Age  \n",
       "0            -11.571429  27.011261  \n",
       "1            -12.714286  27.011261  \n",
       "2            -12.714286  27.011261  \n",
       "3            -11.142857  27.011261  \n",
       "4            -11.142857  27.011261  "
      ]
     },
     "execution_count": 4,
     "metadata": {},
     "output_type": "execute_result"
    }
   ],
   "source": [
    "df.head()"
   ]
  },
  {
   "cell_type": "code",
   "execution_count": 4,
   "metadata": {
    "collapsed": false
   },
   "outputs": [
    {
     "data": {
      "text/plain": [
       "1.0"
      ]
     },
     "execution_count": 4,
     "metadata": {},
     "output_type": "execute_result"
    }
   ],
   "source": [
    "z = [df['ndays_act'][i] for i in xrange(df.shape[0]) if not pd.isnull(df['ndays_act'][i])]\n",
    "len(z)/float(df.shape[0])"
   ]
  },
  {
   "cell_type": "markdown",
   "metadata": {},
   "source": [
    "## The churn rate (% of non-certified students) is high."
   ]
  },
  {
   "cell_type": "code",
   "execution_count": 3,
   "metadata": {
    "collapsed": false
   },
   "outputs": [
    {
     "name": "stdout",
     "output_type": "stream",
     "text": [
      "Churn rate is 96%.\n"
     ]
    }
   ],
   "source": [
    "z = [Churn[i] for i in xrange(df.shape[0]) if Churn[i] == 1]\n",
    "print \"Churn rate is %d%%.\" % (100*len(z)/df.shape[0])"
   ]
  },
  {
   "cell_type": "markdown",
   "metadata": {},
   "source": [
    "## Setting necessary learning, validation and plotting functions"
   ]
  },
  {
   "cell_type": "code",
   "execution_count": 5,
   "metadata": {
    "collapsed": false
   },
   "outputs": [],
   "source": [
    "def normalize(dat_frm): # normalize the features\n",
    "    from sklearn import preprocessing\n",
    "    X = dat_frm.as_matrix().astype(np.float)\n",
    "    #return scaler.fit_transform(X)\n",
    "    return preprocessing.scale(X)\n",
    "\n",
    "def accuracy(y_true,y_pred): \n",
    "    return np.mean(y_true == y_pred)"
   ]
  },
  {
   "cell_type": "code",
   "execution_count": 6,
   "metadata": {
    "collapsed": false
   },
   "outputs": [],
   "source": [
    "def run_cv(X,features,y,clf_class,**kwargs): # makes cross-validated learning and predictions\n",
    "    \n",
    "    from sklearn.cross_validation import KFold\n",
    "    no_features = X.shape[1]\n",
    "    n_folds = 3\n",
    "    \n",
    "    kf = KFold(len(y),n_folds=n_folds,shuffle=True)\n",
    "    y_pred = y.copy()\n",
    "    ftr_impr = [0 for i in xrange(no_features)]\n",
    "    \n",
    "    #Iterate through folds\n",
    "    for train_index, test_index in kf:\n",
    "        X_train, X_test = X[train_index], X[test_index]\n",
    "        y_train = y[train_index]\n",
    "        # Initialize a classifier \n",
    "        clf = clf_class(**kwargs)\n",
    "        clf.fit(X_train,y_train)\n",
    "        y_pred[test_index] = clf.predict(X_test)\n",
    "        \n",
    "        if clf_class == RF:\n",
    "            for i in xrange(no_features):\n",
    "                ftr_impr[i] += clf.feature_importances_[i]/n_folds\n",
    "            \n",
    "        #print type(clf.feature_importances_)\n",
    "    \n",
    "    #print clf.get_params() \n",
    "    #for i in xrange(len(features)):\n",
    "     #   print \"%s: %.4f\" % (features[i], ftr_impr[i]/n_folds) \n",
    "    \n",
    "    imprt = {} # feature importances for random in case of forrest classifier\n",
    "    if clf_class == RF:\n",
    "        for i in xrange(no_features):\n",
    "            imprt[features[i]] = ftr_impr[i]\n",
    "            #print \"%s: %.3f\" % (features[i], ftr_impr[i])        \n",
    "    return y_pred, imprt    \n"
   ]
  },
  {
   "cell_type": "markdown",
   "metadata": {},
   "source": [
    "##Churn prediction using random forrest classifier"
   ]
  },
  {
   "cell_type": "code",
   "execution_count": 9,
   "metadata": {
    "collapsed": false
   },
   "outputs": [
    {
     "name": "stdout",
     "output_type": "stream",
     "text": [
      "Random forest accuracy: 0.987\n"
     ]
    },
    {
     "data": {
      "image/png": "[encoded data removed]",
      "text/plain": [
       "<matplotlib.figure.Figure at 0x7f096c0955d0>"
      ]
     },
     "metadata": {},
     "output_type": "display_data"
    }
   ],
   "source": [
    "from sklearn.ensemble import RandomForestClassifier as RF\n",
    "\n",
    "X = normalize(df)\n",
    "res = run_cv(X,df.columns, Churn,RF)\n",
    "churn_pred = res[0]\n",
    "feat_impr = res[1]\n",
    "print \"Random forest accuracy: %.3f\" % accuracy(Churn, churn_pred)\n",
    "\n",
    "import operator\n",
    "feat = []\n",
    "impr = []\n",
    "fi = sorted(feat_impr.items(), key=operator.itemgetter(1))\n",
    "for i in xrange(len(feat_impr)):\n",
    "    feat.append(fi[i][0])\n",
    "    impr.append(fi[i][1])\n",
    "\n",
    "N = X.shape[1]\n",
    "ind = np.arange(N)    # the x locations for the groups\n",
    "width = 0.75       # the width of the bars: can also be len(x) sequence\n",
    "\n",
    "import seaborn as sns\n",
    "sns.set_style('darkgrid')\n",
    "\n",
    "p1 = plt.barh(ind, impr, width, color='greenyellow')\n",
    "\n",
    "plt.xlabel('Feature importance', fontsize = 'xx-large')\n",
    "plt.yticks(ind+width/2., feat,rotation=0, fontsize = 'xx-large')\n",
    "plt.savefig('feat_impr_certify.eps', format='eps')\n",
    "\n",
    "plt.show()"
   ]
  },
  {
   "cell_type": "markdown",
   "metadata": {},
   "source": [
    "## How good is the classifier?\n",
    "\n",
    "### Accuracy by itself it not a complete measure of "
   ]
  },
  {
   "cell_type": "markdown",
   "metadata": {},
   "source": [
    "## Confusion matrix"
   ]
  },
  {
   "cell_type": "code",
   "execution_count": 10,
   "metadata": {
    "collapsed": false
   },
   "outputs": [],
   "source": [
    "from sklearn.metrics import confusion_matrix\n",
    "\n",
    "confusion_matrices = [\n",
    "    ( \"Random Forest\", confusion_matrix(Churn,run_cv(X,df.columns, Churn,RF)[0])),\n",
    "    ]"
   ]
  },
  {
   "cell_type": "code",
   "execution_count": 11,
   "metadata": {
    "collapsed": false
   },
   "outputs": [],
   "source": [
    "def plot_confusion_matrix(confusion_matrices):\n",
    "\n",
    "\timport matplotlib.pyplot as plt\n",
    "\timport numpy as np\n",
    "\n",
    "\tconf_arr = confusion_matrices\n",
    "\t\n",
    "\tnorm_conf = []\n",
    "\tfor i in conf_arr: \n",
    "\t    a = 0\n",
    "\t    tmp_arr = []\n",
    "\t    a = sum(i, 0)\n",
    "\t    for j in i:\n",
    "\t\ttmp_arr.append(float(j)/float(a))\n",
    "\t    norm_conf.append(tmp_arr)\n",
    "\t\n",
    "\tfig = plt.figure()\n",
    "\tplt.clf()\n",
    "\tax = fig.add_subplot(111)\n",
    "\tax.set_aspect(1)\n",
    "\tres = ax.imshow(np.array(norm_conf), cmap=plt.cm.jet, \n",
    "\t\t\tinterpolation='nearest') \n",
    "\t\n",
    "\twidth = len(conf_arr)\n",
    "\theight = len(conf_arr[0])\n",
    "\t\n",
    "\tfor x in xrange(width):\n",
    "\t    for y in xrange(height):\n",
    "\t\tax.annotate(str(conf_arr[x][y]), xy=(y, x), \n",
    "\t\t\t    horizontalalignment='center',\n",
    "\t\t\t    verticalalignment='center', fontsize = 'xx-large')\n",
    "\t\t       \n",
    "\talphabet = ['retention','churn']\n",
    "\tplt.ylabel('True class', fontsize = 'xx-large')\n",
    "\tplt.xlabel('Pred. class', fontsize = 'xx-large')\n",
    "\tplt.xticks(range(width), alphabet[:width], fontsize = 'xx-large')\n",
    "\tplt.yticks(range(height), alphabet[:height], fontsize = 'xx-large')\n",
    "\tplt.savefig('confusion_matrix.png', format='png')"
   ]
  },
  {
   "cell_type": "markdown",
   "metadata": {},
   "source": [
    "## Recall and precision"
   ]
  },
  {
   "cell_type": "code",
   "execution_count": 16,
   "metadata": {
    "collapsed": false
   },
   "outputs": [
    {
     "name": "stdout",
     "output_type": "stream",
     "text": [
      "\n",
      "\n",
      "Recall and precesion of random forrest classifier:  \"recall=0.992, precision=0.994\"\n",
      "\n"
     ]
    },
    {
     "data": {
      "image/png": "[encoded data removed]",
      "text/plain": [
       "<matplotlib.figure.Figure at 0x7f09410c5250>"
      ]
     },
     "metadata": {},
     "output_type": "display_data"
    }
   ],
   "source": [
    "sns.set_style('white')\n",
    "plot_confusion_matrix(confusion_matrices[0][1])\n",
    "print \"\\n\"\n",
    "\n",
    "rf_conf = confusion_matrices[0][1]\n",
    "print \"Recall and precesion of random forrest classifier:  \\\"recall=%.3f, precision=%.3f\\\"\\n\" % (float(rf_conf[1][1])/\n",
    "                                                  (rf_conf[1][1]+rf_conf[1][0]), \n",
    "                                                  float(rf_conf[1][1])/(rf_conf[1][1]+rf_conf[0][1]))\n",
    "#print \"SVC: \\\"recall=%.5f, precision=%.5f\\\"\\n\" % (float(svc_conf[1][1])/(svc_conf[1][1]+svc_conf[1][0]), float(svc_conf[1][1])/(svc_conf[1][1]+svc_conf[0][1]))"
   ]
  },
  {
   "cell_type": "markdown",
   "metadata": {
    "collapsed": true
   },
   "source": [
    "## The certification rate is quite low, whereas view rate is high (~70%). Viewing the course content is also when ones starts to learn from the coruse. So, I make a churn predictor for 'course view' instead. "
   ]
  },
  {
   "cell_type": "code",
   "execution_count": 14,
   "metadata": {
    "collapsed": false
   },
   "outputs": [],
   "source": [
    "df_view = df.copy()\n",
    "is_view = df['viewed']\n",
    "del df_view['viewed'], df_view['explored'], df_view['nevents'], df_view['ndays_act'], df_view['nplay_video'] \n",
    "del df_view['nchapters'], df_view['nforum_posts'], df_view['course_id'], df_view['presence/duration']"
   ]
  },
  {
   "cell_type": "code",
   "execution_count": 15,
   "metadata": {
    "collapsed": false
   },
   "outputs": [
    {
     "data": {
      "text/html": [
       "<div style=\"max-height:1000px;max-width:1500px;overflow:auto;\">\n",
       "<table border=\"1\" class=\"dataframe\">\n",
       "  <thead>\n",
       "    <tr style=\"text-align: right;\">\n",
       "      <th></th>\n",
       "      <th>LoE_DI</th>\n",
       "      <th>gender</th>\n",
       "      <th>subject</th>\n",
       "      <th>instructor</th>\n",
       "      <th>no_courses</th>\n",
       "      <th>regis_to_start</th>\n",
       "      <th>course_duration</th>\n",
       "      <th>last_event_to_launch</th>\n",
       "      <th>Age</th>\n",
       "    </tr>\n",
       "  </thead>\n",
       "  <tbody>\n",
       "    <tr>\n",
       "      <th>0</th>\n",
       "      <td>0</td>\n",
       "      <td>0</td>\n",
       "      <td>10000000</td>\n",
       "      <td>366000</td>\n",
       "      <td>15</td>\n",
       "      <td>-4.000000</td>\n",
       "      <td>15.714286</td>\n",
       "      <td>31.857143</td>\n",
       "      <td>27.011261</td>\n",
       "    </tr>\n",
       "    <tr>\n",
       "      <th>1</th>\n",
       "      <td>0</td>\n",
       "      <td>0</td>\n",
       "      <td>1900000</td>\n",
       "      <td>600000</td>\n",
       "      <td>4</td>\n",
       "      <td>-10.285714</td>\n",
       "      <td>23.285714</td>\n",
       "      <td>8.714286</td>\n",
       "      <td>27.011261</td>\n",
       "    </tr>\n",
       "    <tr>\n",
       "      <th>2</th>\n",
       "      <td>0</td>\n",
       "      <td>0</td>\n",
       "      <td>1900000</td>\n",
       "      <td>600000</td>\n",
       "      <td>7</td>\n",
       "      <td>-3.571429</td>\n",
       "      <td>23.285714</td>\n",
       "      <td>0.571429</td>\n",
       "      <td>27.011261</td>\n",
       "    </tr>\n",
       "    <tr>\n",
       "      <th>3</th>\n",
       "      <td>0</td>\n",
       "      <td>0</td>\n",
       "      <td>500000000</td>\n",
       "      <td>500000</td>\n",
       "      <td>7</td>\n",
       "      <td>-1.285714</td>\n",
       "      <td>20.571429</td>\n",
       "      <td>14.571429</td>\n",
       "      <td>27.011261</td>\n",
       "    </tr>\n",
       "    <tr>\n",
       "      <th>4</th>\n",
       "      <td>0</td>\n",
       "      <td>0</td>\n",
       "      <td>500000000</td>\n",
       "      <td>500000</td>\n",
       "      <td>2</td>\n",
       "      <td>15.000000</td>\n",
       "      <td>20.571429</td>\n",
       "      <td>15.000000</td>\n",
       "      <td>27.011261</td>\n",
       "    </tr>\n",
       "  </tbody>\n",
       "</table>\n",
       "</div>"
      ],
      "text/plain": [
       "   LoE_DI  gender    subject  instructor  no_courses  regis_to_start  \\\n",
       "0       0       0   10000000      366000          15       -4.000000   \n",
       "1       0       0    1900000      600000           4      -10.285714   \n",
       "2       0       0    1900000      600000           7       -3.571429   \n",
       "3       0       0  500000000      500000           7       -1.285714   \n",
       "4       0       0  500000000      500000           2       15.000000   \n",
       "\n",
       "   course_duration  last_event_to_launch        Age  \n",
       "0        15.714286             31.857143  27.011261  \n",
       "1        23.285714              8.714286  27.011261  \n",
       "2        23.285714              0.571429  27.011261  \n",
       "3        20.571429             14.571429  27.011261  \n",
       "4        20.571429             15.000000  27.011261  "
      ]
     },
     "execution_count": 15,
     "metadata": {},
     "output_type": "execute_result"
    }
   ],
   "source": [
    "df_view.head()"
   ]
  },
  {
   "cell_type": "markdown",
   "metadata": {},
   "source": [
    "## Start with Random Forrest to get a sense of what features are important."
   ]
  },
  {
   "cell_type": "code",
   "execution_count": 16,
   "metadata": {
    "collapsed": false,
    "scrolled": true
   },
   "outputs": [
    {
     "name": "stdout",
     "output_type": "stream",
     "text": [
      "Random forest accuracy: 0.838\n"
     ]
    },
    {
     "data": {
      "image/png": "[encoded data removed]",
      "text/plain": [
       "<matplotlib.figure.Figure at 0x7fdd01e8ffd0>"
      ]
     },
     "metadata": {},
     "output_type": "display_data"
    }
   ],
   "source": [
    "from sklearn.ensemble import RandomForestClassifier as RF\n",
    "#from sklearn.svm import SVC\n",
    "\n",
    "X = normalize(df_view)\n",
    "res = run_cv(X, df_view.columns, is_view,RF)\n",
    "is_view_pred = res[0]\n",
    "feat_impr = res[1]\n",
    "print \"Random forest accuracy: %.3f\" % accuracy(is_view, is_view_pred)\n",
    "\n",
    "import operator\n",
    "feat = []\n",
    "impr = []\n",
    "fi = sorted(feat_impr.items(), key=operator.itemgetter(1))\n",
    "for i in xrange(len(feat_impr)):\n",
    "    feat.append(fi[i][0])\n",
    "    impr.append(fi[i][1])\n",
    "\n",
    "N = len(feat)\n",
    "ind = np.arange(N)    # the x locations for the groups\n",
    "width = 0.75       # the width of the bars: can also be len(x) sequence\n",
    "import seaborn as sns\n",
    "sns.set_style('darkgrid')\n",
    "\n",
    "p1 = plt.barh(ind, impr, width, color='yellowgreen')\n",
    "\n",
    "plt.xlabel('Feature importance', fontsize = 'x-large')\n",
    "plt.yticks(ind+width/2., feat,rotation=0, fontsize = 'x-large')\n",
    "plt.savefig('feat_impr_view.eps', format='eps')\n",
    "\n",
    "plt.show()"
   ]
  },
  {
   "cell_type": "code",
   "execution_count": 44,
   "metadata": {
    "collapsed": false
   },
   "outputs": [
    {
     "data": {
      "text/plain": [
       "{'Age': 0.14193701143099716,\n",
       " 'LoE_DI': 0.044386126470838075,\n",
       " 'course_duration': 0.057887102146292141,\n",
       " 'gender': 0.019491903765100467,\n",
       " 'instructor': 0.020492367486380725,\n",
       " 'last_event_to_launch': 0.18537645847486489,\n",
       " 'no_courses': 0.043144624915417804,\n",
       " 'presence/duration': 0.30820162185566768,\n",
       " 'regis_to_start': 0.15977303753678793,\n",
       " 'subject': 0.019309745917653186}"
      ]
     },
     "execution_count": 44,
     "metadata": {},
     "output_type": "execute_result"
    }
   ],
   "source": [
    "feat_impr"
   ]
  },
  {
   "cell_type": "markdown",
   "metadata": {},
   "source": [
    "## Precision and recall"
   ]
  },
  {
   "cell_type": "code",
   "execution_count": 55,
   "metadata": {
    "collapsed": false
   },
   "outputs": [
    {
     "name": "stdout",
     "output_type": "stream",
     "text": [
      "Accuracy, recal and precision of RF in predicting 'course view':\n",
      "\n",
      "  \"accuracy=0.839, recall=0.909, precision=0.876\"\n",
      "\n"
     ]
    }
   ],
   "source": [
    "from sklearn.metrics import confusion_matrix\n",
    "confusion_matrices = [\n",
    "        ( \"Random Forest\", confusion_matrix(is_view, is_view_pred)),\n",
    "    ]\n",
    "\n",
    "rf_conf = confusion_matrices[0][1]\n",
    "print \"Accuracy, recal and precision of RF in predicting 'course view':\\n\\n  \\\"accuracy=%.3f, recall=%.3f, precision=%.3f\\\"\\n\" % (float(rf_conf[0][0]+rf_conf[1][1])/sum(rf_conf), float(rf_conf[1][1])/\n",
    "                                                  (rf_conf[1][1]+rf_conf[1][0]), \n",
    "                                                  float(rf_conf[1][1])/(rf_conf[1][1]+rf_conf[0][1]))"
   ]
  },
  {
   "cell_type": "code",
   "execution_count": 56,
   "metadata": {
    "collapsed": false
   },
   "outputs": [
    {
     "name": "stdout",
     "output_type": "stream",
     "text": [
      "\n",
      "\n",
      "Recall and precesion of random forrest classifier:  \"recall=0.909, precision=0.876\"\n",
      "\n"
     ]
    },
    {
     "data": {
      "image/png": "[encoded data removed]",
      "text/plain": [
       "<matplotlib.figure.Figure at 0x7f45f0051350>"
      ]
     },
     "metadata": {},
     "output_type": "display_data"
    }
   ],
   "source": [
    "sns.set_style('white')\n",
    "plot_confusion_matrix(rf_conf)\n",
    "print \"\\n\"\n",
    "\n",
    "rf_conf = confusion_matrices[0][1]\n",
    "print \"Recall and precesion of random forrest classifier:  \\\"recall=%.3f, precision=%.3f\\\"\\n\" % (float(rf_conf[1][1])/\n",
    "                                                  (rf_conf[1][1]+rf_conf[1][0]), \n",
    "                                                  float(rf_conf[1][1])/(rf_conf[1][1]+rf_conf[0][1]))\n",
    "#print \"SVC: \\\"recall=%.5f, precision=%.5f\\\"\\n\" % (float(svc_conf[1][1])/(svc_conf[1][1]+svc_conf[1][0]), float(svc_conf[1][1])/(svc_conf[1][1]+svc_conf[0][1]))"
   ]
  },
  {
   "cell_type": "markdown",
   "metadata": {
    "collapsed": true
   },
   "source": [
    "## Let's compare RF with distance based algorithm, kNN."
   ]
  },
  {
   "cell_type": "markdown",
   "metadata": {},
   "source": [
    "## ROC curves"
   ]
  },
  {
   "cell_type": "code",
   "execution_count": 57,
   "metadata": {
    "collapsed": false
   },
   "outputs": [],
   "source": [
    "def plot_roc(X, y):\n",
    "    \n",
    "    import matplotlib.pyplot as plt\n",
    "    import seaborn as sns\n",
    "    sns.set_style('white')\n",
    "\n",
    "    from sklearn.ensemble import RandomForestClassifier as RF\n",
    "    from sklearn.neighbors import KNeighborsClassifier as KNN\n",
    "\n",
    "    from sklearn.metrics import roc_curve, auc\n",
    "    from sklearn.cross_validation import train_test_split\n",
    "    \n",
    "    n_classes = 2\n",
    "    n_samples, n_features = X.shape\n",
    "    # shuffle and split training and test sets\n",
    "    X_train, X_test, y_train, y_test = train_test_split(X, y, test_size=.3,\n",
    "                                                    random_state=0)\n",
    "\n",
    "    # Learn to predict each class against the other\n",
    "    classifier = RF(n_estimators=20)\n",
    "    y_score = classifier.fit(X_train, y_train).predict_proba(X_test)\n",
    "\n",
    "    fpr, tpr, _ = roc_curve(y_test, y_score[:,1])    \n",
    "    roc_auc = auc(fpr, tpr)\n",
    "    \n",
    "    #KNN\n",
    "    classifier = KNN(n_neighbors=20)\n",
    "    y_score = classifier.fit(X_train, y_train).predict_proba(X_test)\n",
    "\n",
    "    fpr2, tpr2, _ = roc_curve(y_test, y_score[:,1])    \n",
    "    roc_auc2 = auc(fpr2, tpr2)\n",
    "\n",
    "\n",
    "    # Plot of a ROC curve for a specific class\n",
    "    plt.figure()\n",
    "    plt.plot(fpr, tpr, label='RF (area = %0.4f)' % roc_auc)\n",
    "    plt.plot(fpr2, tpr2, label='kNN (area = %0.4f)' % roc_auc2)\n",
    "\n",
    "    plt.plot([0, 1], [0, 1], 'k--')\n",
    "    plt.xlim([0.0, 1.0])\n",
    "    plt.ylim([0.0, 1.05])\n",
    "    plt.xlabel('False Positive Rate', fontsize = 'x-large')\n",
    "    plt.ylabel('True Positive Rate', fontsize = 'x-large')\n",
    "    #plt.title('ROC curve')\n",
    "    plt.legend(loc=\"lower right\", fontsize = 'x-large')\n",
    "    plt.savefig('roc_view.eps', format='eps')\n",
    "\n",
    "    plt.show()\n"
   ]
  },
  {
   "cell_type": "code",
   "execution_count": 58,
   "metadata": {
    "collapsed": false
   },
   "outputs": [
    {
     "data": {
      "image/png": "[encoded data removed]",
      "text/plain": [
       "<matplotlib.figure.Figure at 0x7f45edde2810>"
      ]
     },
     "metadata": {},
     "output_type": "display_data"
    }
   ],
   "source": [
    "plot_roc(normalize(df_view), is_view)"
   ]
  },
  {
   "cell_type": "markdown",
   "metadata": {},
   "source": [
    "## So, the model has a good performance in terms of predicting whether or not student view the course content at all. What about predicting probabilities of churn, which are more insightfull and actionable?"
   ]
  },
  {
   "cell_type": "code",
   "execution_count": 59,
   "metadata": {
    "collapsed": true
   },
   "outputs": [],
   "source": [
    "def run_prob_cv(X, y, clf_class, **kwargs):\n",
    "    from sklearn.cross_validation import KFold\n",
    "\n",
    "    kf = KFold(len(y), n_folds=2, shuffle=True)\n",
    "    y_prob = np.zeros((len(y),2))\n",
    "    for train_index, test_index in kf:\n",
    "        X_train, X_test = X[train_index], X[test_index]\n",
    "        y_train = y[train_index]\n",
    "        clf = clf_class(**kwargs)\n",
    "        clf.fit(X_train,y_train)\n",
    "        # Predict probabilities, not classes\n",
    "        y_prob[test_index] = clf.predict_proba(X_test)\n",
    "    return y_prob"
   ]
  },
  {
   "cell_type": "code",
   "execution_count": 60,
   "metadata": {
    "collapsed": false
   },
   "outputs": [],
   "source": [
    "from sklearn.neighbors import KNeighborsClassifier as KNN\n",
    "\n",
    "#pred_prob = run_prob_cv(normalize(df_view), view, RF, n_estimators=10)\n",
    "pred_prob = run_prob_cv(normalize(df_view), view, KNN, n_neighbors=100)\n",
    "\n",
    "pred_churn = pred_prob[:,0]\n",
    "is_churn = view == 0\n",
    "\n",
    "# Number of times a predicted probability is assigned to an observation\n",
    "counts = pd.value_counts(pred_churn)\n",
    "\n",
    "# calculate true probabilities\n",
    "true_prob = {}\n",
    "for prob in counts.index:\n",
    "    if sum(pred_churn == prob) > 100: # keep large groups only to reduce sampling errors. \n",
    "        true_prob[prob] = np.mean(is_churn[pred_churn == prob])"
   ]
  },
  {
   "cell_type": "code",
   "execution_count": 67,
   "metadata": {
    "collapsed": false
   },
   "outputs": [
    {
     "name": "stdout",
     "output_type": "stream",
     "text": [
      "\n",
      "Predicted probabilities are very close to actualy ones. \n"
     ]
    },
    {
     "data": {
      "image/png": "[encoded data removed]",
      "text/plain": [
       "<matplotlib.figure.Figure at 0x7f45ed303910>"
      ]
     },
     "metadata": {},
     "output_type": "display_data"
    }
   ],
   "source": [
    "import collections\n",
    "prob = collections.OrderedDict(sorted(true_prob.items()))\n",
    "\n",
    "import seaborn as sns\n",
    "sns.set_style('darkgrid')\n",
    "\n",
    "#plt.plot(od.keys(), od.values(), color='b', markersize=12)\n",
    "plt.xlim([-.05,1.05])\n",
    "plt.ylim([-.05,1.05])\n",
    "plt.plot(prob.keys(), prob.values(), '.', c='r')\n",
    "plt.plot([0, 1], [0, 1], 'k--', c='g');\n",
    "plt.xlabel('Predicted churn (for course view) probability', fontsize = 'xx-large')\n",
    "plt.ylabel('Freq. of outcome', fontsize = 'xx-large')\n",
    "plt.savefig('prob.eps', format='eps')\n",
    "print \"\\nPredicted probabilities are very close to actualy ones. \"\n"
   ]
  },
  {
   "cell_type": "markdown",
   "metadata": {},
   "source": [
    "## Repeat certification churn prediction this with part of the data with similar number of negative and and positive records. "
   ]
  },
  {
   "cell_type": "code",
   "execution_count": 64,
   "metadata": {
    "collapsed": false
   },
   "outputs": [
    {
     "data": {
      "image/png": "[encoded data removed]",
      "text/plain": [
       "<matplotlib.figure.Figure at 0x7f45ed30fd50>"
      ]
     },
     "metadata": {},
     "output_type": "display_data"
    }
   ],
   "source": [
    "pos_to_neg = 1.5\n",
    "\n",
    "df_pos = df[Churn == 1]\n",
    "df_neg = df[Churn == 0]\n",
    "df_pos.index = range(df_pos.shape[0])\n",
    "# random sampling from df_pos\n",
    "import random\n",
    "rows = random.sample(df_pos.index, int(pos_to_neg*df_neg.shape[0]))\n",
    "df_pos_samp = df_pos.ix[rows]\n",
    "del df_pos\n",
    "\n",
    "df_balanced = pd.concat([df_neg, df_pos_samp], ignore_index=True)\n",
    "\n",
    "y = [0 for i in xrange(df_neg.shape[0])] + [1 for i in xrange(df_pos_samp.shape[0])]\n",
    "y = np.array(y)\n",
    "\n",
    "\n",
    "plot_roc(normalize(df_balanced), y)"
   ]
  }
 ],
 "metadata": {
  "kernelspec": {
   "display_name": "Python 2",
   "language": "python",
   "name": "python2"
  },
  "language_info": {
   "codemirror_mode": {
    "name": "ipython",
    "version": 2
   },
   "file_extension": ".py",
   "mimetype": "text/x-python",
   "name": "python",
   "nbconvert_exporter": "python",
   "pygments_lexer": "ipython2",
   "version": "2.7.6"
  }
 },
 "nbformat": 4,
 "nbformat_minor": 0
}

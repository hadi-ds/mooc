{
 "cells": [
  {
   "cell_type": "code",
   "execution_count": 6,
   "metadata": {
    "collapsed": false
   },
   "outputs": [
    {
     "name": "stdout",
     "output_type": "stream",
     "text": [
      "Populating the interactive namespace from numpy and matplotlib\n"
     ]
    }
   ],
   "source": [
    "import pandas as pd\n",
    "import numpy as np\n",
    "import matplotlib.pyplot as plt\n",
    "\n",
    "%pylab inline\n",
    "import seaborn as sns"
   ]
  },
  {
   "cell_type": "markdown",
   "metadata": {
    "slideshow": {
     "slide_type": "subslide"
    }
   },
   "source": [
    "###These are some additional information about the crouses gathered by exploring the course pages on edX, including '*course launch dates, course registration opening, last day of the courses*'. Last two (*subject_popularity, famous_instructor*) are popularity of course subjects and instructors based on number of google hits they have. "
   ]
  },
  {
   "cell_type": "code",
   "execution_count": 7,
   "metadata": {
    "collapsed": false
   },
   "outputs": [],
   "source": [
    "regis_open = {'HarvardX/CB22x/2013_Spring':'2012-12-19', 'HarvardX/CS50x/2012':'2012-07-24', \n",
    "                     'HarvardX/ER22x/2013_Spring':'2012-12-19', 'HarvardX/PH207x/2012_Fall':'2012-07-24',\n",
    "                    'HarvardX/PH278x/2013_Spring':'2012-12-19',             \n",
    "              'MITx/6.002x/2012_Fall': '2012-07-24',\n",
    "             'MITx/6.00x/2012_Fall':'2012-07-24',\n",
    "                  'MITx/3.091x/2012_Fall':'2012-07-24',\n",
    "                   'MITx/6.00x/2013_Spring':'2012-12-19',\n",
    "                         'MITx/3.091x/2013_Spring':'2012-12-20', \n",
    "                 'MITx/14.73x/2013_Spring':'2012-12-19',\n",
    "                  'MITx/8.02x/2013_Spring':'2013-01-17', \n",
    "                 'MITx/6.002x/2013_Spring':'2012-12-20', \n",
    "                  'MITx/7.00x/2013_Spring':'2013-01-30',\n",
    "           'MITx/2.01x/2013_Spring':'2013-02-24',                     \n",
    "                 'MITx/8.MReV/2013_Summer':'2013-04-27' }\n",
    "\n",
    "course_launch = {'HarvardX/CB22x/2013_Spring':'2013-03-13', 'HarvardX/CS50x/2012':'2012-10-15', \n",
    "                     'HarvardX/ER22x/2013_Spring':'2013-03-02', 'HarvardX/PH207x/2012_Fall':'2012-10-15',\n",
    "                    'HarvardX/PH278x/2013_Spring':'2013-05-15',\n",
    "              'MITx/6.002x/2012_Fall': '2012-09-05',\n",
    "             'MITx/6.00x/2012_Fall':'2012-09-26',\n",
    "                  'MITx/3.091x/2012_Fall':'2012-10-09',\n",
    "                   'MITx/6.00x/2013_Spring':'2013-02-04',\n",
    "                         'MITx/3.091x/2013_Spring':'2013-02-05', \n",
    "                 'MITx/14.73x/2013_Spring':'2013-02-12',\n",
    "                  'MITx/8.02x/2013_Spring':'2013-02-18', \n",
    "                 'MITx/6.002x/2013_Spring':'2013-03-03', \n",
    "                  'MITx/7.00x/2013_Spring':'2013-03-05',\n",
    "           'MITx/2.01x/2013_Spring':'2013-04-15',                     \n",
    "                 'MITx/8.MReV/2013_Summer':'2013-06-01'}\n",
    "\n",
    "course_wrap = {'HarvardX/CB22x/2013_Spring':'2013-08-26', 'HarvardX/CS50x/2012':'2013-04-15', \n",
    "                     'HarvardX/ER22x/2013_Spring':'2013-07-26', 'HarvardX/PH207x/2012_Fall':'2013-01-30',\n",
    "                    'HarvardX/PH278x/2013_Spring':'2013-07-25',               \n",
    "              'MITx/6.002x/2012_Fall': '2012-12-25',\n",
    "             'MITx/6.00x/2012_Fall':'2013-01-15',\n",
    "                  'MITx/3.091x/2012_Fall':'2013-01-15',\n",
    "                   'MITx/6.00x/2013_Spring':'2013-06-04',\n",
    "                         'MITx/3.091x/2013_Spring':'2013-06-21', \n",
    "                 'MITx/14.73x/2013_Spring':'2013-05-21',\n",
    "                  'MITx/8.02x/2013_Spring':'2013-06-18', \n",
    "                 'MITx/6.002x/2013_Spring':'2013-07-01', \n",
    "                  'MITx/7.00x/2013_Spring':'2013-06-06',\n",
    "           'MITx/2.01x/2013_Spring':'2013-07-30',                     \n",
    "                 'MITx/8.MReV/2013_Summer':'2013-09-15' }\n",
    "\n",
    "subject_popularity = {'HarvardX/CB22x/2013_Spring':1900000, 'HarvardX/CS50x/2012':245000000, \n",
    "                     'HarvardX/ER22x/2013_Spring':500000000, 'HarvardX/PH207x/2012_Fall':10000000,\n",
    "                    'HarvardX/PH278x/2013_Spring':100000000,'MITx/6.002x/2012_Fall':16000000,\n",
    "                'MITx/6.00x/2012_Fall':100000000, \n",
    "                'MITx/3.091x/2012_Fall':57000000,'MITx/6.00x/2013_Spring':100000000,\n",
    "                 'MITx/3.091x/2013_Spring':57000000, 'MITx/14.73x/2013_Spring':26000000,\n",
    "                'MITx/8.02x/2013_Spring':8000000, 'MITx/6.002x/2013_Spring':16000000,\n",
    "                'MITx/7.00x/2013_Spring':200000000, 'MITx/2.01x/2013_Spring':280000000,\n",
    "                 'MITx/8.MReV/2013_Summer':100000000}\n",
    "\n",
    "famous_instrustor = {'HarvardX/CB22x/2013_Spring':600000, 'HarvardX/CS50x/2012':468000, \n",
    "                     'HarvardX/ER22x/2013_Spring':500000, 'HarvardX/PH207x/2012_Fall':366000,\n",
    "                    'HarvardX/PH278x/2013_Spring':366000, 'MITx/6.002x/2012_Fall':457000,\n",
    "               'MITx/6.00x/2012_Fall':100000, 'MITx/3.091x/2012_Fall':1250000, \n",
    "               'MITx/6.00x/2013_Spring':100000,\n",
    "               'MITx/3.091x/2013_Spring':1250000, 'MITx/14.73x/2013_Spring':500000,\n",
    "                'MITx/8.02x/2013_Spring':1100000, 'MITx/6.002x/2013_Spring':457000,\n",
    "                'MITx/7.00x/2013_Spring':650000,'MITx/2.01x/2013_Spring':80000,\n",
    "                'MITx/8.MReV/2013_Summer':10000000}"
   ]
  },
  {
   "cell_type": "code",
   "execution_count": null,
   "metadata": {
    "collapsed": true
   },
   "outputs": [],
   "source": []
  },
  {
   "cell_type": "markdown",
   "metadata": {},
   "source": [
    "###Loading the data into a pandas dataframe and adding new features to it."
   ]
  },
  {
   "cell_type": "code",
   "execution_count": 56,
   "metadata": {
    "collapsed": false
   },
   "outputs": [],
   "source": [
    "df = pd.read_csv('../HMXPC13_DI_v2_5-14-14.csv')\n",
    "\n",
    "# add course launch and wrap dates:\n",
    "dt1 = []\n",
    "dt2 = []\n",
    "dt3 = []\n",
    "dt4 = []\n",
    "dt5 = []\n",
    "for c in df['course_id']:\n",
    "    dt1.append(course_launch[c])\n",
    "    dt2.append(course_wrap[c])\n",
    "    dt3.append(subject_popularity[c])\n",
    "    dt4.append(famous_instrustor[c])\n",
    "    dt5.append(regis_open[c])\n",
    "\n",
    "df['course_launch'] = dt1\n",
    "df['course_wrap'] = dt2\n",
    "df['subject'] = dt3\n",
    "df['instructor'] = dt4\n",
    "df['regis_open'] = dt5\n",
    "del dt1, dt2, dt3, dt4, dt5\n",
    "\n",
    "#add number of courses each student has signed up for. \n",
    "student_courses = {}\n",
    "    \n",
    "for student in df['userid_DI']:\n",
    "    if student not in student_courses:\n",
    "        student_courses[student] = 1\n",
    "    else:\n",
    "        student_courses[student] += 1\n",
    "\n",
    "z = []    \n",
    "for st in df['userid_DI']:\n",
    "    z.append(student_courses[st])\n",
    "    \n",
    "df['no_courses'] = z\n",
    "del z, student_courses\n",
    "\n",
    "df = df.applymap(lambda x: np.nan if isinstance(x, basestring) and x.isspace() else x) # replace blank cells with NaN\n",
    "del df['roles'] # same for all\n",
    "df = df[pd.isnull(df.incomplete_flag)] # remove internally inconsistent records (flag = 1)\n",
    "del df['incomplete_flag'], df['registered']\n",
    "df.index = arange(df.shape[0])"
   ]
  },
  {
   "cell_type": "code",
   "execution_count": 57,
   "metadata": {
    "collapsed": false
   },
   "outputs": [
    {
     "data": {
      "text/html": [
       "<div style=\"max-height:1000px;max-width:1500px;overflow:auto;\">\n",
       "<table border=\"1\" class=\"dataframe\">\n",
       "  <thead>\n",
       "    <tr style=\"text-align: right;\">\n",
       "      <th></th>\n",
       "      <th>course_id</th>\n",
       "      <th>userid_DI</th>\n",
       "      <th>viewed</th>\n",
       "      <th>explored</th>\n",
       "      <th>certified</th>\n",
       "      <th>final_cc_cname_DI</th>\n",
       "      <th>LoE_DI</th>\n",
       "      <th>YoB</th>\n",
       "      <th>gender</th>\n",
       "      <th>grade</th>\n",
       "      <th>...</th>\n",
       "      <th>ndays_act</th>\n",
       "      <th>nplay_video</th>\n",
       "      <th>nchapters</th>\n",
       "      <th>nforum_posts</th>\n",
       "      <th>course_launch</th>\n",
       "      <th>course_wrap</th>\n",
       "      <th>subject</th>\n",
       "      <th>instructor</th>\n",
       "      <th>regis_open</th>\n",
       "      <th>no_courses</th>\n",
       "    </tr>\n",
       "  </thead>\n",
       "  <tbody>\n",
       "    <tr>\n",
       "      <th>0</th>\n",
       "      <td>HarvardX/PH207x/2012_Fall</td>\n",
       "      <td>MHxPC130275857</td>\n",
       "      <td>1</td>\n",
       "      <td>1</td>\n",
       "      <td>0</td>\n",
       "      <td>United States</td>\n",
       "      <td>NaN</td>\n",
       "      <td>NaN</td>\n",
       "      <td>NaN</td>\n",
       "      <td>0</td>\n",
       "      <td>...</td>\n",
       "      <td>16</td>\n",
       "      <td>50</td>\n",
       "      <td>12</td>\n",
       "      <td>0</td>\n",
       "      <td>2012-10-15</td>\n",
       "      <td>2013-01-30</td>\n",
       "      <td>10000000</td>\n",
       "      <td>366000</td>\n",
       "      <td>2012-07-24</td>\n",
       "      <td>15</td>\n",
       "    </tr>\n",
       "    <tr>\n",
       "      <th>1</th>\n",
       "      <td>HarvardX/CB22x/2013_Spring</td>\n",
       "      <td>MHxPC130539455</td>\n",
       "      <td>1</td>\n",
       "      <td>0</td>\n",
       "      <td>0</td>\n",
       "      <td>France</td>\n",
       "      <td>NaN</td>\n",
       "      <td>NaN</td>\n",
       "      <td>NaN</td>\n",
       "      <td>0</td>\n",
       "      <td>...</td>\n",
       "      <td>6</td>\n",
       "      <td>NaN</td>\n",
       "      <td>3</td>\n",
       "      <td>0</td>\n",
       "      <td>2013-03-13</td>\n",
       "      <td>2013-08-26</td>\n",
       "      <td>1900000</td>\n",
       "      <td>600000</td>\n",
       "      <td>2012-12-19</td>\n",
       "      <td>4</td>\n",
       "    </tr>\n",
       "    <tr>\n",
       "      <th>2</th>\n",
       "      <td>HarvardX/CB22x/2013_Spring</td>\n",
       "      <td>MHxPC130088379</td>\n",
       "      <td>1</td>\n",
       "      <td>0</td>\n",
       "      <td>0</td>\n",
       "      <td>United States</td>\n",
       "      <td>NaN</td>\n",
       "      <td>NaN</td>\n",
       "      <td>NaN</td>\n",
       "      <td>0</td>\n",
       "      <td>...</td>\n",
       "      <td>3</td>\n",
       "      <td>NaN</td>\n",
       "      <td>3</td>\n",
       "      <td>0</td>\n",
       "      <td>2013-03-13</td>\n",
       "      <td>2013-08-26</td>\n",
       "      <td>1900000</td>\n",
       "      <td>600000</td>\n",
       "      <td>2012-12-19</td>\n",
       "      <td>7</td>\n",
       "    </tr>\n",
       "    <tr>\n",
       "      <th>3</th>\n",
       "      <td>HarvardX/ER22x/2013_Spring</td>\n",
       "      <td>MHxPC130088379</td>\n",
       "      <td>1</td>\n",
       "      <td>0</td>\n",
       "      <td>0</td>\n",
       "      <td>United States</td>\n",
       "      <td>NaN</td>\n",
       "      <td>NaN</td>\n",
       "      <td>NaN</td>\n",
       "      <td>0</td>\n",
       "      <td>...</td>\n",
       "      <td>2</td>\n",
       "      <td>NaN</td>\n",
       "      <td>2</td>\n",
       "      <td>0</td>\n",
       "      <td>2013-03-02</td>\n",
       "      <td>2013-07-26</td>\n",
       "      <td>500000000</td>\n",
       "      <td>500000</td>\n",
       "      <td>2012-12-19</td>\n",
       "      <td>7</td>\n",
       "    </tr>\n",
       "    <tr>\n",
       "      <th>4</th>\n",
       "      <td>HarvardX/ER22x/2013_Spring</td>\n",
       "      <td>MHxPC130198098</td>\n",
       "      <td>1</td>\n",
       "      <td>0</td>\n",
       "      <td>0</td>\n",
       "      <td>United States</td>\n",
       "      <td>NaN</td>\n",
       "      <td>NaN</td>\n",
       "      <td>NaN</td>\n",
       "      <td>0</td>\n",
       "      <td>...</td>\n",
       "      <td>1</td>\n",
       "      <td>NaN</td>\n",
       "      <td>3</td>\n",
       "      <td>0</td>\n",
       "      <td>2013-03-02</td>\n",
       "      <td>2013-07-26</td>\n",
       "      <td>500000000</td>\n",
       "      <td>500000</td>\n",
       "      <td>2012-12-19</td>\n",
       "      <td>2</td>\n",
       "    </tr>\n",
       "  </tbody>\n",
       "</table>\n",
       "<p>5 rows × 23 columns</p>\n",
       "</div>"
      ],
      "text/plain": [
       "                    course_id       userid_DI  viewed  explored  certified  \\\n",
       "0   HarvardX/PH207x/2012_Fall  MHxPC130275857       1         1          0   \n",
       "1  HarvardX/CB22x/2013_Spring  MHxPC130539455       1         0          0   \n",
       "2  HarvardX/CB22x/2013_Spring  MHxPC130088379       1         0          0   \n",
       "3  HarvardX/ER22x/2013_Spring  MHxPC130088379       1         0          0   \n",
       "4  HarvardX/ER22x/2013_Spring  MHxPC130198098       1         0          0   \n",
       "\n",
       "  final_cc_cname_DI LoE_DI  YoB gender grade     ...     ndays_act  \\\n",
       "0     United States    NaN  NaN    NaN     0     ...            16   \n",
       "1            France    NaN  NaN    NaN     0     ...             6   \n",
       "2     United States    NaN  NaN    NaN     0     ...             3   \n",
       "3     United States    NaN  NaN    NaN     0     ...             2   \n",
       "4     United States    NaN  NaN    NaN     0     ...             1   \n",
       "\n",
       "  nplay_video  nchapters  nforum_posts  course_launch  course_wrap    subject  \\\n",
       "0          50         12             0     2012-10-15   2013-01-30   10000000   \n",
       "1         NaN          3             0     2013-03-13   2013-08-26    1900000   \n",
       "2         NaN          3             0     2013-03-13   2013-08-26    1900000   \n",
       "3         NaN          2             0     2013-03-02   2013-07-26  500000000   \n",
       "4         NaN          3             0     2013-03-02   2013-07-26  500000000   \n",
       "\n",
       "  instructor  regis_open  no_courses  \n",
       "0     366000  2012-07-24          15  \n",
       "1     600000  2012-12-19           4  \n",
       "2     600000  2012-12-19           7  \n",
       "3     500000  2012-12-19           7  \n",
       "4     500000  2012-12-19           2  \n",
       "\n",
       "[5 rows x 23 columns]"
      ]
     },
     "execution_count": 57,
     "metadata": {},
     "output_type": "execute_result"
    }
   ],
   "source": [
    "df.head()"
   ]
  },
  {
   "cell_type": "markdown",
   "metadata": {},
   "source": [
    "##What is the certification and course view rate among registrants?"
   ]
  },
  {
   "cell_type": "code",
   "execution_count": 54,
   "metadata": {
    "collapsed": false
   },
   "outputs": [
    {
     "name": "stdout",
     "output_type": "stream",
     "text": [
      "Certification rate: 3%\n",
      "View rate: 60%.\n"
     ]
    }
   ],
   "source": [
    "print \"Certification rate: %d%%\\nView rate: %d%%.\" % (100.*mean(df['certified']), 100*mean(df['viewed']))"
   ]
  },
  {
   "cell_type": "markdown",
   "metadata": {
    "collapsed": false
   },
   "source": [
    "### One expects that various dates and time periods such as *course duration, student registration date*, etc. play role in student engagement with courses. I include some of these as new features."
   ]
  },
  {
   "cell_type": "code",
   "execution_count": 84,
   "metadata": {
    "collapsed": false
   },
   "outputs": [],
   "source": [
    "student_regis_to_launch = []\n",
    "course_duration = []\n",
    "last_event_to_launch = []\n",
    "regis_open_to_launch = []\n",
    "\n",
    "for i in df.index:#xrange(df.shape[0]): \n",
    "    d1 = df['start_time_DI'][i] # registration date\n",
    "    d2 = df['last_event_DI'][i] # last interaction with course\n",
    "    d3 = df['course_launch'][i]  # start date of course\n",
    "    d4 = df['course_wrap'][i] # last day of course\n",
    "    d5 = df['regis_open'][i] # registration opened\n",
    "    \n",
    "    yr13 = int(d1[:4]) - int(d3[:4])\n",
    "    m13 = int(d1[5:7]) - int(d3[5:7])\n",
    "    d13 = int(d1[8:]) - int(d3[8:])\n",
    "    student_regis_to_launch.append((yr13*365+m13*30+d13)/7.)  \n",
    "    \n",
    "    yr43 = int(d4[:4]) - int(d3[:4])\n",
    "    m43 = int(d4[5:7]) - int(d3[5:7])\n",
    "    d43 = int(d4[8:]) - int(d3[8:])\n",
    "    course_duration.append((yr43*365+m43*30+d43)/7.)   \n",
    "    \n",
    "    yr53 = int(d5[:4]) - int(d3[:4])\n",
    "    m53 = int(d5[5:7]) - int(d3[5:7])\n",
    "    d53 = int(d5[8:]) - int(d3[8:])    \n",
    "    regis_open_to_launch.append((yr53*365+m53*30+d53)/7.)\n",
    "    \n",
    "    if pd.notnull(d2):        \n",
    "        yr23 = int(d2[:4]) - int(d3[:4])\n",
    "        m23 = int(d2[5:7]) - int(d3[5:7])\n",
    "        d23 = int(d2[8:]) - int(d3[8:])\n",
    "        last_event_to_launch.append((yr23*365+m23*30+d23)/7.)         \n",
    "    else: #no interaction beyond registration:\n",
    "        last_event_to_launch.append((yr13*365+m13*30+d13)/7.) \n",
    "        #weeks_in_course.append(0)  \n",
    "        \n",
    "df['student_regis_to_launch'] = student_regis_to_launch\n",
    "df['course_duration'] = course_duration\n",
    "df['last_event_to_launch'] = last_event_to_launch\n",
    "df['regis_open_to_launch'] = regis_open_to_launch\n",
    "del student_regis_to_launch, course_duration, last_event_to_launch, regis_open_to_launch\n",
    "\n",
    "#remove inconsistence data where last_event_DI < start_time_DI:\n",
    "#df = df[df['weeks_in_course'] >= 0]\n",
    "#df.index = arange(df.shape[0])"
   ]
  },
  {
   "cell_type": "code",
   "execution_count": 85,
   "metadata": {
    "collapsed": false
   },
   "outputs": [
    {
     "data": {
      "text/html": [
       "<div style=\"max-height:1000px;max-width:1500px;overflow:auto;\">\n",
       "<table border=\"1\" class=\"dataframe\">\n",
       "  <thead>\n",
       "    <tr style=\"text-align: right;\">\n",
       "      <th></th>\n",
       "      <th>course_id</th>\n",
       "      <th>userid_DI</th>\n",
       "      <th>viewed</th>\n",
       "      <th>explored</th>\n",
       "      <th>certified</th>\n",
       "      <th>final_cc_cname_DI</th>\n",
       "      <th>LoE_DI</th>\n",
       "      <th>YoB</th>\n",
       "      <th>gender</th>\n",
       "      <th>grade</th>\n",
       "      <th>...</th>\n",
       "      <th>course_launch</th>\n",
       "      <th>course_wrap</th>\n",
       "      <th>subject</th>\n",
       "      <th>instructor</th>\n",
       "      <th>regis_open</th>\n",
       "      <th>no_courses</th>\n",
       "      <th>student_regis_to_launch</th>\n",
       "      <th>course_duration</th>\n",
       "      <th>last_event_to_launch</th>\n",
       "      <th>regis_open_to_launch</th>\n",
       "    </tr>\n",
       "  </thead>\n",
       "  <tbody>\n",
       "    <tr>\n",
       "      <th>0</th>\n",
       "      <td>HarvardX/PH207x/2012_Fall</td>\n",
       "      <td>MHxPC130275857</td>\n",
       "      <td>1</td>\n",
       "      <td>1</td>\n",
       "      <td>0</td>\n",
       "      <td>United States</td>\n",
       "      <td>NaN</td>\n",
       "      <td>NaN</td>\n",
       "      <td>NaN</td>\n",
       "      <td>0</td>\n",
       "      <td>...</td>\n",
       "      <td>2012-10-15</td>\n",
       "      <td>2013-01-30</td>\n",
       "      <td>10000000</td>\n",
       "      <td>366000</td>\n",
       "      <td>2012-07-24</td>\n",
       "      <td>15</td>\n",
       "      <td>-4.000000</td>\n",
       "      <td>15.714286</td>\n",
       "      <td>31.857143</td>\n",
       "      <td>-11.571429</td>\n",
       "    </tr>\n",
       "    <tr>\n",
       "      <th>1</th>\n",
       "      <td>HarvardX/CB22x/2013_Spring</td>\n",
       "      <td>MHxPC130539455</td>\n",
       "      <td>1</td>\n",
       "      <td>0</td>\n",
       "      <td>0</td>\n",
       "      <td>France</td>\n",
       "      <td>NaN</td>\n",
       "      <td>NaN</td>\n",
       "      <td>NaN</td>\n",
       "      <td>0</td>\n",
       "      <td>...</td>\n",
       "      <td>2013-03-13</td>\n",
       "      <td>2013-08-26</td>\n",
       "      <td>1900000</td>\n",
       "      <td>600000</td>\n",
       "      <td>2012-12-19</td>\n",
       "      <td>4</td>\n",
       "      <td>-10.285714</td>\n",
       "      <td>23.285714</td>\n",
       "      <td>8.714286</td>\n",
       "      <td>-12.714286</td>\n",
       "    </tr>\n",
       "    <tr>\n",
       "      <th>2</th>\n",
       "      <td>HarvardX/CB22x/2013_Spring</td>\n",
       "      <td>MHxPC130088379</td>\n",
       "      <td>1</td>\n",
       "      <td>0</td>\n",
       "      <td>0</td>\n",
       "      <td>United States</td>\n",
       "      <td>NaN</td>\n",
       "      <td>NaN</td>\n",
       "      <td>NaN</td>\n",
       "      <td>0</td>\n",
       "      <td>...</td>\n",
       "      <td>2013-03-13</td>\n",
       "      <td>2013-08-26</td>\n",
       "      <td>1900000</td>\n",
       "      <td>600000</td>\n",
       "      <td>2012-12-19</td>\n",
       "      <td>7</td>\n",
       "      <td>-3.571429</td>\n",
       "      <td>23.285714</td>\n",
       "      <td>0.571429</td>\n",
       "      <td>-12.714286</td>\n",
       "    </tr>\n",
       "    <tr>\n",
       "      <th>3</th>\n",
       "      <td>HarvardX/ER22x/2013_Spring</td>\n",
       "      <td>MHxPC130088379</td>\n",
       "      <td>1</td>\n",
       "      <td>0</td>\n",
       "      <td>0</td>\n",
       "      <td>United States</td>\n",
       "      <td>NaN</td>\n",
       "      <td>NaN</td>\n",
       "      <td>NaN</td>\n",
       "      <td>0</td>\n",
       "      <td>...</td>\n",
       "      <td>2013-03-02</td>\n",
       "      <td>2013-07-26</td>\n",
       "      <td>500000000</td>\n",
       "      <td>500000</td>\n",
       "      <td>2012-12-19</td>\n",
       "      <td>7</td>\n",
       "      <td>-1.285714</td>\n",
       "      <td>20.571429</td>\n",
       "      <td>14.571429</td>\n",
       "      <td>-11.142857</td>\n",
       "    </tr>\n",
       "    <tr>\n",
       "      <th>4</th>\n",
       "      <td>HarvardX/ER22x/2013_Spring</td>\n",
       "      <td>MHxPC130198098</td>\n",
       "      <td>1</td>\n",
       "      <td>0</td>\n",
       "      <td>0</td>\n",
       "      <td>United States</td>\n",
       "      <td>NaN</td>\n",
       "      <td>NaN</td>\n",
       "      <td>NaN</td>\n",
       "      <td>0</td>\n",
       "      <td>...</td>\n",
       "      <td>2013-03-02</td>\n",
       "      <td>2013-07-26</td>\n",
       "      <td>500000000</td>\n",
       "      <td>500000</td>\n",
       "      <td>2012-12-19</td>\n",
       "      <td>2</td>\n",
       "      <td>15.000000</td>\n",
       "      <td>20.571429</td>\n",
       "      <td>15.000000</td>\n",
       "      <td>-11.142857</td>\n",
       "    </tr>\n",
       "  </tbody>\n",
       "</table>\n",
       "<p>5 rows × 27 columns</p>\n",
       "</div>"
      ],
      "text/plain": [
       "                    course_id       userid_DI  viewed  explored  certified  \\\n",
       "0   HarvardX/PH207x/2012_Fall  MHxPC130275857       1         1          0   \n",
       "1  HarvardX/CB22x/2013_Spring  MHxPC130539455       1         0          0   \n",
       "2  HarvardX/CB22x/2013_Spring  MHxPC130088379       1         0          0   \n",
       "3  HarvardX/ER22x/2013_Spring  MHxPC130088379       1         0          0   \n",
       "4  HarvardX/ER22x/2013_Spring  MHxPC130198098       1         0          0   \n",
       "\n",
       "  final_cc_cname_DI LoE_DI  YoB gender grade          ...           \\\n",
       "0     United States    NaN  NaN    NaN     0          ...            \n",
       "1            France    NaN  NaN    NaN     0          ...            \n",
       "2     United States    NaN  NaN    NaN     0          ...            \n",
       "3     United States    NaN  NaN    NaN     0          ...            \n",
       "4     United States    NaN  NaN    NaN     0          ...            \n",
       "\n",
       "  course_launch course_wrap    subject  instructor  regis_open  no_courses  \\\n",
       "0    2012-10-15  2013-01-30   10000000      366000  2012-07-24          15   \n",
       "1    2013-03-13  2013-08-26    1900000      600000  2012-12-19           4   \n",
       "2    2013-03-13  2013-08-26    1900000      600000  2012-12-19           7   \n",
       "3    2013-03-02  2013-07-26  500000000      500000  2012-12-19           7   \n",
       "4    2013-03-02  2013-07-26  500000000      500000  2012-12-19           2   \n",
       "\n",
       "   student_regis_to_launch course_duration last_event_to_launch  \\\n",
       "0                -4.000000       15.714286            31.857143   \n",
       "1               -10.285714       23.285714             8.714286   \n",
       "2                -3.571429       23.285714             0.571429   \n",
       "3                -1.285714       20.571429            14.571429   \n",
       "4                15.000000       20.571429            15.000000   \n",
       "\n",
       "   regis_open_to_launch  \n",
       "0            -11.571429  \n",
       "1            -12.714286  \n",
       "2            -12.714286  \n",
       "3            -11.142857  \n",
       "4            -11.142857  \n",
       "\n",
       "[5 rows x 27 columns]"
      ]
     },
     "execution_count": 85,
     "metadata": {},
     "output_type": "execute_result"
    }
   ],
   "source": [
    "df.head()"
   ]
  },
  {
   "cell_type": "code",
   "execution_count": 90,
   "metadata": {
    "collapsed": false
   },
   "outputs": [
    {
     "data": {
      "text/plain": [
       "Index([u'course_id', u'userid_DI', u'viewed', u'explored', u'certified',\n",
       "       u'final_cc_cname_DI', u'LoE_DI', u'YoB', u'gender', u'grade',\n",
       "       u'start_time_DI', u'last_event_DI', u'nevents', u'ndays_act',\n",
       "       u'nplay_video', u'nchapters', u'nforum_posts', u'course_launch',\n",
       "       u'course_wrap', u'subject', u'instructor', u'regis_open', u'no_courses',\n",
       "       u'student_regis_to_launch', u'course_duration', u'last_event_to_launch',\n",
       "       u'regis_open_to_launch'],\n",
       "      dtype='object')"
      ]
     },
     "execution_count": 90,
     "metadata": {},
     "output_type": "execute_result"
    }
   ],
   "source": [
    "df.columns"
   ]
  },
  {
   "cell_type": "markdown",
   "metadata": {},
   "source": [
    "### Distribution of 'time between student registration and course launch' suggests that student registration accelerates rapidly close to launch date after which it constantly falls down. "
   ]
  },
  {
   "cell_type": "code",
   "execution_count": 91,
   "metadata": {
    "collapsed": false
   },
   "outputs": [
    {
     "data": {
      "image/png": "[encoded data removed]",
      "text/plain": [
       "<matplotlib.figure.Figure at 0x7fe949d5a650>"
      ]
     },
     "metadata": {},
     "output_type": "display_data"
    }
   ],
   "source": [
    "sns.set_style('darkgrid')\n",
    "\n",
    "plt.xlabel('student registration date relative to course launch (in weeks)', fontsize = 'xx-large')\n",
    "plt.hist(df['student_regis_to_launch'], 20);"
   ]
  },
  {
   "cell_type": "markdown",
   "metadata": {},
   "source": [
    "### Some students showed no activity beyond registration (~ 15%). I remove these students, then export the remaining into a new dataframe *df_out* for exploration and learning. "
   ]
  },
  {
   "cell_type": "code",
   "execution_count": 99,
   "metadata": {
    "collapsed": true
   },
   "outputs": [],
   "source": [
    "df_out = df[pd.notnull(df.last_event_DI)] # remove students with no activity\n",
    "\n",
    "del df_out['userid_DI'], df_out['start_time_DI'], df_out['regis_open']\n",
    "del df_out['last_event_DI'], df_out['course_launch'], df_out['course_wrap'], df_out['final_cc_cname_DI']\n",
    "df_out.index = arange(df_out.shape[0])\n",
    "df_out.to_csv('learn.csv', index = False)"
   ]
  },
  {
   "cell_type": "code",
   "execution_count": 100,
   "metadata": {
    "collapsed": false
   },
   "outputs": [
    {
     "data": {
      "text/html": [
       "<div style=\"max-height:1000px;max-width:1500px;overflow:auto;\">\n",
       "<table border=\"1\" class=\"dataframe\">\n",
       "  <thead>\n",
       "    <tr style=\"text-align: right;\">\n",
       "      <th></th>\n",
       "      <th>course_id</th>\n",
       "      <th>viewed</th>\n",
       "      <th>explored</th>\n",
       "      <th>certified</th>\n",
       "      <th>LoE_DI</th>\n",
       "      <th>YoB</th>\n",
       "      <th>gender</th>\n",
       "      <th>grade</th>\n",
       "      <th>nevents</th>\n",
       "      <th>ndays_act</th>\n",
       "      <th>nplay_video</th>\n",
       "      <th>nchapters</th>\n",
       "      <th>nforum_posts</th>\n",
       "      <th>subject</th>\n",
       "      <th>instructor</th>\n",
       "      <th>no_courses</th>\n",
       "      <th>student_regis_to_launch</th>\n",
       "      <th>course_duration</th>\n",
       "      <th>last_event_to_launch</th>\n",
       "      <th>regis_open_to_launch</th>\n",
       "    </tr>\n",
       "  </thead>\n",
       "  <tbody>\n",
       "    <tr>\n",
       "      <th>0</th>\n",
       "      <td>HarvardX/PH207x/2012_Fall</td>\n",
       "      <td>1</td>\n",
       "      <td>1</td>\n",
       "      <td>0</td>\n",
       "      <td>NaN</td>\n",
       "      <td>NaN</td>\n",
       "      <td>NaN</td>\n",
       "      <td>0</td>\n",
       "      <td>502</td>\n",
       "      <td>16</td>\n",
       "      <td>50</td>\n",
       "      <td>12</td>\n",
       "      <td>0</td>\n",
       "      <td>10000000</td>\n",
       "      <td>366000</td>\n",
       "      <td>15</td>\n",
       "      <td>-4.000000</td>\n",
       "      <td>15.714286</td>\n",
       "      <td>31.857143</td>\n",
       "      <td>-11.571429</td>\n",
       "    </tr>\n",
       "    <tr>\n",
       "      <th>1</th>\n",
       "      <td>HarvardX/CB22x/2013_Spring</td>\n",
       "      <td>1</td>\n",
       "      <td>0</td>\n",
       "      <td>0</td>\n",
       "      <td>NaN</td>\n",
       "      <td>NaN</td>\n",
       "      <td>NaN</td>\n",
       "      <td>0</td>\n",
       "      <td>42</td>\n",
       "      <td>6</td>\n",
       "      <td>NaN</td>\n",
       "      <td>3</td>\n",
       "      <td>0</td>\n",
       "      <td>1900000</td>\n",
       "      <td>600000</td>\n",
       "      <td>4</td>\n",
       "      <td>-10.285714</td>\n",
       "      <td>23.285714</td>\n",
       "      <td>8.714286</td>\n",
       "      <td>-12.714286</td>\n",
       "    </tr>\n",
       "    <tr>\n",
       "      <th>2</th>\n",
       "      <td>HarvardX/CB22x/2013_Spring</td>\n",
       "      <td>1</td>\n",
       "      <td>0</td>\n",
       "      <td>0</td>\n",
       "      <td>NaN</td>\n",
       "      <td>NaN</td>\n",
       "      <td>NaN</td>\n",
       "      <td>0</td>\n",
       "      <td>70</td>\n",
       "      <td>3</td>\n",
       "      <td>NaN</td>\n",
       "      <td>3</td>\n",
       "      <td>0</td>\n",
       "      <td>1900000</td>\n",
       "      <td>600000</td>\n",
       "      <td>7</td>\n",
       "      <td>-3.571429</td>\n",
       "      <td>23.285714</td>\n",
       "      <td>0.571429</td>\n",
       "      <td>-12.714286</td>\n",
       "    </tr>\n",
       "    <tr>\n",
       "      <th>3</th>\n",
       "      <td>HarvardX/ER22x/2013_Spring</td>\n",
       "      <td>1</td>\n",
       "      <td>0</td>\n",
       "      <td>0</td>\n",
       "      <td>NaN</td>\n",
       "      <td>NaN</td>\n",
       "      <td>NaN</td>\n",
       "      <td>0</td>\n",
       "      <td>17</td>\n",
       "      <td>2</td>\n",
       "      <td>NaN</td>\n",
       "      <td>2</td>\n",
       "      <td>0</td>\n",
       "      <td>500000000</td>\n",
       "      <td>500000</td>\n",
       "      <td>7</td>\n",
       "      <td>-1.285714</td>\n",
       "      <td>20.571429</td>\n",
       "      <td>14.571429</td>\n",
       "      <td>-11.142857</td>\n",
       "    </tr>\n",
       "    <tr>\n",
       "      <th>4</th>\n",
       "      <td>HarvardX/ER22x/2013_Spring</td>\n",
       "      <td>1</td>\n",
       "      <td>0</td>\n",
       "      <td>0</td>\n",
       "      <td>NaN</td>\n",
       "      <td>NaN</td>\n",
       "      <td>NaN</td>\n",
       "      <td>0</td>\n",
       "      <td>32</td>\n",
       "      <td>1</td>\n",
       "      <td>NaN</td>\n",
       "      <td>3</td>\n",
       "      <td>0</td>\n",
       "      <td>500000000</td>\n",
       "      <td>500000</td>\n",
       "      <td>2</td>\n",
       "      <td>15.000000</td>\n",
       "      <td>20.571429</td>\n",
       "      <td>15.000000</td>\n",
       "      <td>-11.142857</td>\n",
       "    </tr>\n",
       "  </tbody>\n",
       "</table>\n",
       "</div>"
      ],
      "text/plain": [
       "                    course_id  viewed  explored  certified LoE_DI  YoB gender  \\\n",
       "0   HarvardX/PH207x/2012_Fall       1         1          0    NaN  NaN    NaN   \n",
       "1  HarvardX/CB22x/2013_Spring       1         0          0    NaN  NaN    NaN   \n",
       "2  HarvardX/CB22x/2013_Spring       1         0          0    NaN  NaN    NaN   \n",
       "3  HarvardX/ER22x/2013_Spring       1         0          0    NaN  NaN    NaN   \n",
       "4  HarvardX/ER22x/2013_Spring       1         0          0    NaN  NaN    NaN   \n",
       "\n",
       "  grade  nevents  ndays_act  nplay_video  nchapters  nforum_posts    subject  \\\n",
       "0     0      502         16           50         12             0   10000000   \n",
       "1     0       42          6          NaN          3             0    1900000   \n",
       "2     0       70          3          NaN          3             0    1900000   \n",
       "3     0       17          2          NaN          2             0  500000000   \n",
       "4     0       32          1          NaN          3             0  500000000   \n",
       "\n",
       "   instructor  no_courses  student_regis_to_launch  course_duration  \\\n",
       "0      366000          15                -4.000000        15.714286   \n",
       "1      600000           4               -10.285714        23.285714   \n",
       "2      600000           7                -3.571429        23.285714   \n",
       "3      500000           7                -1.285714        20.571429   \n",
       "4      500000           2                15.000000        20.571429   \n",
       "\n",
       "   last_event_to_launch  regis_open_to_launch  \n",
       "0             31.857143            -11.571429  \n",
       "1              8.714286            -12.714286  \n",
       "2              0.571429            -12.714286  \n",
       "3             14.571429            -11.142857  \n",
       "4             15.000000            -11.142857  "
      ]
     },
     "execution_count": 100,
     "metadata": {},
     "output_type": "execute_result"
    }
   ],
   "source": [
    "df_out.head()"
   ]
  },
  {
   "cell_type": "markdown",
   "metadata": {},
   "source": [
    "### The following is the histogram of churn dates (relative to course launch dates). "
   ]
  },
  {
   "cell_type": "code",
   "execution_count": 114,
   "metadata": {
    "collapsed": false
   },
   "outputs": [
    {
     "data": {
      "image/png": "[encoded data removed]",
      "text/plain": [
       "<matplotlib.figure.Figure at 0x7fe9420c5c90>"
      ]
     },
     "metadata": {},
     "output_type": "display_data"
    }
   ],
   "source": [
    "plt.hist(df_out['last_event_to_launch'], 20)\n",
    "plt.xlabel('churn date relative to course launch', fontsize = 'xx-large');"
   ]
  },
  {
   "cell_type": "markdown",
   "metadata": {},
   "source": [
    "## What about churn *rate* as a function of time?\n",
    "The above histogram gives absolute number of churns vs time. The following shows the percentage of students who churn the course (out of all who are active at that week) as a function of time, averaged over all courses. It shows that the drop rate decreases as courses proceed. "
   ]
  },
  {
   "cell_type": "code",
   "execution_count": 131,
   "metadata": {
    "collapsed": false
   },
   "outputs": [
    {
     "name": "stdout",
     "output_type": "stream",
     "text": [
      "Interestingly, churn rate jumps once courses start (week 0) but then it falls down. \n"
     ]
    },
    {
     "data": {
      "image/png": "[encoded data removed]",
      "text/plain": [
       "<matplotlib.figure.Figure at 0x7fe9421e9850>"
      ]
     },
     "metadata": {},
     "output_type": "display_data"
    }
   ],
   "source": [
    "courses = df_out['course_id'].unique()\n",
    "x = linspace(-5, 10, 16)\n",
    "\n",
    "st = [0 for i in xrange(16)]\n",
    "for c in courses:\n",
    "    df_course = df_out[df_out['course_id'] == c] #data for those registered in course 'c'\n",
    "    df_course = df_course[df_course['student_regis_to_launch'] <= 0] # only those who registered before the course started\n",
    "    df_course.index = arange(df_course.shape[0])\n",
    "    n_students = []\n",
    "    for wk in x:\n",
    "        all_after = df_course[df_course['last_event_to_launch'] >= wk]\n",
    "        #temp = df_course[df_course['last_event_to_launch'] >= wk]\n",
    "        #temp = temp[temp['last_event_to_launch'] < wk+1]\n",
    "        temp = all_after[all_after['last_event_to_launch'] < wk+1]\n",
    "        n_students.append(1.*len(temp)/len(all_after))\n",
    "\n",
    "    st = np.add(st, n_students)    \n",
    "        \n",
    "plt.xlabel('weeks into the course', fontsize = 'xx-large')\n",
    "plt.ylabel('drop rate in each week', fontsize = 'xx-large')\n",
    "plt.bar(x, st/len(courses));\n",
    "del df_course, all_after, temp\n",
    "print 'Interestingly, churn rate jumps once courses start (week 0) but then it falls down. '"
   ]
  },
  {
   "cell_type": "markdown",
   "metadata": {},
   "source": [
    "### Churn before course launch is high at ~45%. These is a results of fact that early registring students sometimes need to wait for long time for the courses to start."
   ]
  },
  {
   "cell_type": "code",
   "execution_count": 113,
   "metadata": {
    "collapsed": false
   },
   "outputs": [
    {
     "data": {
      "image/png": "[encoded data removed]",
      "text/plain": [
       "<matplotlib.figure.Figure at 0x7fe941d80c50>"
      ]
     },
     "metadata": {},
     "output_type": "display_data"
    }
   ],
   "source": [
    "plt.hist(y['last_event_to_launch'], 20)\n",
    "plt.xlabel('churn date relative to course launch', fontsize = 'xx-large');"
   ]
  },
  {
   "cell_type": "markdown",
   "metadata": {},
   "source": [
    "### The following histograms show that there is a clear difference between those who viewed some of course content and those who didn't view any, in terms of when they last visited the course page. "
   ]
  },
  {
   "cell_type": "code",
   "execution_count": 110,
   "metadata": {
    "collapsed": false
   },
   "outputs": [
    {
     "data": {
      "image/png": "[encoded data removed]",
      "text/plain": [
       "<matplotlib.figure.Figure at 0x7fe9420587d0>"
      ]
     },
     "metadata": {},
     "output_type": "display_data"
    }
   ],
   "source": [
    "x = df_out[df_out['viewed'] == 1]\n",
    "x.index = arange(len(x))\n",
    "\n",
    "y = df_out[df_out['viewed'] == 0]\n",
    "y.index = arange(len(y))\n",
    "\n",
    "plt.xlabel('last visit to course relative to course launch in weeks', fontsize = 'xx-large')\n",
    "plt.hist(x['last_event_to_launch'], 20,label='viewed')\n",
    "plt.legend(loc='upper center', shadow=True)\n",
    "\n",
    "plt.hist(y['last_event_to_launch'], 20, label='not viewed')\n",
    "plt.legend(loc='upper left', shadow=True)\n",
    "\n",
    "#plt.savefig('last_to_launch.eps', format='eps')\n",
    "plt.show()"
   ]
  },
  {
   "cell_type": "markdown",
   "metadata": {},
   "source": [
    "#pie charts"
   ]
  },
  {
   "cell_type": "code",
   "execution_count": 17,
   "metadata": {
    "collapsed": false,
    "scrolled": true
   },
   "outputs": [
    {
     "data": {
      "image/png": "[encoded data removed]",
      "text/plain": [
       "<matplotlib.figure.Figure at 0x7f3c42033490>"
      ]
     },
     "metadata": {},
     "output_type": "display_data"
    }
   ],
   "source": [
    "from matplotlib import pyplot as plt\n",
    "from matplotlib import font_manager as fm\n",
    "\n",
    "fig = plt.figure(1, figsize=(6,6))\n",
    "ax = fig.add_axes([0.9, 0.1, 0.8, 0.8])\n",
    "\n",
    "labels = 'viewed but not certified', 'not viewed', 'viewed & certified'\n",
    "fracs = [69, 27, 4]\n",
    "colors = ['greenyellow', 'cyan', 'red']\n",
    "\n",
    "\n",
    "patches, texts, autotexts = ax.pie(fracs,colors=colors, labels = labels, autopct='%1.0f%%')\n",
    "\n",
    "proptease = fm.FontProperties()\n",
    "proptease.set_size('xx-large')\n",
    "plt.setp(autotexts, fontproperties=proptease)\n",
    "plt.setp(texts, fontproperties=proptease)\n",
    "#plt.savefig('pie.png', format='png', orientation='vertical')\n",
    "plt.show()"
   ]
  },
  {
   "cell_type": "markdown",
   "metadata": {},
   "source": [
    "### The following shows that certification rate is highest for those who register close to course launch date, after which it rapidly falls down. This is possibly due to the fact that, once registered late, it is harder to catch up in online courses where students are more or less on their own.\n",
    "\n",
    "The course view rate, however, remains constant after course starts. \n",
    "note: Studies have shown that synchronizing student registration and course launch is a big challenge in mooc.  "
   ]
  },
  {
   "cell_type": "code",
   "execution_count": 143,
   "metadata": {
    "collapsed": false
   },
   "outputs": [
    {
     "data": {
      "text/plain": [
       "<matplotlib.lines.Line2D at 0x7fe94229f750>"
      ]
     },
     "execution_count": 143,
     "metadata": {},
     "output_type": "execute_result"
    },
    {
     "data": {
      "image/png": "[encoded data removed]",
      "text/plain": [
       "<matplotlib.figure.Figure at 0x7fe941e91990>"
      ]
     },
     "metadata": {},
     "output_type": "display_data"
    }
   ],
   "source": [
    "out2 = []\n",
    "out4 = []\n",
    "for wk in np.linspace(-15, 15, 51):#xrange(-end, end/2, 2):\n",
    "    #temp = df_out[df_out['regis_to_start'] < wk]\n",
    "    temp = df[df['student_regis_to_launch'] < wk]\n",
    "    \n",
    "    temp = temp[temp['student_regis_to_launch'] >= wk-1] #temp: those who registered during [wk-1, wk)\n",
    "    out2.append(mean(temp['viewed'] == 1))   \n",
    "    out4.append(2*mean(temp['certified'] == 1))\n",
    "        \n",
    "\n",
    "sns.set_style('white')\n",
    "plt.xlim([-15,10])\n",
    "#plt.ylabel('Enrollment')\n",
    "plt.xlabel('Enrollment relative to launch')\n",
    "\n",
    "plt.plot(np.linspace(-15, 10, 51), out2, label=\"course view rate\")\n",
    "#plt.plot(np.linspace(-15, 15, 51), out3, label=\"explored (*2)\")\n",
    "plt.plot(np.linspace(-15, 15, 51), out4, label=\"certification rate (*2)\", color='r')\n",
    "#plt.ylim([0, .08])\n",
    "\n",
    "plt.xlabel('Enrollment date relative to course launch (weeks)',  fontsize = 'xx-large')\n",
    "plt.ylabel('Engagement rates', fontsize = 'xx-large')\n",
    "plt.legend(loc=\"upper left\", fontsize = 'xx-large')\n",
    "plt.axvline(x=0.0, ymin=0, ymax = 1, linewidth=1, color='k');\n",
    "#plt.savefig('engagement.eps', format='eps')"
   ]
  },
  {
   "cell_type": "markdown",
   "metadata": {},
   "source": [
    "## Engagement rates for students registring before and after course launch:"
   ]
  },
  {
   "cell_type": "code",
   "execution_count": 96,
   "metadata": {
    "collapsed": false
   },
   "outputs": [
    {
     "name": "stdout",
     "output_type": "stream",
     "text": [
      "Registration before and after course launch: 48%, 51%.\n"
     ]
    }
   ],
   "source": [
    "#Dsitribution of student registration before and after lanuch: \n",
    "regis_before = [df_out['regis_to_start'][i] for i in xrange(df_out.shape[0]) if df_out['regis_to_start'][i] <= 0]\n",
    "print \"Registration before and after course launch: %d%%, %d%%.\" % (100.*len(regis_before)/len(df_out['viewed']), 100 - 100.*len(regis_before)/len(df_out['viewed']))"
   ]
  },
  {
   "cell_type": "code",
   "execution_count": 99,
   "metadata": {
    "collapsed": false
   },
   "outputs": [
    {
     "name": "stdout",
     "output_type": "stream",
     "text": [
      "Certification rate before and after course launch: 5.4%, 2.6%.\n"
     ]
    }
   ],
   "source": [
    "#certification rate before and after course started:\n",
    "before = [df_out['certified'][i] for i in xrange(df_out.shape[0]) if df_out['regis_to_start'][i] <= 0]\n",
    "after = [df_out['certified'][i] for i in xrange(df_out.shape[0]) if df_out['regis_to_start'][i] > 0]\n",
    "\n",
    "print \"Certification rate before and after course launch: %.1f%%, %.1f%%.\" % (100*mean(before), 100*mean(after)) #(100*mean(before)/mean(df_out['certified'])-100)"
   ]
  },
  {
   "cell_type": "code",
   "execution_count": 100,
   "metadata": {
    "collapsed": false
   },
   "outputs": [
    {
     "name": "stdout",
     "output_type": "stream",
     "text": [
      "View rate before and after course launch: 65.0%, 79.3%.\n"
     ]
    }
   ],
   "source": [
    "#View rate for those who registered before course started:\n",
    "view_before = [df_out['viewed'][i] for i in xrange(df_out.shape[0]) if df_out['regis_to_start'][i] <= 0]\n",
    "view_after = [df_out['viewed'][i] for i in xrange(df_out.shape[0]) if df_out['regis_to_start'][i] > 0]\n",
    "\n",
    "print \"View rate before and after course launch: %.1f%%, %.1f%%.\" % (100*mean(view_before), 100*mean(view_after))  "
   ]
  },
  {
   "cell_type": "markdown",
   "metadata": {},
   "source": [
    "### These (above) suggest that, while students registration is distributed about equally before and after course launch, those registring before are *twice more likely to be certified*. \n",
    "\n",
    "### It also shows that view rate is even higher among those registered after course launch. Since viewing the course content is a desirable activity that open courses are generally designed to support, it is therefore important to keep course registration open and fluid allowing students to register for the course anytime.   "
   ]
  },
  {
   "cell_type": "code",
   "execution_count": 84,
   "metadata": {
    "collapsed": false
   },
   "outputs": [
    {
     "data": {
      "image/png": "[encoded data removed]",
      "text/plain": [
       "<matplotlib.figure.Figure at 0x7f7546937690>"
      ]
     },
     "metadata": {},
     "output_type": "display_data"
    }
   ],
   "source": [
    "N = 16\n",
    "menMeans   = count.values() \n",
    "ind = np.arange(N)   \n",
    "width = 0.55       \n",
    "\n",
    "p1 = plt.barh(ind, menMeans,   width, color='g')\n",
    "\n",
    "plt.xlabel('Number of registrants')\n",
    "plt.yticks(ind+width/2., count.keys(),rotation=00)\n",
    "\n",
    "plt.show()"
   ]
  }
 ],
 "metadata": {
  "kernelspec": {
   "display_name": "Python 2",
   "language": "python",
   "name": "python2"
  },
  "language_info": {
   "codemirror_mode": {
    "name": "ipython",
    "version": 2
   },
   "file_extension": ".py",
   "mimetype": "text/x-python",
   "name": "python",
   "nbconvert_exporter": "python",
   "pygments_lexer": "ipython2",
   "version": "2.7.6"
  }
 },
 "nbformat": 4,
 "nbformat_minor": 0
}

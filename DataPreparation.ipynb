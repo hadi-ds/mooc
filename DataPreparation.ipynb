{
 "cells": [
  {
   "cell_type": "code",
   "execution_count": 1,
   "metadata": {
    "collapsed": false
   },
   "outputs": [
    {
     "name": "stdout",
     "output_type": "stream",
     "text": [
      "Populating the interactive namespace from numpy and matplotlib\n"
     ]
    }
   ],
   "source": [
    "import pandas as pd\n",
    "import numpy as np\n",
    "import matplotlib.pyplot as plt\n",
    "\n",
    "%pylab inline\n",
    "import seaborn as sns"
   ]
  },
  {
   "cell_type": "markdown",
   "metadata": {
    "slideshow": {
     "slide_type": "subslide"
    }
   },
   "source": [
    "###These are some additional information about the crouses gathered by exploring the course pages on EdX, including 'course launch dates', 'course registration openning', 'last day of the courses'. Last two (subject_popularity, famous_instructor) are popularity of course subject and instructors based on number of google hits theey have. "
   ]
  },
  {
   "cell_type": "code",
   "execution_count": 2,
   "metadata": {
    "collapsed": false
   },
   "outputs": [],
   "source": [
    "course_launch = {'HarvardX/CB22x/2013_Spring':'2013-03-13', 'HarvardX/CS50x/2012':'2012-10-15', \n",
    "                     'HarvardX/ER22x/2013_Spring':'2013-03-02', 'HarvardX/PH207x/2012_Fall':'2012-10-15',\n",
    "                    'HarvardX/PH278x/2013_Spring':'2013-05-15',\n",
    "              'MITx/6.002x/2012_Fall': '2012-09-05',\n",
    "             'MITx/6.00x/2012_Fall':'2012-09-26',\n",
    "                  'MITx/3.091x/2012_Fall':'2012-10-09',\n",
    "                   'MITx/6.00x/2013_Spring':'2013-02-04',\n",
    "                         'MITx/3.091x/2013_Spring':'2013-02-05', \n",
    "                 'MITx/14.73x/2013_Spring':'2013-02-12',\n",
    "                  'MITx/8.02x/2013_Spring':'2013-02-18', \n",
    "                 'MITx/6.002x/2013_Spring':'2013-03-03', \n",
    "                  'MITx/7.00x/2013_Spring':'2013-03-05',\n",
    "           'MITx/2.01x/2013_Spring':'2013-04-15',                     \n",
    "                 'MITx/8.MReV/2013_Summer':'2013-06-01'}\n",
    "\n",
    "\n",
    "\n",
    "regis_open = {'HarvardX/CB22x/2013_Spring':'2012-12-19', 'HarvardX/CS50x/2012':'2012-07-24', \n",
    "                     'HarvardX/ER22x/2013_Spring':'2012-12-19', 'HarvardX/PH207x/2012_Fall':'2012-07-24',\n",
    "                    'HarvardX/PH278x/2013_Spring':'2012-12-19',             \n",
    "              'MITx/6.002x/2012_Fall': '2012-07-24',\n",
    "             'MITx/6.00x/2012_Fall':'2012-07-24',\n",
    "                  'MITx/3.091x/2012_Fall':'2012-07-24',\n",
    "                   'MITx/6.00x/2013_Spring':'2012-12-19',\n",
    "                         'MITx/3.091x/2013_Spring':'2012-12-20', \n",
    "                 'MITx/14.73x/2013_Spring':'2012-12-19',\n",
    "                  'MITx/8.02x/2013_Spring':'2013-01-17', \n",
    "                 'MITx/6.002x/2013_Spring':'2012-12-20', \n",
    "                  'MITx/7.00x/2013_Spring':'2013-01-30',\n",
    "           'MITx/2.01x/2013_Spring':'2013-02-24',                     \n",
    "                 'MITx/8.MReV/2013_Summer':'2013-04-27' }\n",
    "\n",
    "course_wrap = {'HarvardX/CB22x/2013_Spring':'2013-08-26', 'HarvardX/CS50x/2012':'2013-04-15', \n",
    "                     'HarvardX/ER22x/2013_Spring':'2013-07-26', 'HarvardX/PH207x/2012_Fall':'2013-01-30',\n",
    "                    'HarvardX/PH278x/2013_Spring':'2013-07-25',               \n",
    "              'MITx/6.002x/2012_Fall': '2012-12-25',\n",
    "             'MITx/6.00x/2012_Fall':'2013-01-15',\n",
    "                  'MITx/3.091x/2012_Fall':'2013-01-15',\n",
    "                   'MITx/6.00x/2013_Spring':'2013-06-04',\n",
    "                         'MITx/3.091x/2013_Spring':'2013-06-21', \n",
    "                 'MITx/14.73x/2013_Spring':'2013-05-21',\n",
    "                  'MITx/8.02x/2013_Spring':'2013-06-18', \n",
    "                 'MITx/6.002x/2013_Spring':'2013-07-01', \n",
    "                  'MITx/7.00x/2013_Spring':'2013-06-06',\n",
    "           'MITx/2.01x/2013_Spring':'2013-07-30',                     \n",
    "                 'MITx/8.MReV/2013_Summer':'2013-09-15' }\n",
    "\n",
    "\n",
    "subject_popularity = {'HarvardX/CB22x/2013_Spring':1900000, 'HarvardX/CS50x/2012':245000000, \n",
    "                     'HarvardX/ER22x/2013_Spring':500000000, 'HarvardX/PH207x/2012_Fall':10000000,\n",
    "                    'HarvardX/PH278x/2013_Spring':100000000,'MITx/6.002x/2012_Fall':16000000,\n",
    "                'MITx/6.00x/2012_Fall':100000000, \n",
    "                'MITx/3.091x/2012_Fall':57000000,'MITx/6.00x/2013_Spring':100000000,\n",
    "                 'MITx/3.091x/2013_Spring':57000000, 'MITx/14.73x/2013_Spring':26000000,\n",
    "                'MITx/8.02x/2013_Spring':8000000, 'MITx/6.002x/2013_Spring':16000000,\n",
    "                'MITx/7.00x/2013_Spring':200000000, 'MITx/2.01x/2013_Spring':280000000,\n",
    "                 'MITx/8.MReV/2013_Summer':100000000}\n",
    "\n",
    "famous_instrustor = {'HarvardX/CB22x/2013_Spring':600000, 'HarvardX/CS50x/2012':468000, \n",
    "                     'HarvardX/ER22x/2013_Spring':500000, 'HarvardX/PH207x/2012_Fall':366000,\n",
    "                    'HarvardX/PH278x/2013_Spring':366000, 'MITx/6.002x/2012_Fall':457000,\n",
    "               'MITx/6.00x/2012_Fall':100000, 'MITx/3.091x/2012_Fall':1250000, \n",
    "               'MITx/6.00x/2013_Spring':100000,\n",
    "               'MITx/3.091x/2013_Spring':1250000, 'MITx/14.73x/2013_Spring':500000,\n",
    "                'MITx/8.02x/2013_Spring':1100000, 'MITx/6.002x/2013_Spring':457000,\n",
    "                'MITx/7.00x/2013_Spring':650000,'MITx/2.01x/2013_Spring':80000,\n",
    "                'MITx/8.MReV/2013_Summer':10000000}"
   ]
  },
  {
   "cell_type": "markdown",
   "metadata": {},
   "source": [
    "###Loading the data into a pandas dataframe and adding new features to it."
   ]
  },
  {
   "cell_type": "code",
   "execution_count": 3,
   "metadata": {
    "collapsed": false
   },
   "outputs": [],
   "source": [
    "df = pd.read_csv('../HMXPC13_DI_v2_5-14-14.csv')\n",
    "\n",
    "# add course launch and wrap dates:\n",
    "dt1 = []\n",
    "dt2 = []\n",
    "dt3 = []\n",
    "dt4 = []\n",
    "for c in df['course_id']:\n",
    "    dt1.append(course_launch[c])\n",
    "    dt2.append(course_wrap[c])\n",
    "    dt3.append(subject_popularity[c])\n",
    "    dt4.append(famous_instrustor[c])\n",
    "\n",
    "df['course_launch'] = dt1\n",
    "df['course_wrap'] = dt2\n",
    "df['subject'] = dt3\n",
    "df['instructor'] = dt4\n",
    "del dt1, dt2, dt3, dt4\n",
    "\n",
    "#add number of courses each student has signed up for. \n",
    "student_courses = {}\n",
    "    \n",
    "for student in df['userid_DI']:\n",
    "    if student not in student_courses:\n",
    "        student_courses[student] = 1\n",
    "    else:\n",
    "        student_courses[student] += 1\n",
    "\n",
    "z = []\n",
    "for i in xrange(df.shape[0]):    \n",
    "    z.append(student_courses[df['userid_DI'][i]])    \n",
    "    \n",
    "df['no_courses'] = z\n",
    "del z, student_courses\n",
    "\n",
    "df = df.applymap(lambda x: np.nan if isinstance(x, basestring) and x.isspace() else x) # replace black cells with NA\n",
    "del df['roles'] # same for all\n",
    "df = df[pd.isnull(df.incomplete_flag)] # remove internally inconsistent records (flag = 1)\n",
    "del df['incomplete_flag'], df['registered']\n",
    "df.index = arange(df.shape[0])"
   ]
  },
  {
   "cell_type": "code",
   "execution_count": 8,
   "metadata": {
    "collapsed": false
   },
   "outputs": [
    {
     "data": {
      "text/html": [
       "<div style=\"max-height:1000px;max-width:1500px;overflow:auto;\">\n",
       "<table border=\"1\" class=\"dataframe\">\n",
       "  <thead>\n",
       "    <tr style=\"text-align: right;\">\n",
       "      <th></th>\n",
       "      <th>course_id</th>\n",
       "      <th>userid_DI</th>\n",
       "      <th>viewed</th>\n",
       "      <th>explored</th>\n",
       "      <th>certified</th>\n",
       "      <th>final_cc_cname_DI</th>\n",
       "      <th>LoE_DI</th>\n",
       "      <th>YoB</th>\n",
       "      <th>gender</th>\n",
       "      <th>grade</th>\n",
       "      <th>...</th>\n",
       "      <th>nevents</th>\n",
       "      <th>ndays_act</th>\n",
       "      <th>nplay_video</th>\n",
       "      <th>nchapters</th>\n",
       "      <th>nforum_posts</th>\n",
       "      <th>course_launch</th>\n",
       "      <th>course_wrap</th>\n",
       "      <th>subject</th>\n",
       "      <th>instructor</th>\n",
       "      <th>no_courses</th>\n",
       "    </tr>\n",
       "  </thead>\n",
       "  <tbody>\n",
       "    <tr>\n",
       "      <th>0</th>\n",
       "      <td>HarvardX/PH207x/2012_Fall</td>\n",
       "      <td>MHxPC130275857</td>\n",
       "      <td>1</td>\n",
       "      <td>1</td>\n",
       "      <td>0</td>\n",
       "      <td>United States</td>\n",
       "      <td>NaN</td>\n",
       "      <td>NaN</td>\n",
       "      <td>NaN</td>\n",
       "      <td>0</td>\n",
       "      <td>...</td>\n",
       "      <td>502</td>\n",
       "      <td>16</td>\n",
       "      <td>50</td>\n",
       "      <td>12</td>\n",
       "      <td>0</td>\n",
       "      <td>2012-10-15</td>\n",
       "      <td>2013-01-30</td>\n",
       "      <td>10000000</td>\n",
       "      <td>366000</td>\n",
       "      <td>15</td>\n",
       "    </tr>\n",
       "    <tr>\n",
       "      <th>1</th>\n",
       "      <td>HarvardX/CB22x/2013_Spring</td>\n",
       "      <td>MHxPC130539455</td>\n",
       "      <td>1</td>\n",
       "      <td>0</td>\n",
       "      <td>0</td>\n",
       "      <td>France</td>\n",
       "      <td>NaN</td>\n",
       "      <td>NaN</td>\n",
       "      <td>NaN</td>\n",
       "      <td>0</td>\n",
       "      <td>...</td>\n",
       "      <td>42</td>\n",
       "      <td>6</td>\n",
       "      <td>NaN</td>\n",
       "      <td>3</td>\n",
       "      <td>0</td>\n",
       "      <td>2013-03-13</td>\n",
       "      <td>2013-08-26</td>\n",
       "      <td>1900000</td>\n",
       "      <td>600000</td>\n",
       "      <td>4</td>\n",
       "    </tr>\n",
       "    <tr>\n",
       "      <th>2</th>\n",
       "      <td>HarvardX/CB22x/2013_Spring</td>\n",
       "      <td>MHxPC130088379</td>\n",
       "      <td>1</td>\n",
       "      <td>0</td>\n",
       "      <td>0</td>\n",
       "      <td>United States</td>\n",
       "      <td>NaN</td>\n",
       "      <td>NaN</td>\n",
       "      <td>NaN</td>\n",
       "      <td>0</td>\n",
       "      <td>...</td>\n",
       "      <td>70</td>\n",
       "      <td>3</td>\n",
       "      <td>NaN</td>\n",
       "      <td>3</td>\n",
       "      <td>0</td>\n",
       "      <td>2013-03-13</td>\n",
       "      <td>2013-08-26</td>\n",
       "      <td>1900000</td>\n",
       "      <td>600000</td>\n",
       "      <td>7</td>\n",
       "    </tr>\n",
       "    <tr>\n",
       "      <th>3</th>\n",
       "      <td>HarvardX/ER22x/2013_Spring</td>\n",
       "      <td>MHxPC130088379</td>\n",
       "      <td>1</td>\n",
       "      <td>0</td>\n",
       "      <td>0</td>\n",
       "      <td>United States</td>\n",
       "      <td>NaN</td>\n",
       "      <td>NaN</td>\n",
       "      <td>NaN</td>\n",
       "      <td>0</td>\n",
       "      <td>...</td>\n",
       "      <td>17</td>\n",
       "      <td>2</td>\n",
       "      <td>NaN</td>\n",
       "      <td>2</td>\n",
       "      <td>0</td>\n",
       "      <td>2013-03-02</td>\n",
       "      <td>2013-07-26</td>\n",
       "      <td>500000000</td>\n",
       "      <td>500000</td>\n",
       "      <td>7</td>\n",
       "    </tr>\n",
       "    <tr>\n",
       "      <th>4</th>\n",
       "      <td>HarvardX/ER22x/2013_Spring</td>\n",
       "      <td>MHxPC130198098</td>\n",
       "      <td>1</td>\n",
       "      <td>0</td>\n",
       "      <td>0</td>\n",
       "      <td>United States</td>\n",
       "      <td>NaN</td>\n",
       "      <td>NaN</td>\n",
       "      <td>NaN</td>\n",
       "      <td>0</td>\n",
       "      <td>...</td>\n",
       "      <td>32</td>\n",
       "      <td>1</td>\n",
       "      <td>NaN</td>\n",
       "      <td>3</td>\n",
       "      <td>0</td>\n",
       "      <td>2013-03-02</td>\n",
       "      <td>2013-07-26</td>\n",
       "      <td>500000000</td>\n",
       "      <td>500000</td>\n",
       "      <td>2</td>\n",
       "    </tr>\n",
       "  </tbody>\n",
       "</table>\n",
       "<p>5 rows × 22 columns</p>\n",
       "</div>"
      ],
      "text/plain": [
       "                    course_id       userid_DI  viewed  explored  certified  \\\n",
       "0   HarvardX/PH207x/2012_Fall  MHxPC130275857       1         1          0   \n",
       "1  HarvardX/CB22x/2013_Spring  MHxPC130539455       1         0          0   \n",
       "2  HarvardX/CB22x/2013_Spring  MHxPC130088379       1         0          0   \n",
       "3  HarvardX/ER22x/2013_Spring  MHxPC130088379       1         0          0   \n",
       "4  HarvardX/ER22x/2013_Spring  MHxPC130198098       1         0          0   \n",
       "\n",
       "  final_cc_cname_DI LoE_DI  YoB gender grade     ...     nevents ndays_act  \\\n",
       "0     United States    NaN  NaN    NaN     0     ...         502        16   \n",
       "1            France    NaN  NaN    NaN     0     ...          42         6   \n",
       "2     United States    NaN  NaN    NaN     0     ...          70         3   \n",
       "3     United States    NaN  NaN    NaN     0     ...          17         2   \n",
       "4     United States    NaN  NaN    NaN     0     ...          32         1   \n",
       "\n",
       "   nplay_video  nchapters  nforum_posts  course_launch  course_wrap  \\\n",
       "0           50         12             0     2012-10-15   2013-01-30   \n",
       "1          NaN          3             0     2013-03-13   2013-08-26   \n",
       "2          NaN          3             0     2013-03-13   2013-08-26   \n",
       "3          NaN          2             0     2013-03-02   2013-07-26   \n",
       "4          NaN          3             0     2013-03-02   2013-07-26   \n",
       "\n",
       "     subject instructor  no_courses  \n",
       "0   10000000     366000          15  \n",
       "1    1900000     600000           4  \n",
       "2    1900000     600000           7  \n",
       "3  500000000     500000           7  \n",
       "4  500000000     500000           2  \n",
       "\n",
       "[5 rows x 22 columns]"
      ]
     },
     "execution_count": 8,
     "metadata": {},
     "output_type": "execute_result"
    }
   ],
   "source": [
    "df.head()"
   ]
  },
  {
   "cell_type": "markdown",
   "metadata": {},
   "source": [
    "##What is the certification and course view rate among registrants?"
   ]
  },
  {
   "cell_type": "code",
   "execution_count": 9,
   "metadata": {
    "collapsed": false
   },
   "outputs": [
    {
     "name": "stdout",
     "output_type": "stream",
     "text": [
      "certification rate: 3%\n",
      "view rate: 60%\n"
     ]
    }
   ],
   "source": [
    "certified = df[df['certified'] == 1]\n",
    "viewed = df[df['viewed'] == 1]\n",
    "\n",
    "print \"certification rate: %d%%\\nview rate: %d%%\" % (100.*len(certified)/len(df), len(viewed)*100./len(df))"
   ]
  },
  {
   "cell_type": "markdown",
   "metadata": {
    "collapsed": false
   },
   "source": [
    "## One expects that various dates and time periods such as course duration, student registration date, etc. play role in student engagement with courses. I include some of these as new features."
   ]
  },
  {
   "cell_type": "code",
   "execution_count": 4,
   "metadata": {
    "collapsed": false
   },
   "outputs": [],
   "source": [
    "#weeks_in_course = []\n",
    "#eff_weeks_in_course = []\n",
    "\n",
    "regis_to_start = []\n",
    "course_duration = []\n",
    "last_event_to_launch = []\n",
    "\n",
    "for i in xrange(df.shape[0]):  \n",
    "    \n",
    "    d1 = df['start_time_DI'][i] # registration date\n",
    "    d2 = df['last_event_DI'][i] # last interaction with course\n",
    "    d3 = df['course_launch'][i]  # start date of course\n",
    "    d4 = df['course_wrap'][i] # last day of course\n",
    "    \n",
    "    yr13 = int(d1[:4]) - int(d3[:4])\n",
    "    m13 = int(d1[5:7]) - int(d3[5:7])\n",
    "    d13 = int(d1[8:]) - int(d3[8:])\n",
    "    regis_to_start.append((yr13*365+m13*30+d13)/7.)  \n",
    "    \n",
    "    yr43 = int(d4[:4]) - int(d3[:4])\n",
    "    m43 = int(d4[5:7]) - int(d3[5:7])\n",
    "    d43 = int(d4[8:]) - int(d3[8:])\n",
    "    course_duration.append((yr43*365+m43*30+d43)/7.)      \n",
    "    \n",
    "    if pd.notnull(d2):\n",
    "        yr21 = int(d2[:4]) - int(d1[:4])\n",
    "        m21 = int(d2[5:7]) - int(d1[5:7])\n",
    "        d21 = int(d2[8:]) - int(d1[8:])\n",
    "        \n",
    "        yr23 = int(d2[:4]) - int(d3[:4])\n",
    "        m23 = int(d2[5:7]) - int(d3[5:7])\n",
    "        d23 = int(d2[8:]) - int(d3[8:])\n",
    "        last_event_to_launch.append((yr23*365+m23*30+d23)/7.)\n",
    "        #weeks_in_course.append((yr21*365+m21*30+d21)/7.)          \n",
    "    else:\n",
    "        #weeks_in_course.append(0)  \n",
    "        last_event_to_launch.append(0)\n",
    "        \n",
    "#df['weeks_in_course'] = weeks_in_course\n",
    "df['regis_to_start'] = regis_to_start\n",
    "df['course_duration'] = course_duration\n",
    "df['last_event_to_launch'] = last_event_to_launch\n",
    "del regis_to_start, course_duration, last_event_to_launch#, weeks_in_course\n",
    "\n",
    "# remove inconsistence data where last_event_DI < start_time_DI:\n",
    "#df = df[df['weeks_in_course'] >= 0]\n",
    "#df.index = arange(df.shape[0])\n",
    "\n",
    "# weeks in the course / duration of course\n",
    "r1 = []\n",
    "for i in xrange(df.shape[0]):\n",
    "    r1.append(df['last_event_to_launch'][i]/float(df['course_duration'][i]))\n",
    "        \n",
    "df['presence/duration'] = r1\n",
    "del r1"
   ]
  },
  {
   "cell_type": "code",
   "execution_count": 11,
   "metadata": {
    "collapsed": false
   },
   "outputs": [
    {
     "data": {
      "text/html": [
       "<div style=\"max-height:1000px;max-width:1500px;overflow:auto;\">\n",
       "<table border=\"1\" class=\"dataframe\">\n",
       "  <thead>\n",
       "    <tr style=\"text-align: right;\">\n",
       "      <th></th>\n",
       "      <th>course_id</th>\n",
       "      <th>userid_DI</th>\n",
       "      <th>viewed</th>\n",
       "      <th>explored</th>\n",
       "      <th>certified</th>\n",
       "      <th>final_cc_cname_DI</th>\n",
       "      <th>LoE_DI</th>\n",
       "      <th>YoB</th>\n",
       "      <th>gender</th>\n",
       "      <th>grade</th>\n",
       "      <th>...</th>\n",
       "      <th>nforum_posts</th>\n",
       "      <th>course_launch</th>\n",
       "      <th>course_wrap</th>\n",
       "      <th>subject</th>\n",
       "      <th>instructor</th>\n",
       "      <th>no_courses</th>\n",
       "      <th>regis_to_start</th>\n",
       "      <th>course_duration</th>\n",
       "      <th>last_event_to_launch</th>\n",
       "      <th>presence/duration</th>\n",
       "    </tr>\n",
       "  </thead>\n",
       "  <tbody>\n",
       "    <tr>\n",
       "      <th>0</th>\n",
       "      <td>HarvardX/PH207x/2012_Fall</td>\n",
       "      <td>MHxPC130275857</td>\n",
       "      <td>1</td>\n",
       "      <td>1</td>\n",
       "      <td>0</td>\n",
       "      <td>United States</td>\n",
       "      <td>NaN</td>\n",
       "      <td>NaN</td>\n",
       "      <td>NaN</td>\n",
       "      <td>0</td>\n",
       "      <td>...</td>\n",
       "      <td>0</td>\n",
       "      <td>2012-10-15</td>\n",
       "      <td>2013-01-30</td>\n",
       "      <td>10000000</td>\n",
       "      <td>366000</td>\n",
       "      <td>15</td>\n",
       "      <td>-4.000000</td>\n",
       "      <td>15.714286</td>\n",
       "      <td>31.857143</td>\n",
       "      <td>2.027273</td>\n",
       "    </tr>\n",
       "    <tr>\n",
       "      <th>1</th>\n",
       "      <td>HarvardX/CB22x/2013_Spring</td>\n",
       "      <td>MHxPC130539455</td>\n",
       "      <td>1</td>\n",
       "      <td>0</td>\n",
       "      <td>0</td>\n",
       "      <td>France</td>\n",
       "      <td>NaN</td>\n",
       "      <td>NaN</td>\n",
       "      <td>NaN</td>\n",
       "      <td>0</td>\n",
       "      <td>...</td>\n",
       "      <td>0</td>\n",
       "      <td>2013-03-13</td>\n",
       "      <td>2013-08-26</td>\n",
       "      <td>1900000</td>\n",
       "      <td>600000</td>\n",
       "      <td>4</td>\n",
       "      <td>-10.285714</td>\n",
       "      <td>23.285714</td>\n",
       "      <td>8.714286</td>\n",
       "      <td>0.374233</td>\n",
       "    </tr>\n",
       "    <tr>\n",
       "      <th>2</th>\n",
       "      <td>HarvardX/CB22x/2013_Spring</td>\n",
       "      <td>MHxPC130088379</td>\n",
       "      <td>1</td>\n",
       "      <td>0</td>\n",
       "      <td>0</td>\n",
       "      <td>United States</td>\n",
       "      <td>NaN</td>\n",
       "      <td>NaN</td>\n",
       "      <td>NaN</td>\n",
       "      <td>0</td>\n",
       "      <td>...</td>\n",
       "      <td>0</td>\n",
       "      <td>2013-03-13</td>\n",
       "      <td>2013-08-26</td>\n",
       "      <td>1900000</td>\n",
       "      <td>600000</td>\n",
       "      <td>7</td>\n",
       "      <td>-3.571429</td>\n",
       "      <td>23.285714</td>\n",
       "      <td>0.571429</td>\n",
       "      <td>0.024540</td>\n",
       "    </tr>\n",
       "    <tr>\n",
       "      <th>3</th>\n",
       "      <td>HarvardX/ER22x/2013_Spring</td>\n",
       "      <td>MHxPC130088379</td>\n",
       "      <td>1</td>\n",
       "      <td>0</td>\n",
       "      <td>0</td>\n",
       "      <td>United States</td>\n",
       "      <td>NaN</td>\n",
       "      <td>NaN</td>\n",
       "      <td>NaN</td>\n",
       "      <td>0</td>\n",
       "      <td>...</td>\n",
       "      <td>0</td>\n",
       "      <td>2013-03-02</td>\n",
       "      <td>2013-07-26</td>\n",
       "      <td>500000000</td>\n",
       "      <td>500000</td>\n",
       "      <td>7</td>\n",
       "      <td>-1.285714</td>\n",
       "      <td>20.571429</td>\n",
       "      <td>14.571429</td>\n",
       "      <td>0.708333</td>\n",
       "    </tr>\n",
       "    <tr>\n",
       "      <th>4</th>\n",
       "      <td>HarvardX/ER22x/2013_Spring</td>\n",
       "      <td>MHxPC130198098</td>\n",
       "      <td>1</td>\n",
       "      <td>0</td>\n",
       "      <td>0</td>\n",
       "      <td>United States</td>\n",
       "      <td>NaN</td>\n",
       "      <td>NaN</td>\n",
       "      <td>NaN</td>\n",
       "      <td>0</td>\n",
       "      <td>...</td>\n",
       "      <td>0</td>\n",
       "      <td>2013-03-02</td>\n",
       "      <td>2013-07-26</td>\n",
       "      <td>500000000</td>\n",
       "      <td>500000</td>\n",
       "      <td>2</td>\n",
       "      <td>15.000000</td>\n",
       "      <td>20.571429</td>\n",
       "      <td>15.000000</td>\n",
       "      <td>0.729167</td>\n",
       "    </tr>\n",
       "  </tbody>\n",
       "</table>\n",
       "<p>5 rows × 26 columns</p>\n",
       "</div>"
      ],
      "text/plain": [
       "                    course_id       userid_DI  viewed  explored  certified  \\\n",
       "0   HarvardX/PH207x/2012_Fall  MHxPC130275857       1         1          0   \n",
       "1  HarvardX/CB22x/2013_Spring  MHxPC130539455       1         0          0   \n",
       "2  HarvardX/CB22x/2013_Spring  MHxPC130088379       1         0          0   \n",
       "3  HarvardX/ER22x/2013_Spring  MHxPC130088379       1         0          0   \n",
       "4  HarvardX/ER22x/2013_Spring  MHxPC130198098       1         0          0   \n",
       "\n",
       "  final_cc_cname_DI LoE_DI  YoB gender grade        ...         nforum_posts  \\\n",
       "0     United States    NaN  NaN    NaN     0        ...                    0   \n",
       "1            France    NaN  NaN    NaN     0        ...                    0   \n",
       "2     United States    NaN  NaN    NaN     0        ...                    0   \n",
       "3     United States    NaN  NaN    NaN     0        ...                    0   \n",
       "4     United States    NaN  NaN    NaN     0        ...                    0   \n",
       "\n",
       "  course_launch  course_wrap    subject  instructor  no_courses  \\\n",
       "0    2012-10-15   2013-01-30   10000000      366000          15   \n",
       "1    2013-03-13   2013-08-26    1900000      600000           4   \n",
       "2    2013-03-13   2013-08-26    1900000      600000           7   \n",
       "3    2013-03-02   2013-07-26  500000000      500000           7   \n",
       "4    2013-03-02   2013-07-26  500000000      500000           2   \n",
       "\n",
       "   regis_to_start course_duration last_event_to_launch  presence/duration  \n",
       "0       -4.000000       15.714286            31.857143           2.027273  \n",
       "1      -10.285714       23.285714             8.714286           0.374233  \n",
       "2       -3.571429       23.285714             0.571429           0.024540  \n",
       "3       -1.285714       20.571429            14.571429           0.708333  \n",
       "4       15.000000       20.571429            15.000000           0.729167  \n",
       "\n",
       "[5 rows x 26 columns]"
      ]
     },
     "execution_count": 11,
     "metadata": {},
     "output_type": "execute_result"
    }
   ],
   "source": [
    "df.head()"
   ]
  },
  {
   "cell_type": "code",
   "execution_count": 12,
   "metadata": {
    "collapsed": false
   },
   "outputs": [
    {
     "data": {
      "text/plain": [
       "Index([u'course_id', u'userid_DI', u'viewed', u'explored', u'certified',\n",
       "       u'final_cc_cname_DI', u'LoE_DI', u'YoB', u'gender', u'grade',\n",
       "       u'start_time_DI', u'last_event_DI', u'nevents', u'ndays_act',\n",
       "       u'nplay_video', u'nchapters', u'nforum_posts', u'course_launch',\n",
       "       u'course_wrap', u'subject', u'instructor', u'no_courses',\n",
       "       u'regis_to_start', u'course_duration', u'last_event_to_launch',\n",
       "       u'presence/duration'],\n",
       "      dtype='object')"
      ]
     },
     "execution_count": 12,
     "metadata": {},
     "output_type": "execute_result"
    }
   ],
   "source": [
    "df.columns"
   ]
  },
  {
   "cell_type": "markdown",
   "metadata": {},
   "source": [
    "## Distribution of 'time between student registration and course launch' suggests that student registration accelerates rapidly close to launch date after which it constantly falls down. "
   ]
  },
  {
   "cell_type": "code",
   "execution_count": 5,
   "metadata": {
    "collapsed": false
   },
   "outputs": [
    {
     "data": {
      "image/png": "[encoded data removed]",
      "text/plain": [
       "<matplotlib.figure.Figure at 0x7f3b0e8fb650>"
      ]
     },
     "metadata": {},
     "output_type": "display_data"
    }
   ],
   "source": [
    "sns.set_style('darkgrid')\n",
    "\n",
    "plt.xlabel('student registration to course launch', fontsize = 'xx-large')\n",
    "plt.hist(df['regis_to_start'], 20);"
   ]
  },
  {
   "cell_type": "markdown",
   "metadata": {},
   "source": [
    "## Some students showed no activity  beyond registration (~ 15% ot total). I remove these students. Then export the remaining into a new dataframe (df_out) for exploration and learning. "
   ]
  },
  {
   "cell_type": "code",
   "execution_count": 7,
   "metadata": {
    "collapsed": true
   },
   "outputs": [],
   "source": [
    "df_out = df[pd.notnull(df.last_event_DI)] # remove students with no activity\n",
    "\n",
    "del df_out['userid_DI'], df_out['start_time_DI'] #,df_out['course_id']\n",
    "del df_out['last_event_DI'], df_out['course_launch'], df_out['course_wrap']\n",
    "df_out.index = arange(df_out.shape[0])\n",
    "df_out.to_csv('learn.csv', index = False)"
   ]
  },
  {
   "cell_type": "code",
   "execution_count": 16,
   "metadata": {
    "collapsed": false
   },
   "outputs": [
    {
     "data": {
      "text/html": [
       "<div style=\"max-height:1000px;max-width:1500px;overflow:auto;\">\n",
       "<table border=\"1\" class=\"dataframe\">\n",
       "  <thead>\n",
       "    <tr style=\"text-align: right;\">\n",
       "      <th></th>\n",
       "      <th>course_id</th>\n",
       "      <th>viewed</th>\n",
       "      <th>explored</th>\n",
       "      <th>certified</th>\n",
       "      <th>final_cc_cname_DI</th>\n",
       "      <th>LoE_DI</th>\n",
       "      <th>YoB</th>\n",
       "      <th>gender</th>\n",
       "      <th>grade</th>\n",
       "      <th>nevents</th>\n",
       "      <th>...</th>\n",
       "      <th>nplay_video</th>\n",
       "      <th>nchapters</th>\n",
       "      <th>nforum_posts</th>\n",
       "      <th>subject</th>\n",
       "      <th>instructor</th>\n",
       "      <th>no_courses</th>\n",
       "      <th>regis_to_start</th>\n",
       "      <th>course_duration</th>\n",
       "      <th>last_event_to_launch</th>\n",
       "      <th>presence/duration</th>\n",
       "    </tr>\n",
       "  </thead>\n",
       "  <tbody>\n",
       "    <tr>\n",
       "      <th>0</th>\n",
       "      <td>HarvardX/PH207x/2012_Fall</td>\n",
       "      <td>1</td>\n",
       "      <td>1</td>\n",
       "      <td>0</td>\n",
       "      <td>United States</td>\n",
       "      <td>NaN</td>\n",
       "      <td>NaN</td>\n",
       "      <td>NaN</td>\n",
       "      <td>0</td>\n",
       "      <td>502</td>\n",
       "      <td>...</td>\n",
       "      <td>50</td>\n",
       "      <td>12</td>\n",
       "      <td>0</td>\n",
       "      <td>10000000</td>\n",
       "      <td>366000</td>\n",
       "      <td>15</td>\n",
       "      <td>-4.000000</td>\n",
       "      <td>15.714286</td>\n",
       "      <td>31.857143</td>\n",
       "      <td>2.027273</td>\n",
       "    </tr>\n",
       "    <tr>\n",
       "      <th>1</th>\n",
       "      <td>HarvardX/CB22x/2013_Spring</td>\n",
       "      <td>1</td>\n",
       "      <td>0</td>\n",
       "      <td>0</td>\n",
       "      <td>France</td>\n",
       "      <td>NaN</td>\n",
       "      <td>NaN</td>\n",
       "      <td>NaN</td>\n",
       "      <td>0</td>\n",
       "      <td>42</td>\n",
       "      <td>...</td>\n",
       "      <td>NaN</td>\n",
       "      <td>3</td>\n",
       "      <td>0</td>\n",
       "      <td>1900000</td>\n",
       "      <td>600000</td>\n",
       "      <td>4</td>\n",
       "      <td>-10.285714</td>\n",
       "      <td>23.285714</td>\n",
       "      <td>8.714286</td>\n",
       "      <td>0.374233</td>\n",
       "    </tr>\n",
       "    <tr>\n",
       "      <th>2</th>\n",
       "      <td>HarvardX/CB22x/2013_Spring</td>\n",
       "      <td>1</td>\n",
       "      <td>0</td>\n",
       "      <td>0</td>\n",
       "      <td>United States</td>\n",
       "      <td>NaN</td>\n",
       "      <td>NaN</td>\n",
       "      <td>NaN</td>\n",
       "      <td>0</td>\n",
       "      <td>70</td>\n",
       "      <td>...</td>\n",
       "      <td>NaN</td>\n",
       "      <td>3</td>\n",
       "      <td>0</td>\n",
       "      <td>1900000</td>\n",
       "      <td>600000</td>\n",
       "      <td>7</td>\n",
       "      <td>-3.571429</td>\n",
       "      <td>23.285714</td>\n",
       "      <td>0.571429</td>\n",
       "      <td>0.024540</td>\n",
       "    </tr>\n",
       "    <tr>\n",
       "      <th>3</th>\n",
       "      <td>HarvardX/ER22x/2013_Spring</td>\n",
       "      <td>1</td>\n",
       "      <td>0</td>\n",
       "      <td>0</td>\n",
       "      <td>United States</td>\n",
       "      <td>NaN</td>\n",
       "      <td>NaN</td>\n",
       "      <td>NaN</td>\n",
       "      <td>0</td>\n",
       "      <td>17</td>\n",
       "      <td>...</td>\n",
       "      <td>NaN</td>\n",
       "      <td>2</td>\n",
       "      <td>0</td>\n",
       "      <td>500000000</td>\n",
       "      <td>500000</td>\n",
       "      <td>7</td>\n",
       "      <td>-1.285714</td>\n",
       "      <td>20.571429</td>\n",
       "      <td>14.571429</td>\n",
       "      <td>0.708333</td>\n",
       "    </tr>\n",
       "    <tr>\n",
       "      <th>4</th>\n",
       "      <td>HarvardX/ER22x/2013_Spring</td>\n",
       "      <td>1</td>\n",
       "      <td>0</td>\n",
       "      <td>0</td>\n",
       "      <td>United States</td>\n",
       "      <td>NaN</td>\n",
       "      <td>NaN</td>\n",
       "      <td>NaN</td>\n",
       "      <td>0</td>\n",
       "      <td>32</td>\n",
       "      <td>...</td>\n",
       "      <td>NaN</td>\n",
       "      <td>3</td>\n",
       "      <td>0</td>\n",
       "      <td>500000000</td>\n",
       "      <td>500000</td>\n",
       "      <td>2</td>\n",
       "      <td>15.000000</td>\n",
       "      <td>20.571429</td>\n",
       "      <td>15.000000</td>\n",
       "      <td>0.729167</td>\n",
       "    </tr>\n",
       "  </tbody>\n",
       "</table>\n",
       "<p>5 rows × 21 columns</p>\n",
       "</div>"
      ],
      "text/plain": [
       "                    course_id  viewed  explored  certified final_cc_cname_DI  \\\n",
       "0   HarvardX/PH207x/2012_Fall       1         1          0     United States   \n",
       "1  HarvardX/CB22x/2013_Spring       1         0          0            France   \n",
       "2  HarvardX/CB22x/2013_Spring       1         0          0     United States   \n",
       "3  HarvardX/ER22x/2013_Spring       1         0          0     United States   \n",
       "4  HarvardX/ER22x/2013_Spring       1         0          0     United States   \n",
       "\n",
       "  LoE_DI  YoB gender grade  nevents        ...          nplay_video  \\\n",
       "0    NaN  NaN    NaN     0      502        ...                   50   \n",
       "1    NaN  NaN    NaN     0       42        ...                  NaN   \n",
       "2    NaN  NaN    NaN     0       70        ...                  NaN   \n",
       "3    NaN  NaN    NaN     0       17        ...                  NaN   \n",
       "4    NaN  NaN    NaN     0       32        ...                  NaN   \n",
       "\n",
       "   nchapters  nforum_posts    subject  instructor  no_courses  regis_to_start  \\\n",
       "0         12             0   10000000      366000          15       -4.000000   \n",
       "1          3             0    1900000      600000           4      -10.285714   \n",
       "2          3             0    1900000      600000           7       -3.571429   \n",
       "3          2             0  500000000      500000           7       -1.285714   \n",
       "4          3             0  500000000      500000           2       15.000000   \n",
       "\n",
       "   course_duration  last_event_to_launch  presence/duration  \n",
       "0        15.714286             31.857143           2.027273  \n",
       "1        23.285714              8.714286           0.374233  \n",
       "2        23.285714              0.571429           0.024540  \n",
       "3        20.571429             14.571429           0.708333  \n",
       "4        20.571429             15.000000           0.729167  \n",
       "\n",
       "[5 rows x 21 columns]"
      ]
     },
     "execution_count": 16,
     "metadata": {},
     "output_type": "execute_result"
    }
   ],
   "source": [
    "df_out.head()"
   ]
  },
  {
   "cell_type": "markdown",
   "metadata": {},
   "source": [
    "## The following histograms show that there is a clear difference between those who viewed some of course content and those who didn't view any, in terms of when they last visited the course page. "
   ]
  },
  {
   "cell_type": "code",
   "execution_count": 9,
   "metadata": {
    "collapsed": false
   },
   "outputs": [
    {
     "data": {
      "image/png": "[encoded data removed]",
      "text/plain": [
       "<matplotlib.figure.Figure at 0x7f3b0dfb73d0>"
      ]
     },
     "metadata": {},
     "output_type": "display_data"
    }
   ],
   "source": [
    "x = df_out[df_out['viewed'] == 1]\n",
    "x.index = arange(len(x))\n",
    "\n",
    "y = df_out[df_out['viewed'] == 0]\n",
    "y.index = arange(len(y))\n",
    "\n",
    "#max_data = np.r_[x['last_event_to_launch'], y['last_event_to_launch']].max()\n",
    "#bins = np.linspace(0, max_data, max_data + 1)\n",
    "plt.xlabel('last visit to course relative to course launch in weeks', fontsize = 'xx-large')\n",
    "\n",
    "\n",
    "plt.hist(x['last_event_to_launch'], 20,label='viewed')\n",
    "plt.legend(loc='upper center', shadow=True)\n",
    "\n",
    "plt.hist(y['last_event_to_launch'], 20, label='not viewed')\n",
    "plt.legend(loc='upper left', shadow=True)\n",
    "\n",
    "#plt.savefig('last_to_launch.eps', format='eps')\n",
    "\n",
    "plt.show()"
   ]
  },
  {
   "cell_type": "code",
   "execution_count": 16,
   "metadata": {
    "collapsed": false
   },
   "outputs": [
    {
     "data": {
      "text/plain": [
       "Index([u'course_id', u'viewed', u'explored', u'certified',\n",
       "       u'final_cc_cname_DI', u'LoE_DI', u'YoB', u'gender', u'grade',\n",
       "       u'nevents', u'ndays_act', u'nplay_video', u'nchapters', u'nforum_posts',\n",
       "       u'subject', u'instructor', u'no_courses', u'regis_to_start',\n",
       "       u'course_duration', u'last_event_to_launch', u'presence/duration'],\n",
       "      dtype='object')"
      ]
     },
     "execution_count": 16,
     "metadata": {},
     "output_type": "execute_result"
    }
   ],
   "source": [
    "x.columns"
   ]
  },
  {
   "cell_type": "markdown",
   "metadata": {},
   "source": [
    "#pie charts"
   ]
  },
  {
   "cell_type": "code",
   "execution_count": 17,
   "metadata": {
    "collapsed": false,
    "scrolled": true
   },
   "outputs": [
    {
     "data": {
      "image/png": "[encoded data removed]",
      "text/plain": [
       "<matplotlib.figure.Figure at 0x7f3c42033490>"
      ]
     },
     "metadata": {},
     "output_type": "display_data"
    }
   ],
   "source": [
    "from matplotlib import pyplot as plt\n",
    "from matplotlib import font_manager as fm\n",
    "\n",
    "fig = plt.figure(1, figsize=(6,6))\n",
    "ax = fig.add_axes([0.9, 0.1, 0.8, 0.8])\n",
    "\n",
    "labels = 'viewed but not certified', 'not viewed', 'viewed & certified'\n",
    "fracs = [69, 27, 4]\n",
    "colors = ['greenyellow', 'cyan', 'red']\n",
    "\n",
    "\n",
    "patches, texts, autotexts = ax.pie(fracs,colors=colors, labels = labels, autopct='%1.0f%%')\n",
    "\n",
    "proptease = fm.FontProperties()\n",
    "proptease.set_size('xx-large')\n",
    "plt.setp(autotexts, fontproperties=proptease)\n",
    "plt.setp(texts, fontproperties=proptease)\n",
    "#plt.savefig('pie.png', format='png', orientation='vertical')\n",
    "plt.show()"
   ]
  },
  {
   "cell_type": "markdown",
   "metadata": {},
   "source": [
    "# Drop rate vs weeks in course: \n",
    "This graph shows the percentage of students who churn the course (out of all who are active at that week) as a function of weeks into the course, averaged over all courses. It shows that the drop rate decreases as courses proceed. "
   ]
  },
  {
   "cell_type": "code",
   "execution_count": 18,
   "metadata": {
    "collapsed": false
   },
   "outputs": [
    {
     "data": {
      "image/png": "[encoded data removed]",
      "text/plain": [
       "<matplotlib.figure.Figure at 0x7f3c427030d0>"
      ]
     },
     "metadata": {},
     "output_type": "display_data"
    }
   ],
   "source": [
    "courses = df_out['course_id'].unique()\n",
    "x = linspace(1, 10, 10)\n",
    "\n",
    "st = [0 for i in xrange(10)]\n",
    "for c in courses:\n",
    "    df_course = df_out[df_out['course_id'] == c]\n",
    "    df_course = df_course[df_course['regis_to_start'] <= 0] # only those who registered before the course started\n",
    "    df_course.index = arange(df_course.shape[0])\n",
    "    n_students = []\n",
    "    for wk in xrange(10):\n",
    "        all_after = df_course[df_course['last_event_to_launch'] >= wk]\n",
    "        #temp = df_course[df_course['last_event_to_launch'] >= wk]\n",
    "        #temp = temp[temp['last_event_to_launch'] < wk+1]\n",
    "        temp = all_after[all_after['last_event_to_launch'] < wk+1]\n",
    "        n_students.append(len(temp)/float(all_after.shape[0]))\n",
    "\n",
    "    st = np.add(st, n_students)    \n",
    "        \n",
    "plt.xlabel('weeks into the course', fontsize = 'xx-large')\n",
    "plt.ylabel('drop rate in each week', fontsize = 'xx-large')\n",
    "\n",
    "plt.bar(x, st/10.);"
   ]
  },
  {
   "cell_type": "markdown",
   "metadata": {},
   "source": [
    "### The following shows that certification rate is highest for those who register close to course launch date, after which it rapidly falls down. This is possibly due to the fact that, once registered late, it is harder to catch up in online courses where students are more or less on their own. The course view rate, however, remains constant after course starts. \n",
    "note: Studies have shown that synchronizing student registration and course launch is a big challenge in mooc.  "
   ]
  },
  {
   "cell_type": "code",
   "execution_count": 111,
   "metadata": {
    "collapsed": false
   },
   "outputs": [
    {
     "data": {
      "image/png": "[encoded data removed]",
      "text/plain": [
       "<matplotlib.figure.Figure at 0x7f3c42e2a750>"
      ]
     },
     "metadata": {},
     "output_type": "display_data"
    }
   ],
   "source": [
    "end = 20 \n",
    "    \n",
    "out2 = []\n",
    "out4 = []\n",
    "for wk in np.linspace(-15, 15, 51):#xrange(-end, end/2, 2):\n",
    "    #temp = df_out[df_out['regis_to_start'] < wk]\n",
    "    temp = df[df['regis_to_start'] < wk]\n",
    "    \n",
    "    temp = temp[temp['regis_to_start'] >= wk-1]\n",
    "    out2.append(sum(temp['viewed'] == 1)/float(temp.shape[0]))\n",
    "    #out3.append(2*sum(temp['explored'] == 1)/float(temp.shape[0]))\n",
    "    out4.append(sum(temp['certified'] == 1)/float(temp.shape[0]))\n",
    "        \n",
    "#plot\n",
    "#plt.subplot(121)\n",
    "sns.set_style('white')\n",
    "\n",
    "plt.xlim([-15,10])\n",
    "#plt.ylabel('Enrollment')\n",
    "plt.xlabel('Enrollment relative to launch')\n",
    "#plt.hist(df['regis_to_start'], 70);\n",
    "\n",
    "\n",
    "#plt.subplot(122)\n",
    "\n",
    "plt.plot(np.linspace(-15, 10, 51), out2, label=\"course view rate\")\n",
    "#plt.plot(np.linspace(-15, 15, 51), out3, label=\"explored (*2)\")\n",
    "plt.plot(np.linspace(-15, 15, 51), out4, label=\"certification rate \", color='r')\n",
    "#plt.ylim([0, .08])\n",
    "\n",
    "plt.xlabel('Enrollment date relative to course launch (weeks)',  fontsize = 'xx-large')\n",
    "plt.ylabel('Engagement rates', fontsize = 'xx-large')\n",
    "plt.legend(loc=\"upper left\", fontsize = 'xx-large')\n",
    "plt.axvline(x=0.0, ymin=0, ymax = 1, linewidth=1, color='k');\n",
    "#plt.savefig('engagement.eps', format='eps')\n",
    "\n",
    "\n",
    "#plt.show()\n",
    "#print \"!USE THIS TO CLAIM: ENROLLMENT MUST BE OPEN NO EARLIER THAN FEW WEEKS BEFORE THE LAUNCH.\""
   ]
  },
  {
   "cell_type": "markdown",
   "metadata": {},
   "source": [
    "## Engagement rates for students registring before and after course launch:"
   ]
  },
  {
   "cell_type": "code",
   "execution_count": 96,
   "metadata": {
    "collapsed": false
   },
   "outputs": [
    {
     "name": "stdout",
     "output_type": "stream",
     "text": [
      "Registration before and after course launch: 48%, 51%.\n"
     ]
    }
   ],
   "source": [
    "#Dsitribution of student registration before and after lanuch: \n",
    "regis_before = [df_out['regis_to_start'][i] for i in xrange(df_out.shape[0]) if df_out['regis_to_start'][i] <= 0]\n",
    "print \"Registration before and after course launch: %d%%, %d%%.\" % (100.*len(regis_before)/len(df_out['viewed']), 100 - 100.*len(regis_before)/len(df_out['viewed']))"
   ]
  },
  {
   "cell_type": "code",
   "execution_count": 99,
   "metadata": {
    "collapsed": false
   },
   "outputs": [
    {
     "name": "stdout",
     "output_type": "stream",
     "text": [
      "Certification rate before and after course launch: 5.4%, 2.6%.\n"
     ]
    }
   ],
   "source": [
    "#certification rate before and after course started:\n",
    "before = [df_out['certified'][i] for i in xrange(df_out.shape[0]) if df_out['regis_to_start'][i] <= 0]\n",
    "after = [df_out['certified'][i] for i in xrange(df_out.shape[0]) if df_out['regis_to_start'][i] > 0]\n",
    "\n",
    "print \"Certification rate before and after course launch: %.1f%%, %.1f%%.\" % (100*mean(before), 100*mean(after)) #(100*mean(before)/mean(df_out['certified'])-100)"
   ]
  },
  {
   "cell_type": "code",
   "execution_count": 100,
   "metadata": {
    "collapsed": false
   },
   "outputs": [
    {
     "name": "stdout",
     "output_type": "stream",
     "text": [
      "View rate before and after course launch: 65.0%, 79.3%.\n"
     ]
    }
   ],
   "source": [
    "#View rate for those who registered before course started:\n",
    "view_before = [df_out['viewed'][i] for i in xrange(df_out.shape[0]) if df_out['regis_to_start'][i] <= 0]\n",
    "view_after = [df_out['viewed'][i] for i in xrange(df_out.shape[0]) if df_out['regis_to_start'][i] > 0]\n",
    "\n",
    "print \"View rate before and after course launch: %.1f%%, %.1f%%.\" % (100*mean(view_before), 100*mean(view_after))  "
   ]
  },
  {
   "cell_type": "markdown",
   "metadata": {},
   "source": [
    "### These (above) suggest that, while students registration is distributed about equally before and after course launch, those registring before are *twice more likely to be certified*. \n",
    "\n",
    "### It also shows that view rate is even higher among those registered after course launch. Since viewing the course content is a desirable activity that open courses are generally designed to support, it is therefore important to keep course registration open and fluid allowing students to register for the course anytime.   "
   ]
  },
  {
   "cell_type": "code",
   "execution_count": 84,
   "metadata": {
    "collapsed": false
   },
   "outputs": [
    {
     "data": {
      "image/png": "[encoded data removed]",
      "text/plain": [
       "<matplotlib.figure.Figure at 0x7f7546937690>"
      ]
     },
     "metadata": {},
     "output_type": "display_data"
    }
   ],
   "source": [
    "N = 16\n",
    "menMeans   = count.values() \n",
    "ind = np.arange(N)   \n",
    "width = 0.55       \n",
    "\n",
    "p1 = plt.barh(ind, menMeans,   width, color='g')\n",
    "\n",
    "plt.xlabel('Number of registrants')\n",
    "plt.yticks(ind+width/2., count.keys(),rotation=00)\n",
    "\n",
    "plt.show()"
   ]
  },
  {
   "cell_type": "code",
   "execution_count": null,
   "metadata": {
    "collapsed": true
   },
   "outputs": [],
   "source": []
  }
 ],
 "metadata": {
  "kernelspec": {
   "display_name": "Python 2",
   "language": "python",
   "name": "python2"
  },
  "language_info": {
   "codemirror_mode": {
    "name": "ipython",
    "version": 2
   },
   "file_extension": ".py",
   "mimetype": "text/x-python",
   "name": "python",
   "nbconvert_exporter": "python",
   "pygments_lexer": "ipython2",
   "version": "2.7.6"
  }
 },
 "nbformat": 4,
 "nbformat_minor": 0
}
